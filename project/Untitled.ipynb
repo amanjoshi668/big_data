{
 "cells": [
  {
   "cell_type": "code",
   "execution_count": 1,
   "metadata": {
    "ExecuteTime": {
     "end_time": "2019-04-01T11:02:35.390098Z",
     "start_time": "2019-04-01T11:02:29.987127Z"
    }
   },
   "outputs": [],
   "source": [
    "import re\n",
    "import nltk\n",
    "from nltk.corpus import gutenberg, nps_chat\n",
    "import eventregistry\n",
    "from nltk.tokenize import RegexpTokenizer\n",
    "import string"
   ]
  },
  {
   "cell_type": "code",
   "execution_count": 2,
   "metadata": {
    "ExecuteTime": {
     "end_time": "2019-04-01T11:02:36.164195Z",
     "start_time": "2019-04-01T11:02:35.392273Z"
    }
   },
   "outputs": [
    {
     "name": "stderr",
     "output_type": "stream",
     "text": [
      "[nltk_data] Downloading package gutenberg to /home/aman/nltk_data...\n",
      "[nltk_data]   Package gutenberg is already up-to-date!\n"
     ]
    },
    {
     "data": {
      "text/plain": [
       "True"
      ]
     },
     "execution_count": 2,
     "metadata": {},
     "output_type": "execute_result"
    }
   ],
   "source": [
    "nltk.download('gutenberg')"
   ]
  },
  {
   "cell_type": "code",
   "execution_count": 3,
   "metadata": {
    "ExecuteTime": {
     "end_time": "2019-04-01T11:02:36.538120Z",
     "start_time": "2019-04-01T11:02:36.173614Z"
    }
   },
   "outputs": [
    {
     "name": "stderr",
     "output_type": "stream",
     "text": [
      "[nltk_data] Downloading package punkt to /home/aman/nltk_data...\n",
      "[nltk_data]   Package punkt is already up-to-date!\n"
     ]
    },
    {
     "data": {
      "text/plain": [
       "True"
      ]
     },
     "execution_count": 3,
     "metadata": {},
     "output_type": "execute_result"
    }
   ],
   "source": [
    "nltk.download('punkt')"
   ]
  },
  {
   "cell_type": "markdown",
   "metadata": {},
   "source": [
    "### Article Links\n",
    "1. https://www.firstpost.com/india/rescue-of-179-nepali-nationals-throws-spotlight-on-human-trafficking-in-a-border-town-in-manipur-6173341.html\n",
    "2. https://www.ndtv.com/india-news/manipur-police-rescue-130-in-ongoing-anti-human-trafficking-operation-1987440\n",
    "3. https://www.anglicannews.org/news/2019/02/us-churches-fight-human-trafficking-at-super-bowl-as-police-rescue-four-victims.aspx"
   ]
  },
  {
   "cell_type": "markdown",
   "metadata": {},
   "source": [
    "## Resources\n",
    "1. https://medium.com/@datamonsters/text-preprocessing-in-python-steps-tools-and-examples-bf025f872908"
   ]
  },
  {
   "cell_type": "code",
   "execution_count": 4,
   "metadata": {
    "ExecuteTime": {
     "end_time": "2019-04-01T11:02:44.602245Z",
     "start_time": "2019-04-01T11:02:44.457727Z"
    }
   },
   "outputs": [],
   "source": [
    "f = open(\"./test_Article.txt\", \"r\")\n",
    "text = f.read()"
   ]
  },
  {
   "cell_type": "code",
   "execution_count": 5,
   "metadata": {
    "ExecuteTime": {
     "end_time": "2019-04-01T11:02:45.195696Z",
     "start_time": "2019-04-01T11:02:45.178598Z"
    }
   },
   "outputs": [
    {
     "name": "stdout",
     "output_type": "stream",
     "text": [
      "Guwahati (Assam): \n",
      "\n",
      "As many as 183 people -- 32 men and 151 women -- have been rescued in an ongoing crackdown on an international human trafficking racket in the Northeast, Manipur police said today. Police personnel are still conducting raids across the region, including Imphal, and eight people have been arrested so far.\n",
      "\n",
      "Police said they rescued 40 Nepalese women and arrested a trafficker who was accompanying them from Moreh in Tengnoupal district, bordering Myanmar, after receiving a tip-off on Friday. The women were believed to be on their way to various cities across South Asia and the Middle East through the neighbouring country.\n",
      "\n",
      "The arrested man was identified as 42-year-old Asha Kali Tamang, a resident of Sindhupalchok in Nepal. This operation led to further raids and rescue operations in Moreh, sources in the Manipur police said. A combined team of commandos and police personnel raided hotels at Moreh town, bordering Myanmar in Tengnoupal district, rescuing five women and 15 men.\n",
      "\n",
      "\"They appear to have a very wide network, complete with local linkmen. We have also been informed about other modules in neighbouring countries. Finding out the extent of their network will require further investigation,\" Manipur Director General of Police LM Khaute told NDTV over the phone from Imphal.\n",
      "\n",
      "Police said the trafficking racket first came to light when Bishwoi Khadka, the chairperson of an NGO called Maiti Nepal, alerted the Impulse NGO Network in Shillong to the issue. They, in turn, contacted their Manipur partner -- L Pishak Singh of Network Lifeline Foundation -- who then alerted the police in Imphal.\n",
      "\n",
      "One rescue mission led to another, and over 80 men and women were rescued from various hotels in the region on Friday. Twenty more were taken into custody the next day.\n",
      "\n",
      "\"Trafficking through this route is not new. In the past, we have rescued Northeastern girls with the help of the Indian embassy,\" Hasina Kharbhih of the Impulse NGO Network told NDTV.  \n",
      "1 COMMENT\n",
      "\n",
      "Police said records from the last four months reveal that at least 150 women had crossed over to Myanmar on tourist visas. In the light of recent events, they believe there is every chance that they were trafficked.\n",
      "\n"
     ]
    }
   ],
   "source": [
    "print(text)"
   ]
  },
  {
   "cell_type": "markdown",
   "metadata": {},
   "source": [
    "## Rules"
   ]
  },
  {
   "cell_type": "code",
   "execution_count": 6,
   "metadata": {
    "ExecuteTime": {
     "end_time": "2019-04-01T11:02:50.591487Z",
     "start_time": "2019-04-01T11:02:50.581975Z"
    }
   },
   "outputs": [],
   "source": [
    "text = text.lower()  ## converting to lower\n",
    "text = text.translate(string.punctuation)  ## Removing punctuation\n",
    "text = text.translate(str.maketrans(\"\", \"\", string.punctuation))\n",
    "text = text.strip()  ## Remove whitespace"
   ]
  },
  {
   "cell_type": "code",
   "execution_count": 7,
   "metadata": {
    "ExecuteTime": {
     "end_time": "2019-04-01T11:02:51.315743Z",
     "start_time": "2019-04-01T11:02:51.309885Z"
    }
   },
   "outputs": [
    {
     "data": {
      "text/plain": [
       "'guwahati assam as many as 183 people  32 men and 151 women  have been rescued in an ongoing crackdown on an international human trafficking racket in the northeast manipur police said today police personnel are still conducting raids across the region including imphal and eight people have been arrested so farpolice said they rescued 40 nepalese women and arrested a trafficker who was accompanying them from moreh in tengnoupal district bordering myanmar after receiving a tipoff on friday the women were believed to be on their way to various cities across south asia and the middle east through the neighbouring countrythe arrested man was identified as 42yearold asha kali tamang a resident of sindhupalchok in nepal this operation led to further raids and rescue operations in moreh sources in the manipur police said a combined team of commandos and police personnel raided hotels at moreh town bordering myanmar in tengnoupal district rescuing five women and 15 menthey appear to have a very wide network complete with local linkmen we have also been informed about other modules in neighbouring countries finding out the extent of their network will require further investigation manipur director general of police lm khaute told ndtv over the phone from imphalpolice said the trafficking racket first came to light when bishwoi khadka the chairperson of an ngo called maiti nepal alerted the impulse ngo network in shillong to the issue they in turn contacted their manipur partner  l pishak singh of network lifeline foundation  who then alerted the police in imphalone rescue mission led to another and over 80 men and women were rescued from various hotels in the region on friday twenty more were taken into custody the next daytrafficking through this route is not new in the past we have rescued northeastern girls with the help of the indian embassy hasina kharbhih of the impulse ngo network told ndtv  1 commentpolice said records from the last four months reveal that at least 150 women had crossed over to myanmar on tourist visas in the light of recent events they believe there is every chance that they were trafficked'"
      ]
     },
     "execution_count": 7,
     "metadata": {},
     "output_type": "execute_result"
    }
   ],
   "source": [
    "text"
   ]
  },
  {
   "cell_type": "code",
   "execution_count": 8,
   "metadata": {
    "ExecuteTime": {
     "end_time": "2019-04-01T11:02:52.231398Z",
     "start_time": "2019-04-01T11:02:52.160390Z"
    }
   },
   "outputs": [
    {
     "data": {
      "text/plain": [
       "['42']"
      ]
     },
     "execution_count": 8,
     "metadata": {},
     "output_type": "execute_result"
    }
   ],
   "source": [
    "tokens = nltk.word_tokenize(text)\n",
    "re.findall(\" (\\d+) year old\", text)\n",
    "re.findall(\" (\\d+)year old\", text)\n",
    "re.findall(\" (\\d+) years old\", text)\n",
    "re.findall(\" (\\d+)yearsold\", text)\n",
    "re.findall(\" (\\d+)yearold\", text)"
   ]
  },
  {
   "cell_type": "code",
   "execution_count": 9,
   "metadata": {
    "ExecuteTime": {
     "end_time": "2019-04-01T11:02:55.021691Z",
     "start_time": "2019-04-01T11:02:55.008517Z"
    }
   },
   "outputs": [],
   "source": [
    "ages = []\n",
    "people_involved_count = []\n",
    "women_involved_count = []\n",
    "men_involved_count = []\n",
    "accused_count = []\n",
    "rescued_count = []\n",
    "nation_list = []"
   ]
  },
  {
   "cell_type": "code",
   "execution_count": 10,
   "metadata": {
    "ExecuteTime": {
     "end_time": "2019-04-01T11:02:59.951024Z",
     "start_time": "2019-04-01T11:02:59.934206Z"
    }
   },
   "outputs": [],
   "source": [
    "### Rule1 to find year\n",
    "tokens = nltk.word_tokenize(text)\n",
    "ages = ages + re.findall(\" (\\d+)-year-old\", text)"
   ]
  },
  {
   "cell_type": "code",
   "execution_count": 11,
   "metadata": {
    "ExecuteTime": {
     "end_time": "2019-04-01T11:03:01.029685Z",
     "start_time": "2019-04-01T11:03:00.990884Z"
    }
   },
   "outputs": [],
   "source": [
    "### Rule2 to find no of people involved\n",
    "people_involved_count += re.findall(\" against (\\d+) people\", text)\n",
    "people_involved_count += re.findall(\"(\\d+) men and women \")"
   ]
  },
  {
   "cell_type": "code",
   "execution_count": 12,
   "metadata": {
    "ExecuteTime": {
     "end_time": "2019-04-01T11:03:01.912020Z",
     "start_time": "2019-04-01T11:03:01.900642Z"
    }
   },
   "outputs": [],
   "source": [
    "### Rule 3 Women\n",
    "women_involved_count += re.findall(\" (\\d+) women\", text)"
   ]
  },
  {
   "cell_type": "code",
   "execution_count": 54,
   "metadata": {
    "ExecuteTime": {
     "end_time": "2019-03-18T12:27:53.981966Z",
     "start_time": "2019-03-18T12:27:53.960130Z"
    }
   },
   "outputs": [],
   "source": [
    "### Rule 4 Men\n",
    "men_involved_count += re.findall(\" (\\d+) men\", text)"
   ]
  },
  {
   "cell_type": "code",
   "execution_count": 60,
   "metadata": {
    "ExecuteTime": {
     "end_time": "2019-03-18T12:28:02.382769Z",
     "start_time": "2019-03-18T12:28:02.369444Z"
    }
   },
   "outputs": [],
   "source": [
    "### Rule 5 Men\n",
    "accused_count += re.findall(\" (\\d+) accused\", text)"
   ]
  },
  {
   "cell_type": "code",
   "execution_count": 56,
   "metadata": {
    "ExecuteTime": {
     "end_time": "2019-03-18T12:27:54.291846Z",
     "start_time": "2019-03-18T12:27:54.281472Z"
    }
   },
   "outputs": [],
   "source": [
    "### Rule 6 Accused\n",
    "accused_count += re.findall(\" (\\d+) arrested\", text)\n",
    "accused_count += re.findall(\" arrested (\\d+) \", text)"
   ]
  },
  {
   "cell_type": "code",
   "execution_count": 57,
   "metadata": {
    "ExecuteTime": {
     "end_time": "2019-03-18T12:27:54.465598Z",
     "start_time": "2019-03-18T12:27:54.460457Z"
    }
   },
   "outputs": [],
   "source": [
    "### Rule 7 Accused\n",
    "rescued_count += re.findall(\" (\\d+) victims\", text)\n",
    "# re.findall(\" victims (\\d+) \", text)"
   ]
  },
  {
   "cell_type": "code",
   "execution_count": 58,
   "metadata": {
    "ExecuteTime": {
     "end_time": "2019-03-18T12:27:55.088573Z",
     "start_time": "2019-03-18T12:27:55.078569Z"
    }
   },
   "outputs": [],
   "source": [
    "### Rule 8 Women saved\n",
    "rescued_count += re.findall(\"rescued (\\d+) women \", text)"
   ]
  },
  {
   "cell_type": "code",
   "execution_count": 59,
   "metadata": {
    "ExecuteTime": {
     "end_time": "2019-03-18T12:27:55.948605Z",
     "start_time": "2019-03-18T12:27:55.696164Z"
    }
   },
   "outputs": [],
   "source": [
    "### Rule 8 Nation\n",
    "nation_list += re.findall(\" (\\d+) (.*) women \", text)"
   ]
  },
  {
   "cell_type": "markdown",
   "metadata": {},
   "source": [
    "## key words"
   ]
  },
  {
   "cell_type": "code",
   "execution_count": 21,
   "metadata": {
    "ExecuteTime": {
     "end_time": "2019-03-18T10:44:28.517441Z",
     "start_time": "2019-03-18T10:44:28.513898Z"
    }
   },
   "outputs": [
    {
     "data": {
      "text/plain": [
       "['prostitution', 'porn', 'adult entertainment']"
      ]
     },
     "execution_count": 21,
     "metadata": {},
     "output_type": "execute_result"
    }
   ],
   "source": [
    "['prostitution', 'porn', 'adult entertainment']"
   ]
  },
  {
   "cell_type": "code",
   "execution_count": 22,
   "metadata": {
    "ExecuteTime": {
     "end_time": "2019-03-18T10:44:38.737784Z",
     "start_time": "2019-03-18T10:44:37.627917Z"
    }
   },
   "outputs": [
    {
     "name": "stdout",
     "output_type": "stream",
     "text": [
      "using user provided API key for making requests\n",
      "Event Registry host: http://eventregistry.org\n",
      "Text analytics host: http://analytics.eventregistry.org\n"
     ]
    }
   ],
   "source": [
    "import eventregistry as ER\n",
    "er = ER.EventRegistry(apiKey=\"a2f631d3-998d-49f1-bdf2-1570cefd5058\")\n",
    "analytics = ER.Analytics(er)\n",
    "ann = analytics.categorize(text)"
   ]
  },
  {
   "cell_type": "code",
   "execution_count": 1,
   "metadata": {
    "ExecuteTime": {
     "end_time": "2019-04-12T21:30:06.047103Z",
     "start_time": "2019-04-12T21:30:05.651768Z"
    }
   },
   "outputs": [],
   "source": [
    "import requests\n",
    "\n",
    "URL = 'https://www.google.com/search?pz=1&cf=all&ned=us&hl=en&tbm=nws&gl=us&as_q={query}&as_occt=any&as_drrb=b&as_mindate={month}%2F%{from_day}%2F{year}&as_maxdate={month}%2F{to_day}%2F{year}&tbs=cdr%3A1%2Ccd_min%3A3%2F1%2F13%2Ccd_max%3A3%2F2%2F13&as_nsrc=Gulf%20Times&authuser=0'\n",
    "\n",
    "\n",
    "def run(**params):\n",
    "    response = requests.get(URL.format(**params))\n",
    "    return response.content\n",
    "\n",
    "\n",
    "result = run(query=\"Egypt\", month=3, from_day=2, to_day=2, year=13)"
   ]
  },
  {
   "cell_type": "code",
   "execution_count": null,
   "metadata": {},
   "outputs": [],
   "source": []
  }
 ],
 "metadata": {
  "kernelspec": {
   "display_name": "Python 3",
   "language": "python",
   "name": "python3"
  },
  "language_info": {
   "codemirror_mode": {
    "name": "ipython",
    "version": 3
   },
   "file_extension": ".py",
   "mimetype": "text/x-python",
   "name": "python",
   "nbconvert_exporter": "python",
   "pygments_lexer": "ipython3",
   "version": "3.6.8"
  },
  "latex_envs": {
   "LaTeX_envs_menu_present": true,
   "autoclose": false,
   "autocomplete": true,
   "bibliofile": "biblio.bib",
   "cite_by": "apalike",
   "current_citInitial": 1,
   "eqLabelWithNumbers": true,
   "eqNumInitial": 1,
   "hotkeys": {
    "equation": "Ctrl-E",
    "itemize": "Ctrl-I"
   },
   "labels_anchors": false,
   "latex_user_defs": false,
   "report_style_numbering": false,
   "user_envs_cfg": false
  }
 },
 "nbformat": 4,
 "nbformat_minor": 2
}
