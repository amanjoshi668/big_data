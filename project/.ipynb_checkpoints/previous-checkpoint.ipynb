{
 "cells": [
  {
   "cell_type": "code",
   "execution_count": 1,
   "metadata": {
    "ExecuteTime": {
     "end_time": "2019-02-28T14:55:24.830026Z",
     "start_time": "2019-02-28T14:55:22.766067Z"
    }
   },
   "outputs": [],
   "source": [
    "from Giveme5W1H.extractor.document import Document\n",
    "from Giveme5W1H.extractor.extractor import MasterExtractor\n",
    "from newsplease import NewsPlease\n",
    "import logging\n",
    "# from Giveme5W1H.extractor.preprocessors.preprocessor_core_nlp import Preprocessor"
   ]
  },
  {
   "cell_type": "code",
   "execution_count": 17,
   "metadata": {
    "ExecuteTime": {
     "end_time": "2019-02-28T15:02:13.716936Z",
     "start_time": "2019-02-28T15:02:11.252748Z"
    }
   },
   "outputs": [],
   "source": [
    "news_url = 'http://www.xinhuanet.com/english/2019-02/28/c_137857860.htm'\n",
    "article = NewsPlease.from_url(news_url)"
   ]
  },
  {
   "cell_type": "code",
   "execution_count": 33,
   "metadata": {
    "ExecuteTime": {
     "end_time": "2019-02-28T15:12:38.403572Z",
     "start_time": "2019-02-28T15:12:38.380411Z"
    },
    "scrolled": true
   },
   "outputs": [
    {
     "name": "stdout",
     "output_type": "stream",
     "text": [
      "authors ###### []\n",
      "date_download ###### 2019-02-28 20:32:11\n",
      "date_modify ###### None\n",
      "date_publish ###### 2019-02-28 00:00:00\n",
      "description ###### None\n",
      "filename ###### http%3A%2F%2Fwww.xinhuanet.com%2Fenglish%2F2019-02%2F28%2Fc_137857860.htm.json\n",
      "image_url ###### http://www.xinhuanet.com/english/2019-02/28/c_137857860.htm\n",
      "language ###### None\n",
      "localpath ###### None\n",
      "source_domain ###### www.xinhuanet.com\n",
      "text ###### Source: Xinhua| 2019-02-28 17:09:31|Editor: ZX\n",
      "Video Player Close\n",
      "TOKYO, Feb. 28 (Xinhua) -- The number of reported human trafficking cases in Japan declined in 2018 amid intensified efforts by law enforcement agencies to crack down on businesses and syndicates involved in the exploitative activities.\n",
      "According to the National Police Agency (NPA), the number of reported cases of human trafficking dropped by 10 to 36 cases in the reporting year, and legal action was taken by police in cases involving 40 people involved in human trafficking.\n",
      "Japan legally defines human trafficking as \"the recruitment, transportation, transfer, harboring or receipt of persons by the threat or use of force or other forms of coercion for the purpose of exploitation.\"\n",
      "The official data also showed the number of victims, spanning those forced into prostitution, coerced into working in the adult entertainment industry and made to perform in pornographic videos under duress, dropped to 25 victims in 2018 from a year earlier.\n",
      "The data also showed that the majority of the victims of human trafficking in 2018 were from Japan, with 18 Japanese citizens identified, along with four and three nationals from the Philippines and Thailand respectively.\n",
      "The victims, according to the NPA, comprised mostly young women, with the youngest of them being identified as a 9-year-old girl.\n",
      "Among other arrests made, an executive at a company was apprehended for allegedly duping a 19-year-old girl who wanted to work as a fashion model into performing in pornographic videos for a salacious production company.\n",
      "The NPA said an increasing number of victims and would-be victims were being targeted through social networking sites and warned potential victims to be cautious.\n",
      "title ###### Reported cases of human trafficking in Japan decline in 2018\n",
      "title_page ###### None\n",
      "title_rss ###### None\n",
      "url ###### http://www.xinhuanet.com/english/2019-02/28/c_137857860.htm\n"
     ]
    }
   ],
   "source": [
    "date_publish = article.date_publish\n",
    "date_publish = '2016-11-10 07:44:00'\n",
    "title = str(article.title)\n",
    "lead = str(article.description)\n",
    "text = str(article.text)\n",
    "dic = article.get_dict()\n",
    "for k, v in dic.items():\n",
    "    print(k,\"######\", v)\n",
    "\n",
    "# title = \"Taliban attacks German consulate in northern Afghan city of Mazar-i-Sharif with truck bomb\"\n",
    "# lead = \"The death toll from a powerful Taliban truck bombing at the German consulate in Afghanistan's Mazar-i-Sharif city rose to at least six Friday, with more than 100 others wounded in a major militant assault.\"\n"
   ]
  },
  {
   "cell_type": "code",
   "execution_count": 19,
   "metadata": {
    "ExecuteTime": {
     "end_time": "2019-02-28T15:02:13.895107Z",
     "start_time": "2019-02-28T15:02:13.726120Z"
    }
   },
   "outputs": [
    {
     "name": "stdout",
     "output_type": "stream",
     "text": [
      "None\n"
     ]
    }
   ],
   "source": [
    "print(lead)"
   ]
  },
  {
   "cell_type": "code",
   "execution_count": 20,
   "metadata": {
    "ExecuteTime": {
     "end_time": "2019-02-28T15:02:28.226604Z",
     "start_time": "2019-02-28T15:02:13.906285Z"
    },
    "scrolled": false
   },
   "outputs": [
    {
     "name": "stderr",
     "output_type": "stream",
     "text": [
      "No extractors passed: initializing default configuration.\n",
      "No extractors passed: initializing default configuration.\n",
      "No extractors passed: initializing default configuration.\n",
      "No extractors passed: initializing default configuration.\n",
      "No combinedScorers passed: initializing default configuration.\n",
      "No combinedScorers passed: initializing default configuration.\n",
      "No combinedScorers passed: initializing default configuration.\n",
      "No combinedScorers passed: initializing default configuration.\n"
     ]
    },
    {
     "name": "stdout",
     "output_type": "stream",
     "text": [
      "here\n"
     ]
    },
    {
     "name": "stderr",
     "output_type": "stream",
     "text": [
      "/home/aman/anaconda3/lib/python3.6/site-packages/Giveme5W1H/examples/caches/Nominatim.prickle CACHED: Japan: 日本\n",
      "/home/aman/anaconda3/lib/python3.6/site-packages/Giveme5W1H/examples/caches/Nominatim.prickle CACHED: Japan: 日本\n",
      "/home/aman/anaconda3/lib/python3.6/site-packages/Giveme5W1H/examples/caches/Nominatim.prickle CACHED: Japan: 日本\n",
      "/home/aman/anaconda3/lib/python3.6/site-packages/Giveme5W1H/examples/caches/Nominatim.prickle CACHED: Japan: 日本\n",
      "/home/aman/anaconda3/lib/python3.6/site-packages/Giveme5W1H/examples/caches/Nominatim.prickle CACHED: TOKYO: 東京, 千代田区, 東京都, 関東地方, 100-0002, 日本\n",
      "/home/aman/anaconda3/lib/python3.6/site-packages/Giveme5W1H/examples/caches/Nominatim.prickle CACHED: TOKYO: 東京, 千代田区, 東京都, 関東地方, 100-0002, 日本\n",
      "/home/aman/anaconda3/lib/python3.6/site-packages/Giveme5W1H/examples/caches/Nominatim.prickle CACHED: TOKYO: 東京, 千代田区, 東京都, 関東地方, 100-0002, 日本\n",
      "/home/aman/anaconda3/lib/python3.6/site-packages/Giveme5W1H/examples/caches/Nominatim.prickle CACHED: TOKYO: 東京, 千代田区, 東京都, 関東地方, 100-0002, 日本\n",
      "/home/aman/anaconda3/lib/python3.6/site-packages/Giveme5W1H/examples/caches/Nominatim.prickle LOADED: Japan: [Location(日本, (36.5748441, 139.2394179, 0.0)), '1551366145.6618788']\n",
      "/home/aman/anaconda3/lib/python3.6/site-packages/Giveme5W1H/examples/caches/Nominatim.prickle LOADED: Japan: [Location(日本, (36.5748441, 139.2394179, 0.0)), '1551366145.6618788']\n",
      "/home/aman/anaconda3/lib/python3.6/site-packages/Giveme5W1H/examples/caches/Nominatim.prickle LOADED: Japan: [Location(日本, (36.5748441, 139.2394179, 0.0)), '1551366145.6618788']\n",
      "/home/aman/anaconda3/lib/python3.6/site-packages/Giveme5W1H/examples/caches/Nominatim.prickle LOADED: Japan: [Location(日本, (36.5748441, 139.2394179, 0.0)), '1551366145.6618788']\n",
      "/home/aman/anaconda3/lib/python3.6/site-packages/Giveme5W1H/examples/caches/Nominatim.prickle LOADED: Japan: [Location(日本, (36.5748441, 139.2394179, 0.0)), '1551366145.6618788']\n",
      "/home/aman/anaconda3/lib/python3.6/site-packages/Giveme5W1H/examples/caches/Nominatim.prickle LOADED: Japan: [Location(日本, (36.5748441, 139.2394179, 0.0)), '1551366145.6618788']\n",
      "/home/aman/anaconda3/lib/python3.6/site-packages/Giveme5W1H/examples/caches/Nominatim.prickle LOADED: Japan: [Location(日本, (36.5748441, 139.2394179, 0.0)), '1551366145.6618788']\n",
      "/home/aman/anaconda3/lib/python3.6/site-packages/Giveme5W1H/examples/caches/Nominatim.prickle LOADED: Japan: [Location(日本, (36.5748441, 139.2394179, 0.0)), '1551366145.6618788']\n",
      "/home/aman/anaconda3/lib/python3.6/site-packages/Giveme5W1H/examples/caches/Nominatim.prickle LOADED: Japan: [Location(日本, (36.5748441, 139.2394179, 0.0)), '1551366145.6618788']\n",
      "/home/aman/anaconda3/lib/python3.6/site-packages/Giveme5W1H/examples/caches/Nominatim.prickle LOADED: Japan: [Location(日本, (36.5748441, 139.2394179, 0.0)), '1551366145.6618788']\n",
      "/home/aman/anaconda3/lib/python3.6/site-packages/Giveme5W1H/examples/caches/Nominatim.prickle LOADED: Japan: [Location(日本, (36.5748441, 139.2394179, 0.0)), '1551366145.6618788']\n",
      "/home/aman/anaconda3/lib/python3.6/site-packages/Giveme5W1H/examples/caches/Nominatim.prickle LOADED: Japan: [Location(日本, (36.5748441, 139.2394179, 0.0)), '1551366145.6618788']\n",
      "/home/aman/anaconda3/lib/python3.6/site-packages/Giveme5W1H/examples/caches/Nominatim.prickle CACHED: Philippines and Thailand: Thailand, Greatland Subdivision, Fatima, San Pedro, Laguna, Calabarzon, 4023, Philippines\n",
      "/home/aman/anaconda3/lib/python3.6/site-packages/Giveme5W1H/examples/caches/Nominatim.prickle CACHED: Philippines and Thailand: Thailand, Greatland Subdivision, Fatima, San Pedro, Laguna, Calabarzon, 4023, Philippines\n",
      "/home/aman/anaconda3/lib/python3.6/site-packages/Giveme5W1H/examples/caches/Nominatim.prickle CACHED: Philippines and Thailand: Thailand, Greatland Subdivision, Fatima, San Pedro, Laguna, Calabarzon, 4023, Philippines\n",
      "/home/aman/anaconda3/lib/python3.6/site-packages/Giveme5W1H/examples/caches/Nominatim.prickle CACHED: Philippines and Thailand: Thailand, Greatland Subdivision, Fatima, San Pedro, Laguna, Calabarzon, 4023, Philippines\n"
     ]
    },
    {
     "name": "stdout",
     "output_type": "stream",
     "text": [
      "here\n",
      "WHO:    The number of reported human trafficking cases in Japan\n",
      "WHAT:   declined in 2018 amid intensified efforts\n",
      "WHEN:   a year earlier\n",
      "WHERE:  Japan\n",
      "WHY:    Japan\n",
      "HOW:    of human trafficking in Japan decline in 2018 .\n"
     ]
    }
   ],
   "source": [
    "log = logging.getLogger('GiveMe5W')\n",
    "log.setLevel(logging.DEBUG)\n",
    "sh = logging.StreamHandler()\n",
    "sh.setLevel(logging.DEBUG)\n",
    "log.addHandler(sh)\n",
    "extractor = MasterExtractor()\n",
    "Document()\n",
    "doc = Document(title, lead, text, date_publish)\n",
    "print(\"here\")\n",
    "doc = extractor.parse(doc)\n",
    "print(\"here\")\n",
    "top_who_answer = doc.get_top_answer('who').get_parts_as_text()\n",
    "top_what_answer = doc.get_top_answer('what').get_parts_as_text()\n",
    "top_when_answer = doc.get_top_answer('when').get_parts_as_text()\n",
    "top_where_answer = doc.get_top_answer('where').get_parts_as_text()\n",
    "top_why_answer = doc.get_top_answer('why').get_parts_as_text()\n",
    "top_how_answer = doc.get_top_answer('how').get_parts_as_text()\n",
    "\n",
    "print(\"WHO:   \",top_who_answer)\n",
    "print(\"WHAT:  \",top_what_answer)\n",
    "print(\"WHEN:  \",top_when_answer)\n",
    "print(\"WHERE: \",top_where_answer)\n",
    "print(\"WHY:   \",top_why_answer)\n",
    "print(\"HOW:   \",top_how_answer)"
   ]
  },
  {
   "cell_type": "code",
   "execution_count": 6,
   "metadata": {
    "ExecuteTime": {
     "end_time": "2019-02-28T14:56:02.814957Z",
     "start_time": "2019-02-28T14:56:02.800889Z"
    }
   },
   "outputs": [],
   "source": [
    "from newsapi import NewsApiClient"
   ]
  },
  {
   "cell_type": "code",
   "execution_count": 7,
   "metadata": {
    "ExecuteTime": {
     "end_time": "2019-02-28T14:56:02.921872Z",
     "start_time": "2019-02-28T14:56:02.817781Z"
    }
   },
   "outputs": [],
   "source": [
    "apikey = '8842aee58369462a956233641df27fa1'"
   ]
  },
  {
   "cell_type": "code",
   "execution_count": 8,
   "metadata": {
    "ExecuteTime": {
     "end_time": "2019-02-28T14:56:02.991848Z",
     "start_time": "2019-02-28T14:56:02.923237Z"
    }
   },
   "outputs": [],
   "source": [
    "api = NewsApiClient(api_key=apikey)"
   ]
  },
  {
   "cell_type": "code",
   "execution_count": 9,
   "metadata": {
    "ExecuteTime": {
     "end_time": "2019-02-28T14:56:05.177231Z",
     "start_time": "2019-02-28T14:56:02.996872Z"
    }
   },
   "outputs": [
    {
     "data": {
      "text/plain": [
       "{'status': 'ok',\n",
       " 'totalResults': 3599,\n",
       " 'articles': [{'source': {'id': None, 'name': 'Gizmodo.com'},\n",
       "   'author': 'Melanie Ehrenkranz',\n",
       "   'title': 'Researchers Create Hotel-Recognition System to Aid Human Trafficking Investigations',\n",
       "   'description': 'Researchers have built a massive dataset of hotel images with the intention of helping law enforcement in human trafficking investigations. The dataset, called Hotels-50k, consists over more than 1 million images from 50,000 hotels globally. Read more...',\n",
       "   'url': 'https://gizmodo.com/researchers-create-hotel-recognition-system-to-aid-huma-1832362451',\n",
       "   'urlToImage': 'https://i.kinja-img.com/gawker-media/image/upload/s--1bBvJ1bK--/c_fill,fl_progressive,g_center,h_900,q_80,w_1600/pqckkly0vod6xq8wt61p.png',\n",
       "   'publishedAt': '2019-02-05T20:16:00Z',\n",
       "   'content': 'Researchers have built a massive dataset of hotel images with the intention of helping law enforcement in human trafficking investigations. The dataset, called Hotels-50k, consists over more than 1 million images from 50,000 hotels globally.\\r\\nRecognizing a ho… [+4155 chars]'},\n",
       "  {'source': {'id': 'cnn', 'name': 'CNN'},\n",
       "   'author': 'Emanuella Grinberg and Christina Maxouris, CNN',\n",
       "   'title': 'Sex trafficking and the Super Bowl: Myths and the real issues',\n",
       "   'description': 'Some groups claim that the influx of crowds for the Super Bowl contributes to an increase in sex trafficking. But leading anti-trafficking groups say no evidence supports the claim.',\n",
       "   'url': 'https://www.cnn.com/2019/01/31/us/sex-trafficking-super-bowl-myth/index.html',\n",
       "   'urlToImage': 'https://cdn.cnn.com/cnnnext/dam/assets/190129212146-05-human-trafficking-atlanta-restricted-super-tease.jpg',\n",
       "   'publishedAt': '2019-01-31T19:01:35Z',\n",
       "   'content': \"March 14 is #MyFreedomDay, when schools around the world will raise awareness of modern slavery. Find out more at cnn.com/myfreedom\\r\\nAtlanta (CNN)The 2019 Super Bowl has drawn thousands of people to the host city of Atlanta, but not everyone's in town to join… [+11376 chars]\"},\n",
       "  {'source': {'id': 'mashable', 'name': 'Mashable'},\n",
       "   'author': 'Marcus Gilmer',\n",
       "   'title': \"Patriots owner Robert Kraft's charged with soliciting prostitution\",\n",
       "   'description': 'If you\\'re a fan of hating on the New England Patriots, you\\'re probably enjoying a bit of schadenfreude right about now. New England Patriots owner Robert Kraft was charged with \"two misdemeanor counts of soliciting a prostitute\" on Friday, part of a widesprea…',\n",
       "   'url': 'https://mashable.com/article/robert-kraft-patriots-charged-prostitution/',\n",
       "   'urlToImage': 'https://mondrian.mashable.com/2019%252F02%252F22%252F52%252F386d71da0a244fe28c9b0ad1c5852a52.34d85.jpg%252F1200x630.jpg?signature=UYP7uE0YG7fQ-_d1iBVRysWcWXo=',\n",
       "   'publishedAt': '2019-02-22T18:36:48Z',\n",
       "   'content': 'If you\\'re a fan of hating on the New England Patriots, you\\'re probably enjoying a bit of schadenfreude right about now.\\r\\nNew England Patriots owner Robert Kraft was charged with \"two misdemeanor counts of soliciting a prostitute\" on Friday, part of a widespre… [+2190 chars]'},\n",
       "  {'source': {'id': 'the-new-york-times', 'name': 'The New York Times'},\n",
       "   'author': 'MATT STEVENS and MIHIR ZAVERI',\n",
       "   'title': 'Who Are the Trumps’ State of the Union Guests?',\n",
       "   'description': 'Some of the first couple’s 13 guests are the human faces of narratives that President Trump has been crafting and wishes to advance.',\n",
       "   'url': 'https://www.nytimes.com/2019/02/04/us/politics/state-of-the-union-guests.html',\n",
       "   'urlToImage': 'https://static01.nyt.com/images/2019/02/05/us/05xp-trumpguests10/05xp-trumpguests1-facebookJumbo.jpg',\n",
       "   'publishedAt': '2019-02-05T04:16:55Z',\n",
       "   'content': 'Other guests include: Tom Wibberley, the father of a Navy seaman who was killed years ago in a terrorist attack; Matthew Charles, who was recently released from prison after turning his life around; Ashley Evans, a young woman celebrating more than a year of … [+1273 chars]'},\n",
       "  {'source': {'id': 'the-new-york-times', 'name': 'The New York Times'},\n",
       "   'author': 'KEVIN DRAPER and KEN BELSON',\n",
       "   'title': 'Patriots Owner Robert Kraft Charged in Florida Prostitution Sting',\n",
       "   'description': 'Robert K. Kraft, the owner of the Super Bowl champion New England Patriots, was charged with two counts of soliciting sex.',\n",
       "   'url': 'https://www.nytimes.com/2019/02/22/sports/robert-kraft-jupiter-orchids-arrest.html',\n",
       "   'urlToImage': 'https://static01.nyt.com/images/2019/02/23/sports/23kraft-sub/23kraft-sub-facebookJumbo.jpg',\n",
       "   'publishedAt': '2019-02-22T17:48:19Z',\n",
       "   'content': 'Robert K. Kraft, the owner of the New England Patriots, was charged Friday with two counts of soliciting sex from a prostitute, according to the police in Jupiter, Fla.\\r\\nThe charges against Mr. Kraft, 77, were part of a broad investigation into prostitution a… [+777 chars]'},\n",
       "  {'source': {'id': 'cnn', 'name': 'CNN'},\n",
       "   'author': 'Ralph Ellis, CNN',\n",
       "   'title': 'What we know so far about the Robert Kraft investigation',\n",
       "   'description': 'Robert Kraft, the owner of the New England Patriots, has been arrested as part of a monthslong investigation into sex trafficking that focused on several central Florida day spas and massage parlors suspected of being used for prostitution.',\n",
       "   'url': 'https://www.cnn.com/2019/02/25/us/robert-kraft-what-we-know/index.html',\n",
       "   'urlToImage': 'https://cdn.cnn.com/cnnnext/dam/assets/190222120040-robert-kraft-0203-super-tease.jpg',\n",
       "   'publishedAt': '2019-02-26T01:47:24Z',\n",
       "   'content': '(CNN)Robert Kraft, the owner of the New England Patriots, has been arrested as part of a monthslong investigation into sex trafficking that focused on several central Florida day spas and massage parlors suspected of being used for prostitution. \\r\\nKraft faces… [+4799 chars]'},\n",
       "  {'source': {'id': 'the-next-web', 'name': 'The Next Web'},\n",
       "   'author': 'Tristan Greene',\n",
       "   'title': 'How to help AI find human trafficking victims',\n",
       "   'description': 'For the ongoing series, Code Word, we’re exploring if — and how — technology can protect individuals against sexual assault and harassment, and how it can help and support survivors. You walk through the door and set your bags on the floor. You pose for a sel…',\n",
       "   'url': 'https://thenextweb.com/?p=1186384',\n",
       "   'urlToImage': 'https://img-cdn.tnwcdn.com/image/tnw?filter_last=1&fit=1280%2C640&url=https%3A%2F%2Fcdn0.tnwcdn.com%2Fwp-content%2Fblogs.dir%2F1%2Ffiles%2F2019%2F02%2FTraffickCam-hotel-room.jpg&signature=9b5036cdffe73bd2c1157cfc7aae12d6',\n",
       "   'publishedAt': '2019-02-12T17:00:09Z',\n",
       "   'content': 'For the ongoing series,\\xa0Code Word, were exploring if and how technology can protect individuals against sexual assault and harassment, and how it can help and support survivors.\\r\\nYou walk through the door and set your bags on the floor. You pose for a selfie … [+4779 chars]'},\n",
       "  {'source': {'id': 'the-new-york-times', 'name': 'The New York Times'},\n",
       "   'author': 'THE NEW YORK TIMES',\n",
       "   'title': 'Patriots Owner Robert Kraft Charged in Prostitution Sting',\n",
       "   'description': 'Robert K. Kraft, the owner of the Super Bowl champion New England Patriots, was charged with two counts of soliciting sex.',\n",
       "   'url': 'https://www.nytimes.com/2019/02/22/sports/robert-kraft-prostitution-arrest.html',\n",
       "   'urlToImage': 'https://static01.nyt.com/images/2019/02/23/sports/23kraft/23kraft-facebookJumbo.jpg',\n",
       "   'publishedAt': '2019-02-22T17:17:19Z',\n",
       "   'content': 'Robert K. Kraft, the owner of the New England Patriots, was charged with two counts of soliciting sex from a prostitute, according to the police in Jupiter, Fla.\\r\\nMr. Kraft, 77, was said to have patronized a spa called Orchids of Asia, in Jupiter. Detectives … [+665 chars]'},\n",
       "  {'source': {'id': 'time', 'name': 'Time'},\n",
       "   'author': 'Larry Neumeister / AP',\n",
       "   'title': 'Judge OKs Use of Human Trafficking Law Against Harvey Weinstein',\n",
       "   'description': 'A second judge ruled that a human trafficking law can be used in a civil lawsuit against Harvey Weinstein',\n",
       "   'url': 'http://time.com/5515110/harvey-weinstein-human-trafficking-lawsuit/',\n",
       "   'urlToImage': 'https://timedotcom.files.wordpress.com/2019/01/gettyimages-1051884604.jpg?quality=85',\n",
       "   'publishedAt': '2019-01-29T01:54:17Z',\n",
       "   'content': '(NEW YORK) — A second judge ruled Monday that a human trafficking law can be used in a civil lawsuit against Harvey Weinstein.\\r\\nU.S. District Judge Paul A. Engelmayer in Manhattan made the finding as he let former Weinstein consultant Alexandra Canosa’s lawsu… [+2540 chars]'},\n",
       "  {'source': {'id': None, 'name': 'Yahoo.com'},\n",
       "   'author': None,\n",
       "   'title': \"The tale of the tape: The reality of human trafficking is nothing like Trump's version\",\n",
       "   'description': 'Immigrants comprise neither the majority of traffickers in the United States nor their victims. According to the National Human Trafficking Hotline, 5,147 cases of human trafficking were reported in the U.S. in 2018. Most of the victims in those cases were U.…',\n",
       "   'url': 'https://news.yahoo.com/tale-tape-reality-human-trafficking-nothing-like-trumps-version-013531493.html',\n",
       "   'urlToImage': 'https://s.yimg.com/uu/api/res/1.2/suVJqorNNV4u6yj_whfimQ--~B/aD0zMzQwO3c9NTAwOTtzbT0xO2FwcGlkPXl0YWNoeW9u/https://media-mbst-pub-ue1.s3.amazonaws.com/creatr-uploaded-images/2019-02/c974ccb0-268d-11e9-ad52-01f292118371',\n",
       "   'publishedAt': '2019-02-02T01:35:31Z',\n",
       "   'content': 'About two and a half years ago, a 17-year-old named Isaac and a group of other migrants from Central America followed a smuggler to the southwest border of the United States near McAllen, Texas.After losing both of his parents and his older brother to violenc… [+12234 chars]'},\n",
       "  {'source': {'id': 'time', 'name': 'Time'},\n",
       "   'author': 'JONATHAN J. COOPER / AP',\n",
       "   'title': 'Cindy McCain Apologizes After Erroneously Claiming She Stopped Human Trafficking Incident at Airport',\n",
       "   'description': 'Cindy McCain apologizes after falsely saying she stopped a human trafficking incident at Phoenix airport involving a toddler and a woman.',\n",
       "   'url': 'http://time.com/5524603/cindy-mccain-apologizes-human-trafficking/',\n",
       "   'urlToImage': 'https://timedotcom.files.wordpress.com/2019/02/cindy-mccain-apologizes-human-trafficking-airport.jpg?quality=85',\n",
       "   'publishedAt': '2019-02-07T22:01:58Z',\n",
       "   'content': '(PHOENIX) — Cindy McCain is apologizing after inaccurately claiming that she stopped human trafficking at the Phoenix airport when she reported a toddler with a woman of a different ethnicity and “something didn’t click.”\\r\\nThe widow of former U.S. Sen. John M… [+1546 chars]'},\n",
       "  {'source': {'id': None, 'name': 'Thisisinsider.com'},\n",
       "   'author': 'Ellen Cranley',\n",
       "   'title': 'The Florida prostitution sting shed light on a disturbing underground system that experts say claims thousands of victims nationwide',\n",
       "   'description': 'A massive six-month human-trafficking and prostitution sting across massage parlors in Florida marked a large victory for authorities. Despite shutting down several parlors and pressing charges against big names, the bust shed light on the widespread problem …',\n",
       "   'url': 'https://www.thisisinsider.com/florida-prostitution-sting-exposes-disturbing-underground-network-2019-2',\n",
       "   'urlToImage': 'https://amp.businessinsider.com/images/5c756634bde70f36152fbdc2-1920-960.jpg',\n",
       "   'publishedAt': '2019-02-26T16:14:36Z',\n",
       "   'content': 'A six-month human-trafficking and prostitution sting across massage parlors in Florida closed ten spas last week and spawned charges for several big names in business. \\r\\n Though the spotlight of the story has been on billionaire owner of the New England Patri… [+4722 chars]'},\n",
       "  {'source': {'id': None, 'name': 'Gizmodo.com'},\n",
       "   'author': 'Melanie Ehrenkranz',\n",
       "   'title': \"Google's New App Policy May Break a Vital Tool for Sex Workers in the UK and Ireland\",\n",
       "   'description': 'When President Trump last year passed anti-trafficking legislation that led to the removal of online resources sex workers relied on to discuss violent clients, sex workers feared for their safety and fought back. The erasure of these online spaces for the co…',\n",
       "   'url': 'https://gizmodo.com/googles-new-app-policy-may-break-a-vital-tool-for-sex-w-1832756175',\n",
       "   'urlToImage': 'https://i.kinja-img.com/gawker-media/image/upload/s--ZvZEKCw---/c_fill,fl_progressive,g_center,h_900,q_80,w_1600/kz3tdvetswo0hepytksl.png',\n",
       "   'publishedAt': '2019-02-20T17:56:00Z',\n",
       "   'content': 'When President Trump last year passed anti-trafficking legislation that led to the removal of online resources sex workers relied on to discuss violent clients, sex workers feared for their safety and fought back. The erasure of these online spaces for the co… [+3834 chars]'},\n",
       "  {'source': {'id': None, 'name': 'Tcpalm.com'},\n",
       "   'author': 'Treasure Coast Newspapers, Will Greenlee, Treasure Coast Newspapers',\n",
       "   'title': \"Florida sheriff: 'Manifestly obvious' this is human trafficking, but need victim cooperation for case\",\n",
       "   'description': 'In many cases, Florida officials used the term \"human trafficking\" in connection with the investigations, but trafficking arrests have been limited.',\n",
       "   'url': 'https://www.tcpalm.com/story/news/crime/martin-county/2019/02/27/florida-human-trafficking-martin-county-sheriff-spa-busts/2993803002?utm_source=google&utm_medium=amp&utm_campaign=speakable',\n",
       "   'urlToImage': 'https://www.gannett-cdn.com/presto/2019/02/19/PTCN/52c89e0c-c197-4fe7-8aa9-d5370e2ba640-TCN_0219_MC_MASSAGE_11.JPG?crop=3599,2024,x0,y137&width=3200&height=1680&fit=bounds',\n",
       "   'publishedAt': '2019-02-27T19:58:01Z',\n",
       "   'content': \"The Martin County Sheriff's Office hosts a news conference Feb. 19, 2019 detailing a local human trafficking ring that was busted across Treasure Coast, Palm Beach and Orange counties.\\r\\n Hannah Schwab, hannah.schwab@tcpalm.com\\r\\nMARTIN COUNTY, Fla. Its manifes… [+4446 chars]\"},\n",
       "  {'source': {'id': 'the-guardian-au', 'name': 'The Guardian (AU)'},\n",
       "   'author': 'Felicity Lawrence and Ella McSweeney',\n",
       "   'title': \"UN experts condemn Ireland's migrant fishing workers scheme\",\n",
       "   'description': 'System leaves migrant workers vulnerable to modern slavery, four UN special rapporteurs say Ireland’s permit scheme for migrant workers on its fishing trawlers breaches international human rights law, four UN special rapporteurs have said in a warning letter …',\n",
       "   'url': 'https://www.theguardian.com/world/2019/feb/19/un-experts-condemn-irelands-migrant-fishing-workers-scheme',\n",
       "   'urlToImage': 'https://i.guim.co.uk/img/media/35b3d50b221735e51b5981664fec86a17afee650/0_146_3000_1800/master/3000.jpg?width=1200&height=630&quality=85&auto=format&fit=crop&overlay-align=bottom%2Cleft&overlay-width=100p&overlay-base64=L2ltZy9zdGF0aWMvb3ZlcmxheXMvdGctZGVmYXVsdC5wbmc&s=9029df863c34eb46b425a2d9d445202c',\n",
       "   'publishedAt': '2019-02-19T14:16:58Z',\n",
       "   'content': 'Irelands permit scheme for migrant workers on its fishing trawlers breaches international human rights law, four UN special rapporteurs have said in a warning letter to the Irish government.\\r\\nThe four UN rapporteurs on modern slavery, trafficking in persons, … [+2894 chars]'},\n",
       "  {'source': {'id': None, 'name': 'Tcpalm.com'},\n",
       "   'author': 'Treasure Coast Newspapers, Dacia Johnson, Treasure Coast Newspapers',\n",
       "   'title': 'Florida human sex trafficking ring: The full story',\n",
       "   'description': 'Here are all the details of the international human trafficking operation tied to prostitution in massage parlors in Florida',\n",
       "   'url': 'https://www.tcpalm.com/story/news/crime/2019/02/26/florida-human-sex-trafficking-ring-full-story/2978763002/?utm_source=google&utm_medium=amp&utm_campaign=speakabl',\n",
       "   'urlToImage': 'https://www.gannett-cdn.com/presto/2019/02/25/PTCN/d1b0d10a-8e58-4619-9d73-0276b358c0bb-Trafficking_mug_stitch.jpg?crop=1199,689,x0,y126&width=3200&height=1680&fit=bounds',\n",
       "   'publishedAt': '2019-02-26T12:00:09Z',\n",
       "   'content': \"Editor's Note:This story will be updated as new details\\xa0emerge. Reports are by Mary Helen Moore, Will Greenlee, Ali Schmitz and TCPalm staff. Compilation and digital presentation\\xa0by Dacia Johnson.\\xa0\\r\\n__________________________________\\r\\nDetails of an internatio… [+13314 chars]\"},\n",
       "  {'source': {'id': None, 'name': 'Thisisinsider.com'},\n",
       "   'author': 'Jacob Shamsian',\n",
       "   'title': \"'I'm done': The Robert Kraft scandal is scaring regulars away from erotic massage parlors\",\n",
       "   'description': 'New England Patriots owner Robert Kraft was charged Friday with two counts of prostitution in relation to an alleged sex-trafficking ring run through spa and massage parlors in Florida. These types of parlors are openly discussed in online forums like RubMaps…',\n",
       "   'url': 'https://www.thisisinsider.com/im-done-the-robert-kraft-scandal-is-scaring-regulars-away-from-erotic-massage-parlors-2019-2',\n",
       "   'urlToImage': 'https://amp.businessinsider.com/images/5c747090dde86727ae4c965d-1536-768.jpg',\n",
       "   'publishedAt': '2019-02-25T22:46:52Z',\n",
       "   'content': 'The Robert Kraft scandal has the erotic massage parlor community on edge. \\r\\n On online communities where people discuss these parlors, the police activity is seen as cause for alarm. On Friday, New England Patriots owner Robert Kraft was charged with two coun… [+5897 chars]'},\n",
       "  {'source': {'id': None, 'name': 'Ctvnews.ca'},\n",
       "   'author': None,\n",
       "   'title': \"Ont. police free 43 from 'modern day slavery' - CTV News\",\n",
       "   'description': \"Ont. police free 43 from 'modern day slavery' CTV News Provincial police have freed 43 people from a labour human trafficking operation in Barrie and Wasaga Beach, Ont., in what officials likened to “modern day... View full coverage on Google News\",\n",
       "   'url': 'https://www.ctvnews.ca/canada/ont-police-free-43-from-modern-day-slavery-1.4291874',\n",
       "   'urlToImage': 'https://www.ctvnews.ca/polopoly_fs/1.4291984.1549908469!/httpImage/image.jpg_gen/derivatives/landscape_620/image.jpg',\n",
       "   'publishedAt': '2019-02-11T17:23:00Z',\n",
       "   'content': 'Police in Ontario have freed dozens of people from a human trafficking operation officials likened to modern day slavery.\\r\\nThe Ontario Provincial Police announced Monday that an investigation revealed 43 people were brought to Canada with the promise of work … [+1700 chars]'},\n",
       "  {'source': {'id': 'the-huffington-post', 'name': 'The Huffington Post'},\n",
       "   'author': 'Dominique Mosbergen',\n",
       "   'title': 'Police Dispute Cindy McCain’s Claim That She Thwarted Human Trafficking Attempt',\n",
       "   'description': 'John McCain\\'s widow said she witnessed a woman trafficking a child \"of a different ethnicity\" at the Phoenix airport. She later apologized for the mistake.',\n",
       "   'url': 'https://www.huffingtonpost.com/entry/cindy-mccain-human-trafficking-phoenix-airport_us_5c5baa90e4b09293b20b6880',\n",
       "   'urlToImage': 'https://img.huffingtonpost.com/asset/5c5bb1c0240000080248bdba.jpeg?cache=NPKM3YaZNU&ops=1200_630',\n",
       "   'publishedAt': '2019-02-07T04:52:48Z',\n",
       "   'content': 'Police in Phoenix have disputed Cindy McCain’s claim that she thwarted a human trafficking attempt at Sky Harbor International Airport.\\r\\nMcCain, widow of the late Republican Sen. John McCain and an\\xa0anti-trafficking activist, told KTAR News 92.3 FM on Monday t… [+1422 chars]'},\n",
       "  {'source': {'id': 'the-new-york-times', 'name': 'The New York Times'},\n",
       "   'author': 'LINDA QIU',\n",
       "   'title': 'Fact Check: Trump’s Rationale for a National Emergency Is Based on False or Misleading Claims',\n",
       "   'description': 'To justify redirecting federal funds to a wall, the president made a litany of assertions about crime, drugs and other issues on the southern border. Nearly all were misleading, exaggerated or false.',\n",
       "   'url': 'https://www.nytimes.com/2019/02/15/us/politics/trump-fact-check-national-emergency.html',\n",
       "   'urlToImage': 'https://static01.nyt.com/images/2019/02/16/us/politics/16dc-factcheck/16dc-factcheck-facebookJumbo.jpg',\n",
       "   'publishedAt': '2019-02-15T19:20:48Z',\n",
       "   'content': 'In 2007, the year before border fencing construction began, El Paso reported 17 murders while Juárez recorded about 320 homicides, before the drug war between cartels escalated.\\r\\nIn 2010, after the barriers were largely completely, El Paso recorded five murde… [+1281 chars]'}]}"
      ]
     },
     "execution_count": 9,
     "metadata": {},
     "output_type": "execute_result"
    }
   ],
   "source": [
    "api.get_everything(q='human trafficking')"
   ]
  },
  {
   "cell_type": "code",
   "execution_count": 10,
   "metadata": {
    "ExecuteTime": {
     "end_time": "2019-02-28T14:56:06.495207Z",
     "start_time": "2019-02-28T14:56:05.181334Z"
    }
   },
   "outputs": [
    {
     "data": {
      "text/plain": [
       "{'status': 'ok',\n",
       " 'totalResults': 315,\n",
       " 'articles': [{'source': {'id': 'cnn', 'name': 'CNN'},\n",
       "   'author': 'Ralph Ellis, CNN',\n",
       "   'title': 'What we know so far about the Robert Kraft investigation',\n",
       "   'description': 'Robert Kraft, the owner of the New England Patriots, has been arrested as part of a monthslong investigation into sex trafficking that focused on several central Florida day spas and massage parlors suspected of being used for prostitution.',\n",
       "   'url': 'https://www.cnn.com/2019/02/25/us/robert-kraft-what-we-know/index.html',\n",
       "   'urlToImage': 'https://cdn.cnn.com/cnnnext/dam/assets/190222120040-robert-kraft-0203-super-tease.jpg',\n",
       "   'publishedAt': '2019-02-26T01:47:24Z',\n",
       "   'content': '(CNN)Robert Kraft, the owner of the New England Patriots, has been arrested as part of a monthslong investigation into sex trafficking that focused on several central Florida day spas and massage parlors suspected of being used for prostitution. \\r\\nKraft faces… [+4799 chars]'},\n",
       "  {'source': {'id': None, 'name': 'Thisisinsider.com'},\n",
       "   'author': 'Ellen Cranley',\n",
       "   'title': 'The Florida prostitution sting shed light on a disturbing underground system that experts say claims thousands of victims nationwide',\n",
       "   'description': 'A massive six-month human-trafficking and prostitution sting across massage parlors in Florida marked a large victory for authorities. Despite shutting down several parlors and pressing charges against big names, the bust shed light on the widespread problem …',\n",
       "   'url': 'https://www.thisisinsider.com/florida-prostitution-sting-exposes-disturbing-underground-network-2019-2',\n",
       "   'urlToImage': 'https://amp.businessinsider.com/images/5c756634bde70f36152fbdc2-1920-960.jpg',\n",
       "   'publishedAt': '2019-02-26T16:14:36Z',\n",
       "   'content': 'A six-month human-trafficking and prostitution sting across massage parlors in Florida closed ten spas last week and spawned charges for several big names in business. \\r\\n Though the spotlight of the story has been on billionaire owner of the New England Patri… [+4722 chars]'},\n",
       "  {'source': {'id': None, 'name': 'Thisisinsider.com'},\n",
       "   'author': 'Jacob Shamsian',\n",
       "   'title': \"'I'm done': The Robert Kraft scandal is scaring regulars away from erotic massage parlors\",\n",
       "   'description': 'New England Patriots owner Robert Kraft was charged Friday with two counts of prostitution in relation to an alleged sex-trafficking ring run through spa and massage parlors in Florida. These types of parlors are openly discussed in online forums like RubMaps…',\n",
       "   'url': 'https://www.thisisinsider.com/im-done-the-robert-kraft-scandal-is-scaring-regulars-away-from-erotic-massage-parlors-2019-2',\n",
       "   'urlToImage': 'https://amp.businessinsider.com/images/5c747090dde86727ae4c965d-1536-768.jpg',\n",
       "   'publishedAt': '2019-02-25T22:46:52Z',\n",
       "   'content': 'The Robert Kraft scandal has the erotic massage parlor community on edge. \\r\\n On online communities where people discuss these parlors, the police activity is seen as cause for alarm. On Friday, New England Patriots owner Robert Kraft was charged with two coun… [+5897 chars]'},\n",
       "  {'source': {'id': None, 'name': 'Npr.org'},\n",
       "   'author': 'Bill Chappell',\n",
       "   'title': 'Robert Kraft Is Formally Charged With Solicitation Over Visits To Florida Day Spa',\n",
       "   'description': \"The Florida state attorney's office in Palm Beach says New England Patriots owner Robert Kraft has been charged with two counts of soliciting prostitution.\",\n",
       "   'url': 'https://www.npr.org/2019/02/25/697782148/robert-kraft-is-formally-charged-with-solicitation-over-visits-to-florida-day-sp',\n",
       "   'urlToImage': 'https://media.npr.org/assets/img/2019/02/25/gettyimages-1093432704_wide-a86711593512cde16ec6eed696fe1f44b21fa9e7.jpg?s=1400',\n",
       "   'publishedAt': '2019-02-25T19:25:41Z',\n",
       "   'content': \"New England Patriots owner Robert Kraft faces misdemeanor charges over two visits to a Jupiter, Fla., day spa, where police allege that he paid for sex acts.\\r\\nKevin Winter/Getty Images\\r\\nThe Florida state attorney's office in Palm Beach says New England Patrio… [+3625 chars]\"},\n",
       "  {'source': {'id': None, 'name': 'Slate.com'},\n",
       "   'author': 'Ruth Graham, Ruth Graham',\n",
       "   'title': 'Is There Really a Huge Upsurge in Sex Trafficking Over Super Bowl Weekend?',\n",
       "   'description': 'Four days before the Super Bowl in 1993, a coalition of feminist activists held a press conference to announce an alarming discovery: The biggest sports day of the year was also “the biggest day of the year for violence against women.” The claim caught on qui…',\n",
       "   'url': 'https://slate.com/human-interest/2019/02/super-bowl-sex-trafficking-myth.html',\n",
       "   'urlToImage': 'https://compote.slate.com/images/35d739db-e80b-4b1a-a101-e8487bb4d8d0.jpeg?width=780&height=520&rect=1560x1040&offset=0x0',\n",
       "   'publishedAt': '2019-02-01T16:46:20Z',\n",
       "   'content': 'Super Bowl LII at U.S. Bank Stadium in Minneapolis on Feb. 4.\\r\\nHow and Why to Root for the New England Patriots in the Age of Trump\\r\\nWe Honestly Have No Idea What These Four Patriots Staffers Do\\r\\nThe Big Lebowski Super Bowl Ad Is a Crime Against Humanity\\r\\nMar… [+6660 chars]'},\n",
       "  {'source': {'id': 'business-insider', 'name': 'Business Insider'},\n",
       "   'author': 'Tyler Lauletta',\n",
       "   'title': 'Police report detailing allegations against Robert Kraft says he visited massage parlor on morning of AFC Championship game',\n",
       "   'description': 'New England Patriots owner Robert Kraft was charged with two counts of soliciting prostitution on Friday. On Monday, probable cause affidavits made clear that one of the days Kraft allegedly visited the massage parlor in question was the morning of the AFC Ch…',\n",
       "   'url': 'https://www.businessinsider.com/robert-kraft-massage-parlor-police-report-patriots-title-game-2019-2',\n",
       "   'urlToImage': 'https://amp.businessinsider.com/images/5c7444fe74c58730f520fa92-1536-768.jpg',\n",
       "   'publishedAt': '2019-02-25T20:56:07Z',\n",
       "   'content': 'New England Patriots owner Robert Kraft was charged with two counts of soliciting prostitution on Friday in relation to a months-long investigation by Florida police into massage parlors tied to human trafficking. \\r\\n On Monday, probable cause affidavits were … [+2142 chars]'},\n",
       "  {'source': {'id': 'usa-today', 'name': 'USA Today'},\n",
       "   'author': 'USA TODAY, Nicquel Terry Ellis, USA TODAY',\n",
       "   'title': 'Victim advocates, NFL players, FBI, police working to break up sex trafficking at Super Bowl LIII in Atlanta',\n",
       "   'description': 'Victim advocates, law enforcement, former NFL players and others are working to break up the sex trafficking they say the Super Bowl event attracts.',\n",
       "   'url': 'https://www.usatoday.com/story/news/nation/2019/01/30/super-bowl-liii-atlanta-sex-trafficking-victim-police-fbi-prostitution/2658224002/?utm_source=google&utm_medium=amp&utm_campaign=speakable',\n",
       "   'urlToImage': 'https://www.gannett-cdn.com/presto/2019/01/29/USAT/10239afd-440f-4b4a-86a7-f3cd0a449765-XXX_CP_Sierra_Thompson__04.JPG?crop=2999,1679,x0,y0&width=3200&height=1680&fit=bounds',\n",
       "   'publishedAt': '2019-01-30T17:00:37Z',\n",
       "   'content': 'The Atlanta-based nonprofit Dream Center runs a program to help sex trafficking victims. The organization says that events such as the Super Bowl draw traffickers.\\r\\n USA TODAY\\r\\nATLANTA\\xa0 Sierra Thompson\\xa0was 18 when she was flown\\xa0to Houston by a man she met on … [+4983 chars]'},\n",
       "  {'source': {'id': None, 'name': 'Theatlantic.com'},\n",
       "   'author': 'Sebastian Rotella, Tim Golden, ProPublica',\n",
       "   'title': 'Human Smugglers Are Thriving Under Trump',\n",
       "   'description': 'The president’s “zero tolerance” policy drains manpower and money from deeper probes that target criminal syndicates.',\n",
       "   'url': 'https://www.theatlantic.com/politics/archive/2019/02/human-smugglers-thrive-under-trumps-zero-tolerance/583051/',\n",
       "   'urlToImage': 'https://cdn.theatlantic.com/assets/media/img/mt/2019/02/Immigrants_Adria_Fruitos/facebook.jpg?1550698479',\n",
       "   'publishedAt': '2019-02-21T10:00:00Z',\n",
       "   'content': 'In his quest to build a border wall, President Donald Trump has warned of jobs stolen from American workers, suburbs terrorized by criminal aliens, and desperate migrant caravans headed north. Lately, though, he has found a favorite new target in the “ruthles… [+32255 chars]'},\n",
       "  {'source': {'id': None, 'name': 'Deadspin.com'},\n",
       "   'author': 'Diana Moskovitz',\n",
       "   'title': \"What's Up With The NFL Questions At This Sex Trafficking Press Conference?\",\n",
       "   'description': 'Earlier today, a group of law enforcement agencies on Florida’s Treasure Coast announced that arrest warrants had been issued for 173 people on charges including human trafficking, racketeering, and deriving support from prostitution, TCPalm.com reported. The…',\n",
       "   'url': 'https://deadspin.com/whats-up-with-the-nfl-questions-at-this-sex-trafficking-1832805259',\n",
       "   'urlToImage': 'https://i.kinja-img.com/gawker-media/image/upload/s--TmS-qWZr--/c_fill,fl_progressive,g_center,h_900,q_80,w_1600/k0gxzlru1fiu5aza4ggk.png',\n",
       "   'publishedAt': '2019-02-22T03:08:00Z',\n",
       "   'content': 'Earlier today, a group of law enforcement agencies on Floridas Treasure Coast announced that arrest warrants had been issued for 173 people on charges including human trafficking, racketeering, and deriving support from prostitution, TCPalm.com reported. The … [+1707 chars]'},\n",
       "  {'source': {'id': 'usa-today', 'name': 'USA Today'},\n",
       "   'author': 'Opinion contributor, Heidi Fleiss, Opinion contributor',\n",
       "   'title': 'Hollywood Madam: Rich men have dingy massage parlor sex for same reasons they eat burgers',\n",
       "   'description': \"Why would a wealthy and powerful man like Robert Kraft allegedly pay for sex from women at a Florida strip-mall massage parlor? Don't overthink it.\",\n",
       "   'url': 'https://www.usatoday.com/story/opinion/voices/2019/02/27/robert-kraft-affidavit-details-threesome-sandwich-indictment-police-report-column/2982383002/?utm_source=google&utm_medium=amp&utm_campaign=speakable',\n",
       "   'urlToImage': 'https://www.gannett-cdn.com/-mm-/fa80c95324742f270e200d3166f3bba0aa7f7b12/c=0-82-3656-2138/local/-/media/2019/02/25/USATODAY/usatsports/robert-kraft-e1551131818754.jpg?width=3200&height=1680&fit=crop',\n",
       "   'publishedAt': '2019-02-27T08:15:09Z',\n",
       "   'content': 'They do it because its sex. They do it because its convenient. They do it because its fast. They do it because its hassle-free. At least, until youre caught.\\r\\nEver since New England Patriots owner Robert Kraft was charged last week with two\\xa0counts of solicita… [+5065 chars]'},\n",
       "  {'source': {'id': 'usa-today', 'name': 'USA Today'},\n",
       "   'author': 'USA TODAY, USA TODAY',\n",
       "   'title': \"Robert Kraft prostitution scandal exposes the horrors in our backyard: Today's talker\",\n",
       "   'description': \"A 'community' of clients looks for sexual services; Robert Kraft just happened to be a big name among many.\",\n",
       "   'url': 'https://www.usatoday.com/story/opinion/2019/02/25/robert-kraft-scandal-exposes-horrors-sex-trafficking-talker/2978071002/?utm_source=google&utm_medium=amp&utm_campaign=speakable',\n",
       "   'urlToImage': 'https://www.gannett-cdn.com/presto/2019/02/25/USAT/adeda7d5-7079-4454-9156-600477e001ea-231_156500.jpg?crop=1279,719,x0,y55&width=3200&height=1680&fit=bounds',\n",
       "   'publishedAt': '2019-02-25T18:07:50Z',\n",
       "   'content': \"There's a 'community' of clients looking for sexual services, Robert Kraft just happened to be a big name among many.\\r\\nNew England\\xa0Patriots owner Robert Kraft\\xa0was charged with two counts of soliciting prostitution in connection with a Florida spa tied to an i… [+6534 chars]\"},\n",
       "  {'source': {'id': None, 'name': 'Deadspin.com'},\n",
       "   'author': 'Hallie Lieberman',\n",
       "   'title': 'What Was Really Going On At Orchids Of Asia?',\n",
       "   'description': 'Last year, dozens of men had their penises touched at massage parlors on the Treasure Coast of Florida. One of them was the owner of the New England Patriots, Robert Kraft. Another was a police officer, identified as Detective Brock. The former was charged wi…',\n",
       "   'url': 'https://deadspin.com/what-was-really-going-on-at-orchids-of-asia-1832896112',\n",
       "   'urlToImage': 'https://i.kinja-img.com/gawker-media/image/upload/s--HPZFSeA4--/c_fill,fl_progressive,g_center,h_900,q_80,w_1600/plrk5hmnqqkxq2k5i5ka.jpg',\n",
       "   'publishedAt': '2019-02-26T15:40:00Z',\n",
       "   'content': 'Last year, dozens of men had their penises touched at massage parlors on the Treasure Coast of Florida. One of them was the owner of the New England Patriots, Robert Kraft. Another was a police officer, identified as Detective Brock. The former was charged wi… [+9515 chars]'},\n",
       "  {'source': {'id': None, 'name': 'Si.com'},\n",
       "   'author': 'Michael Rosenberg',\n",
       "   'title': 'The Robert Kraft Story Is No Laughing Matter',\n",
       "   'description': 'The Patriots owner has been charged with soliciting prostitution, as part of a police investigation into human trafficking in Florida. It’s a dismal story all around.',\n",
       "   'url': 'https://www.si.com/nfl/2019/02/22/robert-kraft-charged-soliticating-prostitution-human-trafficking',\n",
       "   'urlToImage': 'https://imagesvc.timeincapp.com/v3/mm/image?url=https://cdn-s3.si.com/images/robert-kraft-1.jpg&w=1200&h=628&c=sc&poi=face&q=85',\n",
       "   'publishedAt': '2019-02-22T20:21:55Z',\n",
       "   'content': 'This Robert Kraft story is not funny, because its not really about Robert Kraft. Its about human trafficking and modern-day slavery, an international travesty that most of us tend to ignore because we can.\\r\\nPolice in Florida have charged Kraft, the Patriots o… [+3775 chars]'},\n",
       "  {'source': {'id': 'business-insider', 'name': 'Business Insider'},\n",
       "   'author': 'Michelle Mark',\n",
       "   'title': 'Meet John Childs, the billionaire private equity firm owner and major Republican donor charged in the Florida prostitution sting',\n",
       "   'description': 'Billionaire private equity firm owner John Childs has been charged with solicitation of prostitution as part of a sweeping human-trafficking investigation, Florida authorities said. The investigation has named a number of high-profile executives, including Ne…',\n",
       "   'url': 'https://www.businessinsider.com/john-childs-billionaire-gop-donor-charged-in-florida-prostitution-sting-2019-2',\n",
       "   'urlToImage': 'https://amp.businessinsider.com/images/5c7215582628985acd5e3b14-1334-667.jpg',\n",
       "   'publishedAt': '2019-02-24T04:01:49Z',\n",
       "   'content': 'The billionaire owner of a Massachusetts-based private equity firm has been wrapped up in a massive prostitution scandal that has already ensnared the likes of New England Patriots owner Robert Kraft and former Citigroup executive John Havens. \\r\\n John Childs,… [+1708 chars]'},\n",
       "  {'source': {'id': None, 'name': 'Yahoo.com'},\n",
       "   'author': None,\n",
       "   'title': 'Hollywood Madam: Rich men have dingy massage parlor sex for same reasons they eat burgers',\n",
       "   'description': \"Why would a wealthy and powerful man like Robert Kraft allegedly pay for sex from women at a Florida strip-mall massage parlor? Don't overthink it.\",\n",
       "   'url': 'https://news.yahoo.com/hollywood-madam-rich-men-dingy-081509280.html',\n",
       "   'urlToImage': 'https://s.yimg.com/uu/api/res/1.2/.embZFdr2bNY2_.05Z4aVA--~B/aD0yMjIxO3c9MzY1NjtzbT0xO2FwcGlkPXl0YWNoeW9u/http://media.zenfs.com/en-US/homerun/usa_today_opinion_532/03b7de2d8e5adbf398e79822019680de',\n",
       "   'publishedAt': '2019-02-27T14:07:59Z',\n",
       "   'content': 'They do it because its sex. They do it because its convenient. They do it because its fast. They do it because its hassle-free. At least, until youre caught.\\r\\nEver since New England Patriots owner Robert Kraft was charged last week with two\\xa0counts of solicita… [+5027 chars]'},\n",
       "  {'source': {'id': None, 'name': 'Tcpalm.com'},\n",
       "   'author': 'Treasure Coast Newspapers, Will Greenlee, Treasure Coast Newspapers',\n",
       "   'title': \"'We’re talking tens of millions of dollars': Sex spas are big business, investigator says\",\n",
       "   'description': 'Large parts of the investigation into what officials say are illicit spas and paid-sex operations represent new territory for law enforcement.',\n",
       "   'url': 'https://www.tcpalm.com/story/news/crime/martin-county/2019/02/22/human-trafficking-florida-sex-spas-tens-millions-dollars/2952861002?utm_source=google&utm_medium=amp&utm_campaign=speakable',\n",
       "   'urlToImage': 'https://www.gannett-cdn.com/presto/2019/02/22/PTCN/8dbecf23-ca9c-4c2b-bf8f-a69af5712c48-IMG_9613.jpeg?crop=4031,2267,x0,y757&width=3200&height=1680&fit=bounds',\n",
       "   'publishedAt': '2019-02-23T01:01:24Z',\n",
       "   'content': 'New England Patriots owner Robert Kraft was charged with two counts of soliciting prostitution in connection with a Florida spa, Jupiter Police said Feb. 22, 2019.\\r\\n Hannah Schwab, hannah.schwab@tcpalm.com\\r\\nMARTIN COUNTY, Fla. \\xa0Large parts of the investigatio… [+5009 chars]'},\n",
       "  {'source': {'id': None, 'name': 'Sciencemag.org'},\n",
       "   'author': 'Lichtenthaler, S. F., Güner, G.',\n",
       "   'title': 'Pathology-linked protease caught in action',\n",
       "   'description': 'The intramembrane protease γ-secretase has fundamental functions in animals, including signal transduction during embryogenesis and tissue homeostasis in adulthood. γ-Secretase cleaves its numerous substrates within their single transmembrane domains (TMDs), …',\n",
       "   'url': 'http://science.sciencemag.org/content/363/6428/690.full',\n",
       "   'urlToImage': 'http://science.sciencemag.org/content/363/6428/F1.medium.gif',\n",
       "   'publishedAt': '2019-02-14T18:37:34Z',\n",
       "   'content': None},\n",
       "  {'source': {'id': 'usa-today', 'name': 'USA Today'},\n",
       "   'author': 'USA TODAY, Ashley Shaffer, USA TODAY',\n",
       "   'title': \"A billionaire NFL owner. Women held in 'sexual servitude.'\",\n",
       "   'description': \"R. Kelly makes a plea, and Robert Kraft was busy on the day of the AFC Championship. Here's today's top news.\",\n",
       "   'url': 'https://www.usatoday.com/story/news/2019/02/25/r-kelly-robert-kraft-north-korea-and-bomb-cyclone-mondays-news/2971358002/?utm_source=google&utm_medium=amp&utm_campaign=speakable',\n",
       "   'urlToImage': 'https://www.gannett-cdn.com/-mm-/7f635028d533b2a159b290d82294e227c61ddeb1/c=0-292-4410-2773/local/-/media/2019/02/23/USATODAY/usatsports/8d167f89aff84a5980769fa76456f301.jpg?width=3200&height=1680&fit=crop',\n",
       "   'publishedAt': '2019-02-25T22:27:26Z',\n",
       "   'content': 'FILE - In this June 7, 2018, file photo, New England Patriots owner Robert Kraft speaks with reporters following an NFL football minicamp practice, in Foxborough, Mass. Police in Florida have charged New England Patriots owner Robert Kraft with misdemeanor so… [+4919 chars]'},\n",
       "  {'source': {'id': None, 'name': 'Deadspin.com'},\n",
       "   'author': 'Hallie Lieberman',\n",
       "   'title': 'What It Was Like To Be A Sex Worker During The Super Bowl',\n",
       "   'description': 'ATLANTA — Kara* drove 248 miles from Nashville to Atlanta for Super Bowl weekend. She wasn’t there to watch the game. A 25-year-old sex worker based in Oakland, Kara anticipated she’d get at least five to 10 clients. She stayed with a family member and placed…',\n",
       "   'url': 'https://deadspin.com/what-it-was-like-to-be-a-sex-worker-during-the-super-bo-1832443479',\n",
       "   'urlToImage': 'https://i.kinja-img.com/gawker-media/image/upload/s--Xni5XBok--/c_fill,fl_progressive,g_center,h_900,q_80,w_1600/qdbafo03qjxn8ivvflhz.png',\n",
       "   'publishedAt': '2019-02-11T18:24:00Z',\n",
       "   'content': 'ATLANTA Kara* drove 248 miles from Nashville to Atlanta for Super Bowl weekend. She wasnt there to watch the game. A 25-year-old sex worker based in Oakland, Kara anticipated shed get at least five to 10 clients. She stayed with a family member and placed ads… [+12097 chars]'},\n",
       "  {'source': {'id': None, 'name': 'Espn.com'},\n",
       "   'author': None,\n",
       "   'title': 'What charges could mean for Patriots owner Robert Kraft',\n",
       "   'description': 'Kraft is being charged with misdemeanor solicitation of prostitution. What will the consequences be for the him and the NFL?',\n",
       "   'url': 'http://www.espn.com/nfl/story/_/id/26056293/what-solicitation-charge-means-new-england-patriots-owner-robert-kraft',\n",
       "   'urlToImage': 'https://a.espncdn.com/combiner/i?img=%2Fphoto%2F2019%2F0222%2Fr505280_1296x729_16%2D9.jpg',\n",
       "   'publishedAt': '2019-02-22T19:33:50Z',\n",
       "   'content': \"New England Patriots owner Robert Kraft is being charged with misdemeanor solicitation of prostitution, South Florida police said Friday. Let's take a closer look at what this story means.\\r\\nWhat exactly are the charges?\\r\\nKraft is among more than 200 people wh… [+4018 chars]\"}]}"
      ]
     },
     "execution_count": 10,
     "metadata": {},
     "output_type": "execute_result"
    }
   ],
   "source": [
    "api.get_everything(q='human trafficking caught')"
   ]
  },
  {
   "cell_type": "code",
   "execution_count": null,
   "metadata": {},
   "outputs": [],
   "source": []
  }
 ],
 "metadata": {
  "kernelspec": {
   "display_name": "Python 3",
   "language": "python",
   "name": "python3"
  },
  "language_info": {
   "codemirror_mode": {
    "name": "ipython",
    "version": 3
   },
   "file_extension": ".py",
   "mimetype": "text/x-python",
   "name": "python",
   "nbconvert_exporter": "python",
   "pygments_lexer": "ipython3",
   "version": "3.6.8"
  },
  "latex_envs": {
   "LaTeX_envs_menu_present": true,
   "autoclose": false,
   "autocomplete": true,
   "bibliofile": "biblio.bib",
   "cite_by": "apalike",
   "current_citInitial": 1,
   "eqLabelWithNumbers": true,
   "eqNumInitial": 1,
   "hotkeys": {
    "equation": "Ctrl-E",
    "itemize": "Ctrl-I"
   },
   "labels_anchors": false,
   "latex_user_defs": false,
   "report_style_numbering": false,
   "user_envs_cfg": false
  }
 },
 "nbformat": 4,
 "nbformat_minor": 2
}
