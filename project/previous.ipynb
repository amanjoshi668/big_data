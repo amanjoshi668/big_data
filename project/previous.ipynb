{
 "cells": [
  {
   "cell_type": "code",
   "execution_count": 48,
   "metadata": {
    "ExecuteTime": {
     "end_time": "2019-04-01T13:08:10.167030Z",
     "start_time": "2019-04-01T13:08:10.153100Z"
    }
   },
   "outputs": [],
   "source": [
    "from Giveme5W1H.extractor.document import Document\n",
    "from Giveme5W1H.extractor.extractor import MasterExtractor\n",
    "from newsplease import NewsPlease\n",
    "import logging\n",
    "import pandas as pd\n",
    "import numpy as np\n",
    "from Giveme5W1H.extractor.preprocessors.preprocessor_core_nlp import Preprocessor"
   ]
  },
  {
   "cell_type": "code",
   "execution_count": 49,
   "metadata": {
    "ExecuteTime": {
     "end_time": "2019-04-01T13:08:13.664969Z",
     "start_time": "2019-04-01T13:08:10.526693Z"
    }
   },
   "outputs": [],
   "source": [
    "news_url = 'http://www.xinhuanet.com/english/2019-02/28/c_137857860.htm'\n",
    "article = NewsPlease.from_url(news_url)"
   ]
  },
  {
   "cell_type": "code",
   "execution_count": 50,
   "metadata": {
    "ExecuteTime": {
     "end_time": "2019-04-01T13:08:13.681266Z",
     "start_time": "2019-04-01T13:08:13.666975Z"
    },
    "scrolled": true
   },
   "outputs": [
    {
     "name": "stdout",
     "output_type": "stream",
     "text": [
      "authors \t\t\t []\n",
      "date_download \t\t\t 2019-04-01 18:38:11\n",
      "date_modify \t\t\t None\n",
      "date_publish \t\t\t 2019-02-28 00:00:00\n",
      "description \t\t\t None\n",
      "filename \t\t\t http%3A%2F%2Fwww.xinhuanet.com%2Fenglish%2F2019-02%2F28%2Fc_137857860.htm.json\n",
      "image_url \t\t\t http://www.xinhuanet.com/english/2019-02/28/c_137857860.htm\n",
      "language \t\t\t None\n",
      "localpath \t\t\t None\n",
      "source_domain \t\t\t www.xinhuanet.com\n",
      "text \t\t\t Source: Xinhua| 2019-02-28 17:09:31|Editor: ZX\n",
      "Video Player Close\n",
      "TOKYO, Feb. 28 (Xinhua) -- The number of reported human trafficking cases in Japan declined in 2018 amid intensified efforts by law enforcement agencies to crack down on businesses and syndicates involved in the exploitative activities.\n",
      "According to the National Police Agency (NPA), the number of reported cases of human trafficking dropped by 10 to 36 cases in the reporting year, and legal action was taken by police in cases involving 40 people involved in human trafficking.\n",
      "Japan legally defines human trafficking as \"the recruitment, transportation, transfer, harboring or receipt of persons by the threat or use of force or other forms of coercion for the purpose of exploitation.\"\n",
      "The official data also showed the number of victims, spanning those forced into prostitution, coerced into working in the adult entertainment industry and made to perform in pornographic videos under duress, dropped to 25 victims in 2018 from a year earlier.\n",
      "The data also showed that the majority of the victims of human trafficking in 2018 were from Japan, with 18 Japanese citizens identified, along with four and three nationals from the Philippines and Thailand respectively.\n",
      "The victims, according to the NPA, comprised mostly young women, with the youngest of them being identified as a 9-year-old girl.\n",
      "Among other arrests made, an executive at a company was apprehended for allegedly duping a 19-year-old girl who wanted to work as a fashion model into performing in pornographic videos for a salacious production company.\n",
      "The NPA said an increasing number of victims and would-be victims were being targeted through social networking sites and warned potential victims to be cautious.\n",
      "title \t\t\t Reported cases of human trafficking in Japan decline in 2018\n",
      "title_page \t\t\t None\n",
      "title_rss \t\t\t None\n",
      "url \t\t\t http://www.xinhuanet.com/english/2019-02/28/c_137857860.htm\n"
     ]
    }
   ],
   "source": [
    "date_publish = article.date_publish\n",
    "date_publish = '2016-11-10 07:44:00'\n",
    "title = str(article.title)\n",
    "lead = str(article.description)\n",
    "text = str(article.text)\n",
    "dic = article.get_dict()\n",
    "for k, v in dic.items():\n",
    "    print(k, \"\\t\\t\\t\", v)"
   ]
  },
  {
   "cell_type": "code",
   "execution_count": 57,
   "metadata": {
    "ExecuteTime": {
     "end_time": "2019-04-01T13:16:52.051965Z",
     "start_time": "2019-04-01T13:16:52.032525Z"
    }
   },
   "outputs": [],
   "source": [
    "log = logging.getLogger('GiveMe5W')\n",
    "log.setLevel(logging.DEBUG)\n",
    "sh = logging.StreamHandler()\n",
    "sh.setLevel(logging.DEBUG)\n",
    "log.addHandler(sh)\n",
    "\n",
    "\n",
    "def get5W1H(news_url):\n",
    "    article = NewsPlease.from_url(news_url)\n",
    "    title = str(article.title)\n",
    "    lead = str(article.description)\n",
    "    text = str(article.text)\n",
    "    date_publish = str(article.date_publish)\n",
    "    extractor = MasterExtractor()\n",
    "    print(\"date publish: {0}\".format(date_publish))\n",
    "    print(\"URL: {0}\".format(news_url))\n",
    "    doc = Document(title, lead, text, date_publish)\n",
    "    #     print(\"here\")\n",
    "    doc = extractor.parse(doc)\n",
    "    #     print(\"here\")\n",
    "    top_who_answer = None\n",
    "    top_what_answer = None\n",
    "    top_when_answer = None\n",
    "    top_where_answer = None\n",
    "    top_who_answer = None\n",
    "    top_why_answer = None\n",
    "    try:\n",
    "        top_who_answer = doc.get_top_answer('who').get_parts_as_text()\n",
    "    except:\n",
    "        x = 5\n",
    "    try:\n",
    "        top_what_answer = doc.get_top_answer('what').get_parts_as_text()\n",
    "    except:\n",
    "        x = 5\n",
    "    try:\n",
    "        top_when_answer = doc.get_top_answer('when').get_parts_as_text()\n",
    "    except:\n",
    "        x = 5\n",
    "    try:\n",
    "        top_where_answer = doc.get_top_answer('where').get_parts_as_text()\n",
    "    except:\n",
    "        x = 5\n",
    "    try:\n",
    "        top_why_answer = doc.get_top_answer('why').get_parts_as_text()\n",
    "    except:\n",
    "        x = 5\n",
    "    try:\n",
    "        top_how_answer = doc.get_top_answer('how').get_parts_as_text()\n",
    "    except:\n",
    "        x = 5\n",
    "    return [\n",
    "        top_how_answer, top_what_answer, top_when_answer, top_where_answer,\n",
    "        top_who_answer, top_why_answer\n",
    "    ]\n",
    "\n",
    "\n",
    "#     print(\"WHO:   \",top_who_answer)\n",
    "#     print(\"WHAT:  \",top_what_answer)\n",
    "#     print(\"WHEN:  \",top_when_answer)\n",
    "#     print(\"WHERE: \",top_where_answer)\n",
    "#     print(\"WHY:   \",top_why_answer)\n",
    "#     print(\"HOW:   \",top_how_answer)"
   ]
  },
  {
   "cell_type": "code",
   "execution_count": 58,
   "metadata": {
    "ExecuteTime": {
     "end_time": "2019-04-01T13:16:53.547568Z",
     "start_time": "2019-04-01T13:16:53.527312Z"
    }
   },
   "outputs": [],
   "source": [
    "df = pd.DataFrame(\n",
    "    index=np.arange(0, 80),\n",
    "    columns=['Article', 'How', 'What', 'When', 'Where', 'Who', 'Why'])"
   ]
  },
  {
   "cell_type": "code",
   "execution_count": 61,
   "metadata": {
    "ExecuteTime": {
     "end_time": "2019-04-01T13:17:55.079714Z",
     "start_time": "2019-04-01T13:17:55.072446Z"
    }
   },
   "outputs": [],
   "source": [
    "articles = pd.read_csv('htlinks.csv')\n",
    "articles.head()\n",
    "result = []"
   ]
  },
  {
   "cell_type": "code",
   "execution_count": 62,
   "metadata": {
    "ExecuteTime": {
     "end_time": "2019-04-01T13:21:49.710356Z",
     "start_time": "2019-04-01T13:17:55.903631Z"
    }
   },
   "outputs": [
    {
     "name": "stderr",
     "output_type": "stream",
     "text": [
      "No extractors passed: initializing default configuration.\n",
      "No extractors passed: initializing default configuration.\n",
      "No extractors passed: initializing default configuration.\n",
      "No extractors passed: initializing default configuration.\n",
      "No extractors passed: initializing default configuration.\n",
      "No extractors passed: initializing default configuration.\n",
      "No extractors passed: initializing default configuration.\n",
      "No extractors passed: initializing default configuration.\n",
      "No combinedScorers passed: initializing default configuration.\n",
      "No combinedScorers passed: initializing default configuration.\n",
      "No combinedScorers passed: initializing default configuration.\n",
      "No combinedScorers passed: initializing default configuration.\n",
      "No combinedScorers passed: initializing default configuration.\n",
      "No combinedScorers passed: initializing default configuration.\n",
      "No combinedScorers passed: initializing default configuration.\n",
      "No combinedScorers passed: initializing default configuration.\n"
     ]
    },
    {
     "name": "stdout",
     "output_type": "stream",
     "text": [
      "date publish: 2019-03-14 16:56:50\n",
      "URL: https://www.bbc.com/news/uk-england-derbyshire-47563576?intlink_from_url=https://www.bbc.com/news/topics/c77jz3mdmr3t/human-trafficking&link_location=live-reporting-story\n"
     ]
    },
    {
     "name": "stderr",
     "output_type": "stream",
     "text": [
      "/home/aman/anaconda3/lib/python3.6/site-packages/Giveme5W1H/examples/caches/Nominatim.prickle LOADED: Derby: [Location(Derby, East Midlands, England, DE1 2AA, UK, (52.9212617, -1.4761491, 0.0)), '1554122872.9007413']\n",
      "/home/aman/anaconda3/lib/python3.6/site-packages/Giveme5W1H/examples/caches/Nominatim.prickle LOADED: Derby: [Location(Derby, East Midlands, England, DE1 2AA, UK, (52.9212617, -1.4761491, 0.0)), '1554122872.9007413']\n",
      "/home/aman/anaconda3/lib/python3.6/site-packages/Giveme5W1H/examples/caches/Nominatim.prickle LOADED: Derby: [Location(Derby, East Midlands, England, DE1 2AA, UK, (52.9212617, -1.4761491, 0.0)), '1554122872.9007413']\n",
      "/home/aman/anaconda3/lib/python3.6/site-packages/Giveme5W1H/examples/caches/Nominatim.prickle LOADED: Derby: [Location(Derby, East Midlands, England, DE1 2AA, UK, (52.9212617, -1.4761491, 0.0)), '1554122872.9007413']\n",
      "/home/aman/anaconda3/lib/python3.6/site-packages/Giveme5W1H/examples/caches/Nominatim.prickle LOADED: Derby: [Location(Derby, East Midlands, England, DE1 2AA, UK, (52.9212617, -1.4761491, 0.0)), '1554122872.9007413']\n",
      "/home/aman/anaconda3/lib/python3.6/site-packages/Giveme5W1H/examples/caches/Nominatim.prickle LOADED: Derby: [Location(Derby, East Midlands, England, DE1 2AA, UK, (52.9212617, -1.4761491, 0.0)), '1554122872.9007413']\n",
      "/home/aman/anaconda3/lib/python3.6/site-packages/Giveme5W1H/examples/caches/Nominatim.prickle LOADED: Derby: [Location(Derby, East Midlands, England, DE1 2AA, UK, (52.9212617, -1.4761491, 0.0)), '1554122872.9007413']\n",
      "/home/aman/anaconda3/lib/python3.6/site-packages/Giveme5W1H/examples/caches/Nominatim.prickle LOADED: Derby: [Location(Derby, East Midlands, England, DE1 2AA, UK, (52.9212617, -1.4761491, 0.0)), '1554122872.9007413']\n",
      "/home/aman/anaconda3/lib/python3.6/site-packages/Giveme5W1H/examples/caches/Nominatim.prickle LOADED: UK: [Location(UK, (54.7023545, -3.2765753, 0.0)), '1554122874.8004813']\n",
      "/home/aman/anaconda3/lib/python3.6/site-packages/Giveme5W1H/examples/caches/Nominatim.prickle LOADED: UK: [Location(UK, (54.7023545, -3.2765753, 0.0)), '1554122874.8004813']\n",
      "/home/aman/anaconda3/lib/python3.6/site-packages/Giveme5W1H/examples/caches/Nominatim.prickle LOADED: UK: [Location(UK, (54.7023545, -3.2765753, 0.0)), '1554122874.8004813']\n",
      "/home/aman/anaconda3/lib/python3.6/site-packages/Giveme5W1H/examples/caches/Nominatim.prickle LOADED: UK: [Location(UK, (54.7023545, -3.2765753, 0.0)), '1554122874.8004813']\n",
      "/home/aman/anaconda3/lib/python3.6/site-packages/Giveme5W1H/examples/caches/Nominatim.prickle LOADED: UK: [Location(UK, (54.7023545, -3.2765753, 0.0)), '1554122874.8004813']\n",
      "/home/aman/anaconda3/lib/python3.6/site-packages/Giveme5W1H/examples/caches/Nominatim.prickle LOADED: UK: [Location(UK, (54.7023545, -3.2765753, 0.0)), '1554122874.8004813']\n",
      "/home/aman/anaconda3/lib/python3.6/site-packages/Giveme5W1H/examples/caches/Nominatim.prickle LOADED: UK: [Location(UK, (54.7023545, -3.2765753, 0.0)), '1554122874.8004813']\n",
      "/home/aman/anaconda3/lib/python3.6/site-packages/Giveme5W1H/examples/caches/Nominatim.prickle LOADED: UK: [Location(UK, (54.7023545, -3.2765753, 0.0)), '1554122874.8004813']\n",
      "/home/aman/anaconda3/lib/python3.6/site-packages/Giveme5W1H/examples/caches/Nominatim.prickle LOADED: UK: [Location(UK, (54.7023545, -3.2765753, 0.0)), '1554122874.8004813']\n",
      "/home/aman/anaconda3/lib/python3.6/site-packages/Giveme5W1H/examples/caches/Nominatim.prickle LOADED: UK: [Location(UK, (54.7023545, -3.2765753, 0.0)), '1554122874.8004813']\n",
      "/home/aman/anaconda3/lib/python3.6/site-packages/Giveme5W1H/examples/caches/Nominatim.prickle LOADED: UK: [Location(UK, (54.7023545, -3.2765753, 0.0)), '1554122874.8004813']\n",
      "/home/aman/anaconda3/lib/python3.6/site-packages/Giveme5W1H/examples/caches/Nominatim.prickle LOADED: UK: [Location(UK, (54.7023545, -3.2765753, 0.0)), '1554122874.8004813']\n",
      "/home/aman/anaconda3/lib/python3.6/site-packages/Giveme5W1H/examples/caches/Nominatim.prickle LOADED: UK: [Location(UK, (54.7023545, -3.2765753, 0.0)), '1554122874.8004813']\n",
      "/home/aman/anaconda3/lib/python3.6/site-packages/Giveme5W1H/examples/caches/Nominatim.prickle LOADED: UK: [Location(UK, (54.7023545, -3.2765753, 0.0)), '1554122874.8004813']\n",
      "/home/aman/anaconda3/lib/python3.6/site-packages/Giveme5W1H/examples/caches/Nominatim.prickle LOADED: UK: [Location(UK, (54.7023545, -3.2765753, 0.0)), '1554122874.8004813']\n",
      "/home/aman/anaconda3/lib/python3.6/site-packages/Giveme5W1H/examples/caches/Nominatim.prickle LOADED: UK: [Location(UK, (54.7023545, -3.2765753, 0.0)), '1554122874.8004813']\n",
      "/home/aman/anaconda3/lib/python3.6/site-packages/Giveme5W1H/examples/caches/Nominatim.prickle LOADED: Derby: [Location(Derby, East Midlands, England, DE1 2AA, UK, (52.9212617, -1.4761491, 0.0)), '1554122872.9007413']\n",
      "/home/aman/anaconda3/lib/python3.6/site-packages/Giveme5W1H/examples/caches/Nominatim.prickle LOADED: Derby: [Location(Derby, East Midlands, England, DE1 2AA, UK, (52.9212617, -1.4761491, 0.0)), '1554122872.9007413']\n",
      "/home/aman/anaconda3/lib/python3.6/site-packages/Giveme5W1H/examples/caches/Nominatim.prickle LOADED: Derby: [Location(Derby, East Midlands, England, DE1 2AA, UK, (52.9212617, -1.4761491, 0.0)), '1554122872.9007413']\n",
      "/home/aman/anaconda3/lib/python3.6/site-packages/Giveme5W1H/examples/caches/Nominatim.prickle LOADED: Derby: [Location(Derby, East Midlands, England, DE1 2AA, UK, (52.9212617, -1.4761491, 0.0)), '1554122872.9007413']\n",
      "/home/aman/anaconda3/lib/python3.6/site-packages/Giveme5W1H/examples/caches/Nominatim.prickle LOADED: Derby: [Location(Derby, East Midlands, England, DE1 2AA, UK, (52.9212617, -1.4761491, 0.0)), '1554122872.9007413']\n",
      "/home/aman/anaconda3/lib/python3.6/site-packages/Giveme5W1H/examples/caches/Nominatim.prickle LOADED: Derby: [Location(Derby, East Midlands, England, DE1 2AA, UK, (52.9212617, -1.4761491, 0.0)), '1554122872.9007413']\n",
      "/home/aman/anaconda3/lib/python3.6/site-packages/Giveme5W1H/examples/caches/Nominatim.prickle LOADED: Derby: [Location(Derby, East Midlands, England, DE1 2AA, UK, (52.9212617, -1.4761491, 0.0)), '1554122872.9007413']\n",
      "/home/aman/anaconda3/lib/python3.6/site-packages/Giveme5W1H/examples/caches/Nominatim.prickle LOADED: Derby: [Location(Derby, East Midlands, England, DE1 2AA, UK, (52.9212617, -1.4761491, 0.0)), '1554122872.9007413']\n",
      "/home/aman/anaconda3/lib/python3.6/site-packages/Giveme5W1H/examples/caches/Nominatim.prickle LOADED: Burton Road: [Location(Burton Road, Burnaston CP, South Derbyshire, Derbyshire, East Midlands, England, DE65 6PR, UK, (52.8743964, -1.5570653, 0.0)), '1554122875.795196']\n",
      "/home/aman/anaconda3/lib/python3.6/site-packages/Giveme5W1H/examples/caches/Nominatim.prickle LOADED: Burton Road: [Location(Burton Road, Burnaston CP, South Derbyshire, Derbyshire, East Midlands, England, DE65 6PR, UK, (52.8743964, -1.5570653, 0.0)), '1554122875.795196']\n",
      "/home/aman/anaconda3/lib/python3.6/site-packages/Giveme5W1H/examples/caches/Nominatim.prickle LOADED: Burton Road: [Location(Burton Road, Burnaston CP, South Derbyshire, Derbyshire, East Midlands, England, DE65 6PR, UK, (52.8743964, -1.5570653, 0.0)), '1554122875.795196']\n",
      "/home/aman/anaconda3/lib/python3.6/site-packages/Giveme5W1H/examples/caches/Nominatim.prickle LOADED: Burton Road: [Location(Burton Road, Burnaston CP, South Derbyshire, Derbyshire, East Midlands, England, DE65 6PR, UK, (52.8743964, -1.5570653, 0.0)), '1554122875.795196']\n",
      "/home/aman/anaconda3/lib/python3.6/site-packages/Giveme5W1H/examples/caches/Nominatim.prickle LOADED: Burton Road: [Location(Burton Road, Burnaston CP, South Derbyshire, Derbyshire, East Midlands, England, DE65 6PR, UK, (52.8743964, -1.5570653, 0.0)), '1554122875.795196']\n",
      "/home/aman/anaconda3/lib/python3.6/site-packages/Giveme5W1H/examples/caches/Nominatim.prickle LOADED: Burton Road: [Location(Burton Road, Burnaston CP, South Derbyshire, Derbyshire, East Midlands, England, DE65 6PR, UK, (52.8743964, -1.5570653, 0.0)), '1554122875.795196']\n",
      "/home/aman/anaconda3/lib/python3.6/site-packages/Giveme5W1H/examples/caches/Nominatim.prickle LOADED: Burton Road: [Location(Burton Road, Burnaston CP, South Derbyshire, Derbyshire, East Midlands, England, DE65 6PR, UK, (52.8743964, -1.5570653, 0.0)), '1554122875.795196']\n",
      "/home/aman/anaconda3/lib/python3.6/site-packages/Giveme5W1H/examples/caches/Nominatim.prickle LOADED: Burton Road: [Location(Burton Road, Burnaston CP, South Derbyshire, Derbyshire, East Midlands, England, DE65 6PR, UK, (52.8743964, -1.5570653, 0.0)), '1554122875.795196']\n"
     ]
    },
    {
     "name": "stderr",
     "output_type": "stream",
     "text": [
      "/home/aman/anaconda3/lib/python3.6/site-packages/Giveme5W1H/examples/caches/Nominatim.prickle LOADED: Violet Street , Normanton: [Location(Violet Street, Rose Hill, Peartree, Derby, East Midlands, England, DE23 8SQ, UK, (52.9039592, -1.4837683, 0.0)), '1554122876.7952602']\n",
      "/home/aman/anaconda3/lib/python3.6/site-packages/Giveme5W1H/examples/caches/Nominatim.prickle LOADED: Violet Street , Normanton: [Location(Violet Street, Rose Hill, Peartree, Derby, East Midlands, England, DE23 8SQ, UK, (52.9039592, -1.4837683, 0.0)), '1554122876.7952602']\n",
      "/home/aman/anaconda3/lib/python3.6/site-packages/Giveme5W1H/examples/caches/Nominatim.prickle LOADED: Violet Street , Normanton: [Location(Violet Street, Rose Hill, Peartree, Derby, East Midlands, England, DE23 8SQ, UK, (52.9039592, -1.4837683, 0.0)), '1554122876.7952602']\n",
      "/home/aman/anaconda3/lib/python3.6/site-packages/Giveme5W1H/examples/caches/Nominatim.prickle LOADED: Violet Street , Normanton: [Location(Violet Street, Rose Hill, Peartree, Derby, East Midlands, England, DE23 8SQ, UK, (52.9039592, -1.4837683, 0.0)), '1554122876.7952602']\n",
      "/home/aman/anaconda3/lib/python3.6/site-packages/Giveme5W1H/examples/caches/Nominatim.prickle LOADED: Violet Street , Normanton: [Location(Violet Street, Rose Hill, Peartree, Derby, East Midlands, England, DE23 8SQ, UK, (52.9039592, -1.4837683, 0.0)), '1554122876.7952602']\n",
      "/home/aman/anaconda3/lib/python3.6/site-packages/Giveme5W1H/examples/caches/Nominatim.prickle LOADED: Violet Street , Normanton: [Location(Violet Street, Rose Hill, Peartree, Derby, East Midlands, England, DE23 8SQ, UK, (52.9039592, -1.4837683, 0.0)), '1554122876.7952602']\n",
      "/home/aman/anaconda3/lib/python3.6/site-packages/Giveme5W1H/examples/caches/Nominatim.prickle LOADED: Violet Street , Normanton: [Location(Violet Street, Rose Hill, Peartree, Derby, East Midlands, England, DE23 8SQ, UK, (52.9039592, -1.4837683, 0.0)), '1554122876.7952602']\n",
      "/home/aman/anaconda3/lib/python3.6/site-packages/Giveme5W1H/examples/caches/Nominatim.prickle LOADED: Violet Street , Normanton: [Location(Violet Street, Rose Hill, Peartree, Derby, East Midlands, England, DE23 8SQ, UK, (52.9039592, -1.4837683, 0.0)), '1554122876.7952602']\n",
      "/home/aman/anaconda3/lib/python3.6/site-packages/Giveme5W1H/examples/caches/Nominatim.prickle LOADED: Burton-on-Trent: [Location(Burton-on-Trent, Staffordshire, West Midlands, England, DE14 1JF, UK, (52.8015803, -1.6305633, 0.0)), '1554122877.708433']\n",
      "/home/aman/anaconda3/lib/python3.6/site-packages/Giveme5W1H/examples/caches/Nominatim.prickle LOADED: Burton-on-Trent: [Location(Burton-on-Trent, Staffordshire, West Midlands, England, DE14 1JF, UK, (52.8015803, -1.6305633, 0.0)), '1554122877.708433']\n",
      "/home/aman/anaconda3/lib/python3.6/site-packages/Giveme5W1H/examples/caches/Nominatim.prickle LOADED: Burton-on-Trent: [Location(Burton-on-Trent, Staffordshire, West Midlands, England, DE14 1JF, UK, (52.8015803, -1.6305633, 0.0)), '1554122877.708433']\n",
      "/home/aman/anaconda3/lib/python3.6/site-packages/Giveme5W1H/examples/caches/Nominatim.prickle LOADED: Burton-on-Trent: [Location(Burton-on-Trent, Staffordshire, West Midlands, England, DE14 1JF, UK, (52.8015803, -1.6305633, 0.0)), '1554122877.708433']\n",
      "/home/aman/anaconda3/lib/python3.6/site-packages/Giveme5W1H/examples/caches/Nominatim.prickle LOADED: Burton-on-Trent: [Location(Burton-on-Trent, Staffordshire, West Midlands, England, DE14 1JF, UK, (52.8015803, -1.6305633, 0.0)), '1554122877.708433']\n",
      "/home/aman/anaconda3/lib/python3.6/site-packages/Giveme5W1H/examples/caches/Nominatim.prickle LOADED: Burton-on-Trent: [Location(Burton-on-Trent, Staffordshire, West Midlands, England, DE14 1JF, UK, (52.8015803, -1.6305633, 0.0)), '1554122877.708433']\n",
      "/home/aman/anaconda3/lib/python3.6/site-packages/Giveme5W1H/examples/caches/Nominatim.prickle LOADED: Burton-on-Trent: [Location(Burton-on-Trent, Staffordshire, West Midlands, England, DE14 1JF, UK, (52.8015803, -1.6305633, 0.0)), '1554122877.708433']\n",
      "/home/aman/anaconda3/lib/python3.6/site-packages/Giveme5W1H/examples/caches/Nominatim.prickle LOADED: Burton-on-Trent: [Location(Burton-on-Trent, Staffordshire, West Midlands, England, DE14 1JF, UK, (52.8015803, -1.6305633, 0.0)), '1554122877.708433']\n",
      "/home/aman/anaconda3/lib/python3.6/site-packages/Giveme5W1H/examples/caches/Nominatim.prickle LOADED: Uttoxeter New Road , Derby: [Location(Uttoxeter New Road, California, Littleover, Derby, East Midlands, England, DE22 3HN, UK, (52.9121001, -1.5147617, 0.0)), '1554122878.7269833']\n",
      "/home/aman/anaconda3/lib/python3.6/site-packages/Giveme5W1H/examples/caches/Nominatim.prickle LOADED: Uttoxeter New Road , Derby: [Location(Uttoxeter New Road, California, Littleover, Derby, East Midlands, England, DE22 3HN, UK, (52.9121001, -1.5147617, 0.0)), '1554122878.7269833']\n",
      "/home/aman/anaconda3/lib/python3.6/site-packages/Giveme5W1H/examples/caches/Nominatim.prickle LOADED: Uttoxeter New Road , Derby: [Location(Uttoxeter New Road, California, Littleover, Derby, East Midlands, England, DE22 3HN, UK, (52.9121001, -1.5147617, 0.0)), '1554122878.7269833']\n",
      "/home/aman/anaconda3/lib/python3.6/site-packages/Giveme5W1H/examples/caches/Nominatim.prickle LOADED: Uttoxeter New Road , Derby: [Location(Uttoxeter New Road, California, Littleover, Derby, East Midlands, England, DE22 3HN, UK, (52.9121001, -1.5147617, 0.0)), '1554122878.7269833']\n",
      "/home/aman/anaconda3/lib/python3.6/site-packages/Giveme5W1H/examples/caches/Nominatim.prickle LOADED: Uttoxeter New Road , Derby: [Location(Uttoxeter New Road, California, Littleover, Derby, East Midlands, England, DE22 3HN, UK, (52.9121001, -1.5147617, 0.0)), '1554122878.7269833']\n",
      "/home/aman/anaconda3/lib/python3.6/site-packages/Giveme5W1H/examples/caches/Nominatim.prickle LOADED: Uttoxeter New Road , Derby: [Location(Uttoxeter New Road, California, Littleover, Derby, East Midlands, England, DE22 3HN, UK, (52.9121001, -1.5147617, 0.0)), '1554122878.7269833']\n",
      "/home/aman/anaconda3/lib/python3.6/site-packages/Giveme5W1H/examples/caches/Nominatim.prickle LOADED: Uttoxeter New Road , Derby: [Location(Uttoxeter New Road, California, Littleover, Derby, East Midlands, England, DE22 3HN, UK, (52.9121001, -1.5147617, 0.0)), '1554122878.7269833']\n",
      "/home/aman/anaconda3/lib/python3.6/site-packages/Giveme5W1H/examples/caches/Nominatim.prickle LOADED: Uttoxeter New Road , Derby: [Location(Uttoxeter New Road, California, Littleover, Derby, East Midlands, England, DE22 3HN, UK, (52.9121001, -1.5147617, 0.0)), '1554122878.7269833']\n",
      "/home/aman/anaconda3/lib/python3.6/site-packages/Giveme5W1H/examples/caches/Nominatim.prickle LOADED: East Midlands: [Location(East Midlands, England, UK, (52.79657515, -0.671822256833873, 0.0)), '1554122879.6839538']\n",
      "/home/aman/anaconda3/lib/python3.6/site-packages/Giveme5W1H/examples/caches/Nominatim.prickle LOADED: East Midlands: [Location(East Midlands, England, UK, (52.79657515, -0.671822256833873, 0.0)), '1554122879.6839538']\n",
      "/home/aman/anaconda3/lib/python3.6/site-packages/Giveme5W1H/examples/caches/Nominatim.prickle LOADED: East Midlands: [Location(East Midlands, England, UK, (52.79657515, -0.671822256833873, 0.0)), '1554122879.6839538']\n",
      "/home/aman/anaconda3/lib/python3.6/site-packages/Giveme5W1H/examples/caches/Nominatim.prickle LOADED: East Midlands: [Location(East Midlands, England, UK, (52.79657515, -0.671822256833873, 0.0)), '1554122879.6839538']\n",
      "/home/aman/anaconda3/lib/python3.6/site-packages/Giveme5W1H/examples/caches/Nominatim.prickle LOADED: East Midlands: [Location(East Midlands, England, UK, (52.79657515, -0.671822256833873, 0.0)), '1554122879.6839538']\n",
      "/home/aman/anaconda3/lib/python3.6/site-packages/Giveme5W1H/examples/caches/Nominatim.prickle LOADED: East Midlands: [Location(East Midlands, England, UK, (52.79657515, -0.671822256833873, 0.0)), '1554122879.6839538']\n",
      "/home/aman/anaconda3/lib/python3.6/site-packages/Giveme5W1H/examples/caches/Nominatim.prickle LOADED: East Midlands: [Location(East Midlands, England, UK, (52.79657515, -0.671822256833873, 0.0)), '1554122879.6839538']\n",
      "/home/aman/anaconda3/lib/python3.6/site-packages/Giveme5W1H/examples/caches/Nominatim.prickle LOADED: East Midlands: [Location(East Midlands, England, UK, (52.79657515, -0.671822256833873, 0.0)), '1554122879.6839538']\n"
     ]
    },
    {
     "name": "stderr",
     "output_type": "stream",
     "text": [
      "No extractors passed: initializing default configuration.\n",
      "No extractors passed: initializing default configuration.\n",
      "No extractors passed: initializing default configuration.\n",
      "No extractors passed: initializing default configuration.\n",
      "No extractors passed: initializing default configuration.\n",
      "No extractors passed: initializing default configuration.\n",
      "No extractors passed: initializing default configuration.\n",
      "No extractors passed: initializing default configuration.\n",
      "No combinedScorers passed: initializing default configuration.\n",
      "No combinedScorers passed: initializing default configuration.\n",
      "No combinedScorers passed: initializing default configuration.\n",
      "No combinedScorers passed: initializing default configuration.\n",
      "No combinedScorers passed: initializing default configuration.\n",
      "No combinedScorers passed: initializing default configuration.\n",
      "No combinedScorers passed: initializing default configuration.\n",
      "No combinedScorers passed: initializing default configuration.\n"
     ]
    },
    {
     "name": "stdout",
     "output_type": "stream",
     "text": [
      "date publish: 2019-03-14 16:56:50\n",
      "URL: https://www.bbc.com/news/uk-england-derbyshire-47563576?intlink_from_url=https://www.bbc.com/news/topics/c77jz3mdmr3t/human-trafficking&link_location=live-reporting-story\n"
     ]
    },
    {
     "name": "stderr",
     "output_type": "stream",
     "text": [
      "/home/aman/anaconda3/lib/python3.6/site-packages/Giveme5W1H/examples/caches/Nominatim.prickle LOADED: Derby: [Location(Derby, East Midlands, England, DE1 2AA, UK, (52.9212617, -1.4761491, 0.0)), '1554122872.9007413']\n",
      "/home/aman/anaconda3/lib/python3.6/site-packages/Giveme5W1H/examples/caches/Nominatim.prickle LOADED: Derby: [Location(Derby, East Midlands, England, DE1 2AA, UK, (52.9212617, -1.4761491, 0.0)), '1554122872.9007413']\n",
      "/home/aman/anaconda3/lib/python3.6/site-packages/Giveme5W1H/examples/caches/Nominatim.prickle LOADED: Derby: [Location(Derby, East Midlands, England, DE1 2AA, UK, (52.9212617, -1.4761491, 0.0)), '1554122872.9007413']\n",
      "/home/aman/anaconda3/lib/python3.6/site-packages/Giveme5W1H/examples/caches/Nominatim.prickle LOADED: Derby: [Location(Derby, East Midlands, England, DE1 2AA, UK, (52.9212617, -1.4761491, 0.0)), '1554122872.9007413']\n",
      "/home/aman/anaconda3/lib/python3.6/site-packages/Giveme5W1H/examples/caches/Nominatim.prickle LOADED: Derby: [Location(Derby, East Midlands, England, DE1 2AA, UK, (52.9212617, -1.4761491, 0.0)), '1554122872.9007413']\n",
      "/home/aman/anaconda3/lib/python3.6/site-packages/Giveme5W1H/examples/caches/Nominatim.prickle LOADED: Derby: [Location(Derby, East Midlands, England, DE1 2AA, UK, (52.9212617, -1.4761491, 0.0)), '1554122872.9007413']\n",
      "/home/aman/anaconda3/lib/python3.6/site-packages/Giveme5W1H/examples/caches/Nominatim.prickle LOADED: Derby: [Location(Derby, East Midlands, England, DE1 2AA, UK, (52.9212617, -1.4761491, 0.0)), '1554122872.9007413']\n",
      "/home/aman/anaconda3/lib/python3.6/site-packages/Giveme5W1H/examples/caches/Nominatim.prickle LOADED: Derby: [Location(Derby, East Midlands, England, DE1 2AA, UK, (52.9212617, -1.4761491, 0.0)), '1554122872.9007413']\n",
      "/home/aman/anaconda3/lib/python3.6/site-packages/Giveme5W1H/examples/caches/Nominatim.prickle LOADED: UK: [Location(UK, (54.7023545, -3.2765753, 0.0)), '1554122874.8004813']\n",
      "/home/aman/anaconda3/lib/python3.6/site-packages/Giveme5W1H/examples/caches/Nominatim.prickle LOADED: UK: [Location(UK, (54.7023545, -3.2765753, 0.0)), '1554122874.8004813']\n",
      "/home/aman/anaconda3/lib/python3.6/site-packages/Giveme5W1H/examples/caches/Nominatim.prickle LOADED: UK: [Location(UK, (54.7023545, -3.2765753, 0.0)), '1554122874.8004813']\n",
      "/home/aman/anaconda3/lib/python3.6/site-packages/Giveme5W1H/examples/caches/Nominatim.prickle LOADED: UK: [Location(UK, (54.7023545, -3.2765753, 0.0)), '1554122874.8004813']\n",
      "/home/aman/anaconda3/lib/python3.6/site-packages/Giveme5W1H/examples/caches/Nominatim.prickle LOADED: UK: [Location(UK, (54.7023545, -3.2765753, 0.0)), '1554122874.8004813']\n",
      "/home/aman/anaconda3/lib/python3.6/site-packages/Giveme5W1H/examples/caches/Nominatim.prickle LOADED: UK: [Location(UK, (54.7023545, -3.2765753, 0.0)), '1554122874.8004813']\n",
      "/home/aman/anaconda3/lib/python3.6/site-packages/Giveme5W1H/examples/caches/Nominatim.prickle LOADED: UK: [Location(UK, (54.7023545, -3.2765753, 0.0)), '1554122874.8004813']\n",
      "/home/aman/anaconda3/lib/python3.6/site-packages/Giveme5W1H/examples/caches/Nominatim.prickle LOADED: UK: [Location(UK, (54.7023545, -3.2765753, 0.0)), '1554122874.8004813']\n",
      "/home/aman/anaconda3/lib/python3.6/site-packages/Giveme5W1H/examples/caches/Nominatim.prickle LOADED: UK: [Location(UK, (54.7023545, -3.2765753, 0.0)), '1554122874.8004813']\n",
      "/home/aman/anaconda3/lib/python3.6/site-packages/Giveme5W1H/examples/caches/Nominatim.prickle LOADED: UK: [Location(UK, (54.7023545, -3.2765753, 0.0)), '1554122874.8004813']\n",
      "/home/aman/anaconda3/lib/python3.6/site-packages/Giveme5W1H/examples/caches/Nominatim.prickle LOADED: UK: [Location(UK, (54.7023545, -3.2765753, 0.0)), '1554122874.8004813']\n",
      "/home/aman/anaconda3/lib/python3.6/site-packages/Giveme5W1H/examples/caches/Nominatim.prickle LOADED: UK: [Location(UK, (54.7023545, -3.2765753, 0.0)), '1554122874.8004813']\n",
      "/home/aman/anaconda3/lib/python3.6/site-packages/Giveme5W1H/examples/caches/Nominatim.prickle LOADED: UK: [Location(UK, (54.7023545, -3.2765753, 0.0)), '1554122874.8004813']\n",
      "/home/aman/anaconda3/lib/python3.6/site-packages/Giveme5W1H/examples/caches/Nominatim.prickle LOADED: UK: [Location(UK, (54.7023545, -3.2765753, 0.0)), '1554122874.8004813']\n",
      "/home/aman/anaconda3/lib/python3.6/site-packages/Giveme5W1H/examples/caches/Nominatim.prickle LOADED: UK: [Location(UK, (54.7023545, -3.2765753, 0.0)), '1554122874.8004813']\n",
      "/home/aman/anaconda3/lib/python3.6/site-packages/Giveme5W1H/examples/caches/Nominatim.prickle LOADED: UK: [Location(UK, (54.7023545, -3.2765753, 0.0)), '1554122874.8004813']\n",
      "/home/aman/anaconda3/lib/python3.6/site-packages/Giveme5W1H/examples/caches/Nominatim.prickle LOADED: Derby: [Location(Derby, East Midlands, England, DE1 2AA, UK, (52.9212617, -1.4761491, 0.0)), '1554122872.9007413']\n",
      "/home/aman/anaconda3/lib/python3.6/site-packages/Giveme5W1H/examples/caches/Nominatim.prickle LOADED: Derby: [Location(Derby, East Midlands, England, DE1 2AA, UK, (52.9212617, -1.4761491, 0.0)), '1554122872.9007413']\n",
      "/home/aman/anaconda3/lib/python3.6/site-packages/Giveme5W1H/examples/caches/Nominatim.prickle LOADED: Derby: [Location(Derby, East Midlands, England, DE1 2AA, UK, (52.9212617, -1.4761491, 0.0)), '1554122872.9007413']\n",
      "/home/aman/anaconda3/lib/python3.6/site-packages/Giveme5W1H/examples/caches/Nominatim.prickle LOADED: Derby: [Location(Derby, East Midlands, England, DE1 2AA, UK, (52.9212617, -1.4761491, 0.0)), '1554122872.9007413']\n",
      "/home/aman/anaconda3/lib/python3.6/site-packages/Giveme5W1H/examples/caches/Nominatim.prickle LOADED: Derby: [Location(Derby, East Midlands, England, DE1 2AA, UK, (52.9212617, -1.4761491, 0.0)), '1554122872.9007413']\n",
      "/home/aman/anaconda3/lib/python3.6/site-packages/Giveme5W1H/examples/caches/Nominatim.prickle LOADED: Derby: [Location(Derby, East Midlands, England, DE1 2AA, UK, (52.9212617, -1.4761491, 0.0)), '1554122872.9007413']\n",
      "/home/aman/anaconda3/lib/python3.6/site-packages/Giveme5W1H/examples/caches/Nominatim.prickle LOADED: Derby: [Location(Derby, East Midlands, England, DE1 2AA, UK, (52.9212617, -1.4761491, 0.0)), '1554122872.9007413']\n",
      "/home/aman/anaconda3/lib/python3.6/site-packages/Giveme5W1H/examples/caches/Nominatim.prickle LOADED: Derby: [Location(Derby, East Midlands, England, DE1 2AA, UK, (52.9212617, -1.4761491, 0.0)), '1554122872.9007413']\n",
      "/home/aman/anaconda3/lib/python3.6/site-packages/Giveme5W1H/examples/caches/Nominatim.prickle LOADED: Burton Road: [Location(Burton Road, Burnaston CP, South Derbyshire, Derbyshire, East Midlands, England, DE65 6PR, UK, (52.8743964, -1.5570653, 0.0)), '1554122875.795196']\n",
      "/home/aman/anaconda3/lib/python3.6/site-packages/Giveme5W1H/examples/caches/Nominatim.prickle LOADED: Burton Road: [Location(Burton Road, Burnaston CP, South Derbyshire, Derbyshire, East Midlands, England, DE65 6PR, UK, (52.8743964, -1.5570653, 0.0)), '1554122875.795196']\n",
      "/home/aman/anaconda3/lib/python3.6/site-packages/Giveme5W1H/examples/caches/Nominatim.prickle LOADED: Burton Road: [Location(Burton Road, Burnaston CP, South Derbyshire, Derbyshire, East Midlands, England, DE65 6PR, UK, (52.8743964, -1.5570653, 0.0)), '1554122875.795196']\n",
      "/home/aman/anaconda3/lib/python3.6/site-packages/Giveme5W1H/examples/caches/Nominatim.prickle LOADED: Burton Road: [Location(Burton Road, Burnaston CP, South Derbyshire, Derbyshire, East Midlands, England, DE65 6PR, UK, (52.8743964, -1.5570653, 0.0)), '1554122875.795196']\n",
      "/home/aman/anaconda3/lib/python3.6/site-packages/Giveme5W1H/examples/caches/Nominatim.prickle LOADED: Burton Road: [Location(Burton Road, Burnaston CP, South Derbyshire, Derbyshire, East Midlands, England, DE65 6PR, UK, (52.8743964, -1.5570653, 0.0)), '1554122875.795196']\n",
      "/home/aman/anaconda3/lib/python3.6/site-packages/Giveme5W1H/examples/caches/Nominatim.prickle LOADED: Burton Road: [Location(Burton Road, Burnaston CP, South Derbyshire, Derbyshire, East Midlands, England, DE65 6PR, UK, (52.8743964, -1.5570653, 0.0)), '1554122875.795196']\n",
      "/home/aman/anaconda3/lib/python3.6/site-packages/Giveme5W1H/examples/caches/Nominatim.prickle LOADED: Burton Road: [Location(Burton Road, Burnaston CP, South Derbyshire, Derbyshire, East Midlands, England, DE65 6PR, UK, (52.8743964, -1.5570653, 0.0)), '1554122875.795196']\n",
      "/home/aman/anaconda3/lib/python3.6/site-packages/Giveme5W1H/examples/caches/Nominatim.prickle LOADED: Burton Road: [Location(Burton Road, Burnaston CP, South Derbyshire, Derbyshire, East Midlands, England, DE65 6PR, UK, (52.8743964, -1.5570653, 0.0)), '1554122875.795196']\n"
     ]
    },
    {
     "name": "stderr",
     "output_type": "stream",
     "text": [
      "/home/aman/anaconda3/lib/python3.6/site-packages/Giveme5W1H/examples/caches/Nominatim.prickle LOADED: Violet Street , Normanton: [Location(Violet Street, Rose Hill, Peartree, Derby, East Midlands, England, DE23 8SQ, UK, (52.9039592, -1.4837683, 0.0)), '1554122876.7952602']\n",
      "/home/aman/anaconda3/lib/python3.6/site-packages/Giveme5W1H/examples/caches/Nominatim.prickle LOADED: Violet Street , Normanton: [Location(Violet Street, Rose Hill, Peartree, Derby, East Midlands, England, DE23 8SQ, UK, (52.9039592, -1.4837683, 0.0)), '1554122876.7952602']\n",
      "/home/aman/anaconda3/lib/python3.6/site-packages/Giveme5W1H/examples/caches/Nominatim.prickle LOADED: Violet Street , Normanton: [Location(Violet Street, Rose Hill, Peartree, Derby, East Midlands, England, DE23 8SQ, UK, (52.9039592, -1.4837683, 0.0)), '1554122876.7952602']\n",
      "/home/aman/anaconda3/lib/python3.6/site-packages/Giveme5W1H/examples/caches/Nominatim.prickle LOADED: Violet Street , Normanton: [Location(Violet Street, Rose Hill, Peartree, Derby, East Midlands, England, DE23 8SQ, UK, (52.9039592, -1.4837683, 0.0)), '1554122876.7952602']\n",
      "/home/aman/anaconda3/lib/python3.6/site-packages/Giveme5W1H/examples/caches/Nominatim.prickle LOADED: Violet Street , Normanton: [Location(Violet Street, Rose Hill, Peartree, Derby, East Midlands, England, DE23 8SQ, UK, (52.9039592, -1.4837683, 0.0)), '1554122876.7952602']\n",
      "/home/aman/anaconda3/lib/python3.6/site-packages/Giveme5W1H/examples/caches/Nominatim.prickle LOADED: Violet Street , Normanton: [Location(Violet Street, Rose Hill, Peartree, Derby, East Midlands, England, DE23 8SQ, UK, (52.9039592, -1.4837683, 0.0)), '1554122876.7952602']\n",
      "/home/aman/anaconda3/lib/python3.6/site-packages/Giveme5W1H/examples/caches/Nominatim.prickle LOADED: Violet Street , Normanton: [Location(Violet Street, Rose Hill, Peartree, Derby, East Midlands, England, DE23 8SQ, UK, (52.9039592, -1.4837683, 0.0)), '1554122876.7952602']\n",
      "/home/aman/anaconda3/lib/python3.6/site-packages/Giveme5W1H/examples/caches/Nominatim.prickle LOADED: Violet Street , Normanton: [Location(Violet Street, Rose Hill, Peartree, Derby, East Midlands, England, DE23 8SQ, UK, (52.9039592, -1.4837683, 0.0)), '1554122876.7952602']\n",
      "/home/aman/anaconda3/lib/python3.6/site-packages/Giveme5W1H/examples/caches/Nominatim.prickle LOADED: Burton-on-Trent: [Location(Burton-on-Trent, Staffordshire, West Midlands, England, DE14 1JF, UK, (52.8015803, -1.6305633, 0.0)), '1554122877.708433']\n",
      "/home/aman/anaconda3/lib/python3.6/site-packages/Giveme5W1H/examples/caches/Nominatim.prickle LOADED: Burton-on-Trent: [Location(Burton-on-Trent, Staffordshire, West Midlands, England, DE14 1JF, UK, (52.8015803, -1.6305633, 0.0)), '1554122877.708433']\n",
      "/home/aman/anaconda3/lib/python3.6/site-packages/Giveme5W1H/examples/caches/Nominatim.prickle LOADED: Burton-on-Trent: [Location(Burton-on-Trent, Staffordshire, West Midlands, England, DE14 1JF, UK, (52.8015803, -1.6305633, 0.0)), '1554122877.708433']\n",
      "/home/aman/anaconda3/lib/python3.6/site-packages/Giveme5W1H/examples/caches/Nominatim.prickle LOADED: Burton-on-Trent: [Location(Burton-on-Trent, Staffordshire, West Midlands, England, DE14 1JF, UK, (52.8015803, -1.6305633, 0.0)), '1554122877.708433']\n",
      "/home/aman/anaconda3/lib/python3.6/site-packages/Giveme5W1H/examples/caches/Nominatim.prickle LOADED: Burton-on-Trent: [Location(Burton-on-Trent, Staffordshire, West Midlands, England, DE14 1JF, UK, (52.8015803, -1.6305633, 0.0)), '1554122877.708433']\n",
      "/home/aman/anaconda3/lib/python3.6/site-packages/Giveme5W1H/examples/caches/Nominatim.prickle LOADED: Burton-on-Trent: [Location(Burton-on-Trent, Staffordshire, West Midlands, England, DE14 1JF, UK, (52.8015803, -1.6305633, 0.0)), '1554122877.708433']\n",
      "/home/aman/anaconda3/lib/python3.6/site-packages/Giveme5W1H/examples/caches/Nominatim.prickle LOADED: Burton-on-Trent: [Location(Burton-on-Trent, Staffordshire, West Midlands, England, DE14 1JF, UK, (52.8015803, -1.6305633, 0.0)), '1554122877.708433']\n",
      "/home/aman/anaconda3/lib/python3.6/site-packages/Giveme5W1H/examples/caches/Nominatim.prickle LOADED: Burton-on-Trent: [Location(Burton-on-Trent, Staffordshire, West Midlands, England, DE14 1JF, UK, (52.8015803, -1.6305633, 0.0)), '1554122877.708433']\n",
      "/home/aman/anaconda3/lib/python3.6/site-packages/Giveme5W1H/examples/caches/Nominatim.prickle LOADED: Uttoxeter New Road , Derby: [Location(Uttoxeter New Road, California, Littleover, Derby, East Midlands, England, DE22 3HN, UK, (52.9121001, -1.5147617, 0.0)), '1554122878.7269833']\n",
      "/home/aman/anaconda3/lib/python3.6/site-packages/Giveme5W1H/examples/caches/Nominatim.prickle LOADED: Uttoxeter New Road , Derby: [Location(Uttoxeter New Road, California, Littleover, Derby, East Midlands, England, DE22 3HN, UK, (52.9121001, -1.5147617, 0.0)), '1554122878.7269833']\n",
      "/home/aman/anaconda3/lib/python3.6/site-packages/Giveme5W1H/examples/caches/Nominatim.prickle LOADED: Uttoxeter New Road , Derby: [Location(Uttoxeter New Road, California, Littleover, Derby, East Midlands, England, DE22 3HN, UK, (52.9121001, -1.5147617, 0.0)), '1554122878.7269833']\n",
      "/home/aman/anaconda3/lib/python3.6/site-packages/Giveme5W1H/examples/caches/Nominatim.prickle LOADED: Uttoxeter New Road , Derby: [Location(Uttoxeter New Road, California, Littleover, Derby, East Midlands, England, DE22 3HN, UK, (52.9121001, -1.5147617, 0.0)), '1554122878.7269833']\n",
      "/home/aman/anaconda3/lib/python3.6/site-packages/Giveme5W1H/examples/caches/Nominatim.prickle LOADED: Uttoxeter New Road , Derby: [Location(Uttoxeter New Road, California, Littleover, Derby, East Midlands, England, DE22 3HN, UK, (52.9121001, -1.5147617, 0.0)), '1554122878.7269833']\n",
      "/home/aman/anaconda3/lib/python3.6/site-packages/Giveme5W1H/examples/caches/Nominatim.prickle LOADED: Uttoxeter New Road , Derby: [Location(Uttoxeter New Road, California, Littleover, Derby, East Midlands, England, DE22 3HN, UK, (52.9121001, -1.5147617, 0.0)), '1554122878.7269833']\n",
      "/home/aman/anaconda3/lib/python3.6/site-packages/Giveme5W1H/examples/caches/Nominatim.prickle LOADED: Uttoxeter New Road , Derby: [Location(Uttoxeter New Road, California, Littleover, Derby, East Midlands, England, DE22 3HN, UK, (52.9121001, -1.5147617, 0.0)), '1554122878.7269833']\n",
      "/home/aman/anaconda3/lib/python3.6/site-packages/Giveme5W1H/examples/caches/Nominatim.prickle LOADED: Uttoxeter New Road , Derby: [Location(Uttoxeter New Road, California, Littleover, Derby, East Midlands, England, DE22 3HN, UK, (52.9121001, -1.5147617, 0.0)), '1554122878.7269833']\n",
      "/home/aman/anaconda3/lib/python3.6/site-packages/Giveme5W1H/examples/caches/Nominatim.prickle LOADED: East Midlands: [Location(East Midlands, England, UK, (52.79657515, -0.671822256833873, 0.0)), '1554122879.6839538']\n",
      "/home/aman/anaconda3/lib/python3.6/site-packages/Giveme5W1H/examples/caches/Nominatim.prickle LOADED: East Midlands: [Location(East Midlands, England, UK, (52.79657515, -0.671822256833873, 0.0)), '1554122879.6839538']\n",
      "/home/aman/anaconda3/lib/python3.6/site-packages/Giveme5W1H/examples/caches/Nominatim.prickle LOADED: East Midlands: [Location(East Midlands, England, UK, (52.79657515, -0.671822256833873, 0.0)), '1554122879.6839538']\n",
      "/home/aman/anaconda3/lib/python3.6/site-packages/Giveme5W1H/examples/caches/Nominatim.prickle LOADED: East Midlands: [Location(East Midlands, England, UK, (52.79657515, -0.671822256833873, 0.0)), '1554122879.6839538']\n",
      "/home/aman/anaconda3/lib/python3.6/site-packages/Giveme5W1H/examples/caches/Nominatim.prickle LOADED: East Midlands: [Location(East Midlands, England, UK, (52.79657515, -0.671822256833873, 0.0)), '1554122879.6839538']\n",
      "/home/aman/anaconda3/lib/python3.6/site-packages/Giveme5W1H/examples/caches/Nominatim.prickle LOADED: East Midlands: [Location(East Midlands, England, UK, (52.79657515, -0.671822256833873, 0.0)), '1554122879.6839538']\n",
      "/home/aman/anaconda3/lib/python3.6/site-packages/Giveme5W1H/examples/caches/Nominatim.prickle LOADED: East Midlands: [Location(East Midlands, England, UK, (52.79657515, -0.671822256833873, 0.0)), '1554122879.6839538']\n",
      "/home/aman/anaconda3/lib/python3.6/site-packages/Giveme5W1H/examples/caches/Nominatim.prickle LOADED: East Midlands: [Location(East Midlands, England, UK, (52.79657515, -0.671822256833873, 0.0)), '1554122879.6839538']\n"
     ]
    },
    {
     "name": "stderr",
     "output_type": "stream",
     "text": [
      "No extractors passed: initializing default configuration.\n",
      "No extractors passed: initializing default configuration.\n",
      "No extractors passed: initializing default configuration.\n",
      "No extractors passed: initializing default configuration.\n",
      "No extractors passed: initializing default configuration.\n",
      "No extractors passed: initializing default configuration.\n",
      "No extractors passed: initializing default configuration.\n",
      "No extractors passed: initializing default configuration.\n",
      "No combinedScorers passed: initializing default configuration.\n",
      "No combinedScorers passed: initializing default configuration.\n",
      "No combinedScorers passed: initializing default configuration.\n",
      "No combinedScorers passed: initializing default configuration.\n",
      "No combinedScorers passed: initializing default configuration.\n",
      "No combinedScorers passed: initializing default configuration.\n",
      "No combinedScorers passed: initializing default configuration.\n",
      "No combinedScorers passed: initializing default configuration.\n"
     ]
    },
    {
     "name": "stdout",
     "output_type": "stream",
     "text": [
      "date publish: 2019-02-13 00:07:16\n",
      "URL: https://www.bbc.com/news/business-47201210?intlink_from_url=https://www.bbc.com/news/topics/c77jz3mdmr3t/human-trafficking&link_location=live-reporting-story\n"
     ]
    },
    {
     "name": "stderr",
     "output_type": "stream",
     "text": [
      "/home/aman/anaconda3/lib/python3.6/site-packages/Giveme5W1H/examples/caches/Nominatim.prickle LOADED: London: [Location(London, Greater London, England, SW1A 2DX, UK, (51.5073219, -0.1276474, 0.0)), '1554124155.012993']\n",
      "/home/aman/anaconda3/lib/python3.6/site-packages/Giveme5W1H/examples/caches/Nominatim.prickle LOADED: London: [Location(London, Greater London, England, SW1A 2DX, UK, (51.5073219, -0.1276474, 0.0)), '1554124155.012993']\n",
      "/home/aman/anaconda3/lib/python3.6/site-packages/Giveme5W1H/examples/caches/Nominatim.prickle LOADED: London: [Location(London, Greater London, England, SW1A 2DX, UK, (51.5073219, -0.1276474, 0.0)), '1554124155.012993']\n",
      "/home/aman/anaconda3/lib/python3.6/site-packages/Giveme5W1H/examples/caches/Nominatim.prickle LOADED: London: [Location(London, Greater London, England, SW1A 2DX, UK, (51.5073219, -0.1276474, 0.0)), '1554124155.012993']\n",
      "/home/aman/anaconda3/lib/python3.6/site-packages/Giveme5W1H/examples/caches/Nominatim.prickle LOADED: London: [Location(London, Greater London, England, SW1A 2DX, UK, (51.5073219, -0.1276474, 0.0)), '1554124155.012993']\n",
      "/home/aman/anaconda3/lib/python3.6/site-packages/Giveme5W1H/examples/caches/Nominatim.prickle LOADED: London: [Location(London, Greater London, England, SW1A 2DX, UK, (51.5073219, -0.1276474, 0.0)), '1554124155.012993']\n",
      "/home/aman/anaconda3/lib/python3.6/site-packages/Giveme5W1H/examples/caches/Nominatim.prickle LOADED: London: [Location(London, Greater London, England, SW1A 2DX, UK, (51.5073219, -0.1276474, 0.0)), '1554124155.012993']\n",
      "/home/aman/anaconda3/lib/python3.6/site-packages/Giveme5W1H/examples/caches/Nominatim.prickle LOADED: London: [Location(London, Greater London, England, SW1A 2DX, UK, (51.5073219, -0.1276474, 0.0)), '1554124155.012993']\n",
      "/home/aman/anaconda3/lib/python3.6/site-packages/Giveme5W1H/examples/caches/Nominatim.prickle LOADED: US: [Location(USA, (39.7837304, -100.4458825, 0.0)), '1551365757.2369862']\n",
      "/home/aman/anaconda3/lib/python3.6/site-packages/Giveme5W1H/examples/caches/Nominatim.prickle LOADED: US: [Location(USA, (39.7837304, -100.4458825, 0.0)), '1551365757.2369862']\n",
      "/home/aman/anaconda3/lib/python3.6/site-packages/Giveme5W1H/examples/caches/Nominatim.prickle LOADED: US: [Location(USA, (39.7837304, -100.4458825, 0.0)), '1551365757.2369862']\n",
      "/home/aman/anaconda3/lib/python3.6/site-packages/Giveme5W1H/examples/caches/Nominatim.prickle LOADED: US: [Location(USA, (39.7837304, -100.4458825, 0.0)), '1551365757.2369862']\n",
      "/home/aman/anaconda3/lib/python3.6/site-packages/Giveme5W1H/examples/caches/Nominatim.prickle LOADED: US: [Location(USA, (39.7837304, -100.4458825, 0.0)), '1551365757.2369862']\n",
      "/home/aman/anaconda3/lib/python3.6/site-packages/Giveme5W1H/examples/caches/Nominatim.prickle LOADED: US: [Location(USA, (39.7837304, -100.4458825, 0.0)), '1551365757.2369862']\n",
      "/home/aman/anaconda3/lib/python3.6/site-packages/Giveme5W1H/examples/caches/Nominatim.prickle LOADED: US: [Location(USA, (39.7837304, -100.4458825, 0.0)), '1551365757.2369862']\n",
      "/home/aman/anaconda3/lib/python3.6/site-packages/Giveme5W1H/examples/caches/Nominatim.prickle LOADED: US: [Location(USA, (39.7837304, -100.4458825, 0.0)), '1551365757.2369862']\n",
      "/home/aman/anaconda3/lib/python3.6/site-packages/Giveme5W1H/examples/caches/Nominatim.prickle LOADED: US: [Location(USA, (39.7837304, -100.4458825, 0.0)), '1551365757.2369862']\n",
      "/home/aman/anaconda3/lib/python3.6/site-packages/Giveme5W1H/examples/caches/Nominatim.prickle LOADED: US: [Location(USA, (39.7837304, -100.4458825, 0.0)), '1551365757.2369862']\n",
      "/home/aman/anaconda3/lib/python3.6/site-packages/Giveme5W1H/examples/caches/Nominatim.prickle LOADED: US: [Location(USA, (39.7837304, -100.4458825, 0.0)), '1551365757.2369862']\n",
      "/home/aman/anaconda3/lib/python3.6/site-packages/Giveme5W1H/examples/caches/Nominatim.prickle LOADED: US: [Location(USA, (39.7837304, -100.4458825, 0.0)), '1551365757.2369862']\n",
      "/home/aman/anaconda3/lib/python3.6/site-packages/Giveme5W1H/examples/caches/Nominatim.prickle LOADED: US: [Location(USA, (39.7837304, -100.4458825, 0.0)), '1551365757.2369862']\n",
      "/home/aman/anaconda3/lib/python3.6/site-packages/Giveme5W1H/examples/caches/Nominatim.prickle LOADED: US: [Location(USA, (39.7837304, -100.4458825, 0.0)), '1551365757.2369862']\n",
      "/home/aman/anaconda3/lib/python3.6/site-packages/Giveme5W1H/examples/caches/Nominatim.prickle LOADED: US: [Location(USA, (39.7837304, -100.4458825, 0.0)), '1551365757.2369862']\n",
      "/home/aman/anaconda3/lib/python3.6/site-packages/Giveme5W1H/examples/caches/Nominatim.prickle LOADED: US: [Location(USA, (39.7837304, -100.4458825, 0.0)), '1551365757.2369862']\n",
      "/home/aman/anaconda3/lib/python3.6/site-packages/Giveme5W1H/examples/caches/Nominatim.prickle LOADED: US: [Location(USA, (39.7837304, -100.4458825, 0.0)), '1551365757.2369862']\n",
      "/home/aman/anaconda3/lib/python3.6/site-packages/Giveme5W1H/examples/caches/Nominatim.prickle LOADED: US: [Location(USA, (39.7837304, -100.4458825, 0.0)), '1551365757.2369862']\n",
      "/home/aman/anaconda3/lib/python3.6/site-packages/Giveme5W1H/examples/caches/Nominatim.prickle LOADED: US: [Location(USA, (39.7837304, -100.4458825, 0.0)), '1551365757.2369862']\n",
      "/home/aman/anaconda3/lib/python3.6/site-packages/Giveme5W1H/examples/caches/Nominatim.prickle LOADED: US: [Location(USA, (39.7837304, -100.4458825, 0.0)), '1551365757.2369862']\n",
      "/home/aman/anaconda3/lib/python3.6/site-packages/Giveme5W1H/examples/caches/Nominatim.prickle LOADED: US: [Location(USA, (39.7837304, -100.4458825, 0.0)), '1551365757.2369862']\n",
      "/home/aman/anaconda3/lib/python3.6/site-packages/Giveme5W1H/examples/caches/Nominatim.prickle LOADED: US: [Location(USA, (39.7837304, -100.4458825, 0.0)), '1551365757.2369862']\n",
      "/home/aman/anaconda3/lib/python3.6/site-packages/Giveme5W1H/examples/caches/Nominatim.prickle LOADED: US: [Location(USA, (39.7837304, -100.4458825, 0.0)), '1551365757.2369862']\n",
      "/home/aman/anaconda3/lib/python3.6/site-packages/Giveme5W1H/examples/caches/Nominatim.prickle LOADED: US: [Location(USA, (39.7837304, -100.4458825, 0.0)), '1551365757.2369862']\n",
      "/home/aman/anaconda3/lib/python3.6/site-packages/Giveme5W1H/examples/caches/Nominatim.prickle LOADED: California , a US: [Location(California, USA, (36.7014631, -118.7559974, 0.0)), '1554124156.0632937']\n",
      "/home/aman/anaconda3/lib/python3.6/site-packages/Giveme5W1H/examples/caches/Nominatim.prickle LOADED: California , a US: [Location(California, USA, (36.7014631, -118.7559974, 0.0)), '1554124156.0632937']\n",
      "/home/aman/anaconda3/lib/python3.6/site-packages/Giveme5W1H/examples/caches/Nominatim.prickle LOADED: California , a US: [Location(California, USA, (36.7014631, -118.7559974, 0.0)), '1554124156.0632937']\n",
      "/home/aman/anaconda3/lib/python3.6/site-packages/Giveme5W1H/examples/caches/Nominatim.prickle LOADED: California , a US: [Location(California, USA, (36.7014631, -118.7559974, 0.0)), '1554124156.0632937']\n",
      "/home/aman/anaconda3/lib/python3.6/site-packages/Giveme5W1H/examples/caches/Nominatim.prickle LOADED: California , a US: [Location(California, USA, (36.7014631, -118.7559974, 0.0)), '1554124156.0632937']\n",
      "/home/aman/anaconda3/lib/python3.6/site-packages/Giveme5W1H/examples/caches/Nominatim.prickle LOADED: California , a US: [Location(California, USA, (36.7014631, -118.7559974, 0.0)), '1554124156.0632937']\n",
      "/home/aman/anaconda3/lib/python3.6/site-packages/Giveme5W1H/examples/caches/Nominatim.prickle LOADED: California , a US: [Location(California, USA, (36.7014631, -118.7559974, 0.0)), '1554124156.0632937']\n",
      "/home/aman/anaconda3/lib/python3.6/site-packages/Giveme5W1H/examples/caches/Nominatim.prickle LOADED: California , a US: [Location(California, USA, (36.7014631, -118.7559974, 0.0)), '1554124156.0632937']\n",
      "Exception in thread Thread-78:\n",
      "Traceback (most recent call last):\n",
      "  File \"/home/aman/anaconda3/lib/python3.6/threading.py\", line 916, in _bootstrap_inner\n",
      "    self.run()\n",
      "  File \"/home/aman/anaconda3/lib/python3.6/site-packages/Giveme5W1H/extractor/extractor.py\", line 20, in run\n",
      "    extractor.process(document)\n",
      "  File \"/home/aman/anaconda3/lib/python3.6/site-packages/Giveme5W1H/extractor/extractors/abs_extractor.py\", line 41, in process\n",
      "    self._evaluate_candidates(document)\n",
      "  File \"/home/aman/anaconda3/lib/python3.6/site-packages/Giveme5W1H/extractor/extractors/environment_extractor.py\", line 75, in _evaluate_candidates\n",
      "    locations = self._evaluate_locations(document)\n",
      "  File \"/home/aman/anaconda3/lib/python3.6/site-packages/Giveme5W1H/extractor/extractors/environment_extractor.py\", line 224, in _evaluate_locations\n",
      "    raw_locations.sort(key=lambda x: x[1], reverse=True)\n",
      "TypeError: '<' not supported between instances of 'str' and 'int'\n",
      "\n"
     ]
    },
    {
     "ename": "KeyboardInterrupt",
     "evalue": "",
     "output_type": "error",
     "traceback": [
      "\u001b[0;31m---------------------------------------------------------------------------\u001b[0m",
      "\u001b[0;31mKeyboardInterrupt\u001b[0m                         Traceback (most recent call last)",
      "\u001b[0;32m<ipython-input-62-6c69c045bb74>\u001b[0m in \u001b[0;36m<module>\u001b[0;34m\u001b[0m\n\u001b[1;32m      1\u001b[0m \u001b[0;32mfor\u001b[0m \u001b[0marticle\u001b[0m \u001b[0;32min\u001b[0m \u001b[0marticles\u001b[0m\u001b[0;34m[\u001b[0m\u001b[0;34m'LINK'\u001b[0m\u001b[0;34m]\u001b[0m\u001b[0;34m:\u001b[0m\u001b[0;34m\u001b[0m\u001b[0;34m\u001b[0m\u001b[0m\n\u001b[0;32m----> 2\u001b[0;31m     \u001b[0mx\u001b[0m \u001b[0;34m=\u001b[0m \u001b[0mget5W1H\u001b[0m\u001b[0;34m(\u001b[0m\u001b[0marticle\u001b[0m\u001b[0;34m)\u001b[0m\u001b[0;34m\u001b[0m\u001b[0;34m\u001b[0m\u001b[0m\n\u001b[0m\u001b[1;32m      3\u001b[0m     \u001b[0mresult\u001b[0m\u001b[0;34m.\u001b[0m\u001b[0mappend\u001b[0m\u001b[0;34m(\u001b[0m\u001b[0;34m[\u001b[0m\u001b[0marticle\u001b[0m\u001b[0;34m]\u001b[0m \u001b[0;34m+\u001b[0m \u001b[0mget5W1H\u001b[0m\u001b[0;34m(\u001b[0m\u001b[0marticle\u001b[0m\u001b[0;34m)\u001b[0m\u001b[0;34m)\u001b[0m\u001b[0;34m\u001b[0m\u001b[0;34m\u001b[0m\u001b[0m\n",
      "\u001b[0;32m<ipython-input-57-578bc6efa16f>\u001b[0m in \u001b[0;36mget5W1H\u001b[0;34m(news_url)\u001b[0m\n\u001b[1;32m     17\u001b[0m     \u001b[0mdoc\u001b[0m \u001b[0;34m=\u001b[0m \u001b[0mDocument\u001b[0m\u001b[0;34m(\u001b[0m\u001b[0mtitle\u001b[0m\u001b[0;34m,\u001b[0m \u001b[0mlead\u001b[0m\u001b[0;34m,\u001b[0m \u001b[0mtext\u001b[0m\u001b[0;34m,\u001b[0m \u001b[0mdate_publish\u001b[0m\u001b[0;34m)\u001b[0m\u001b[0;34m\u001b[0m\u001b[0;34m\u001b[0m\u001b[0m\n\u001b[1;32m     18\u001b[0m     \u001b[0;31m#     print(\"here\")\u001b[0m\u001b[0;34m\u001b[0m\u001b[0;34m\u001b[0m\u001b[0;34m\u001b[0m\u001b[0m\n\u001b[0;32m---> 19\u001b[0;31m     \u001b[0mdoc\u001b[0m \u001b[0;34m=\u001b[0m \u001b[0mextractor\u001b[0m\u001b[0;34m.\u001b[0m\u001b[0mparse\u001b[0m\u001b[0;34m(\u001b[0m\u001b[0mdoc\u001b[0m\u001b[0;34m)\u001b[0m\u001b[0;34m\u001b[0m\u001b[0;34m\u001b[0m\u001b[0m\n\u001b[0m\u001b[1;32m     20\u001b[0m     \u001b[0;31m#     print(\"here\")\u001b[0m\u001b[0;34m\u001b[0m\u001b[0;34m\u001b[0m\u001b[0;34m\u001b[0m\u001b[0m\n\u001b[1;32m     21\u001b[0m     \u001b[0mtop_who_answer\u001b[0m \u001b[0;34m=\u001b[0m \u001b[0;32mNone\u001b[0m\u001b[0;34m\u001b[0m\u001b[0;34m\u001b[0m\u001b[0m\n",
      "\u001b[0;32m~/anaconda3/lib/python3.6/site-packages/Giveme5W1H/extractor/extractor.py\u001b[0m in \u001b[0;36mparse\u001b[0;34m(self, doc)\u001b[0m\n\u001b[1;32m    109\u001b[0m \u001b[0;34m\u001b[0m\u001b[0m\n\u001b[1;32m    110\u001b[0m         \u001b[0;31m# wait till oll extractors are done\u001b[0m\u001b[0;34m\u001b[0m\u001b[0;34m\u001b[0m\u001b[0;34m\u001b[0m\u001b[0m\n\u001b[0;32m--> 111\u001b[0;31m         \u001b[0mself\u001b[0m\u001b[0;34m.\u001b[0m\u001b[0mq\u001b[0m\u001b[0;34m.\u001b[0m\u001b[0mjoin\u001b[0m\u001b[0;34m(\u001b[0m\u001b[0;34m)\u001b[0m\u001b[0;34m\u001b[0m\u001b[0;34m\u001b[0m\u001b[0m\n\u001b[0m\u001b[1;32m    112\u001b[0m \u001b[0;34m\u001b[0m\u001b[0m\n\u001b[1;32m    113\u001b[0m         \u001b[0;31m# apply combined_scoring\u001b[0m\u001b[0;34m\u001b[0m\u001b[0;34m\u001b[0m\u001b[0;34m\u001b[0m\u001b[0m\n",
      "\u001b[0;32m~/anaconda3/lib/python3.6/queue.py\u001b[0m in \u001b[0;36mjoin\u001b[0;34m(self)\u001b[0m\n\u001b[1;32m     81\u001b[0m         \u001b[0;32mwith\u001b[0m \u001b[0mself\u001b[0m\u001b[0;34m.\u001b[0m\u001b[0mall_tasks_done\u001b[0m\u001b[0;34m:\u001b[0m\u001b[0;34m\u001b[0m\u001b[0;34m\u001b[0m\u001b[0m\n\u001b[1;32m     82\u001b[0m             \u001b[0;32mwhile\u001b[0m \u001b[0mself\u001b[0m\u001b[0;34m.\u001b[0m\u001b[0munfinished_tasks\u001b[0m\u001b[0;34m:\u001b[0m\u001b[0;34m\u001b[0m\u001b[0;34m\u001b[0m\u001b[0m\n\u001b[0;32m---> 83\u001b[0;31m                 \u001b[0mself\u001b[0m\u001b[0;34m.\u001b[0m\u001b[0mall_tasks_done\u001b[0m\u001b[0;34m.\u001b[0m\u001b[0mwait\u001b[0m\u001b[0;34m(\u001b[0m\u001b[0;34m)\u001b[0m\u001b[0;34m\u001b[0m\u001b[0;34m\u001b[0m\u001b[0m\n\u001b[0m\u001b[1;32m     84\u001b[0m \u001b[0;34m\u001b[0m\u001b[0m\n\u001b[1;32m     85\u001b[0m     \u001b[0;32mdef\u001b[0m \u001b[0mqsize\u001b[0m\u001b[0;34m(\u001b[0m\u001b[0mself\u001b[0m\u001b[0;34m)\u001b[0m\u001b[0;34m:\u001b[0m\u001b[0;34m\u001b[0m\u001b[0;34m\u001b[0m\u001b[0m\n",
      "\u001b[0;32m~/anaconda3/lib/python3.6/threading.py\u001b[0m in \u001b[0;36mwait\u001b[0;34m(self, timeout)\u001b[0m\n\u001b[1;32m    293\u001b[0m         \u001b[0;32mtry\u001b[0m\u001b[0;34m:\u001b[0m    \u001b[0;31m# restore state no matter what (e.g., KeyboardInterrupt)\u001b[0m\u001b[0;34m\u001b[0m\u001b[0;34m\u001b[0m\u001b[0m\n\u001b[1;32m    294\u001b[0m             \u001b[0;32mif\u001b[0m \u001b[0mtimeout\u001b[0m \u001b[0;32mis\u001b[0m \u001b[0;32mNone\u001b[0m\u001b[0;34m:\u001b[0m\u001b[0;34m\u001b[0m\u001b[0;34m\u001b[0m\u001b[0m\n\u001b[0;32m--> 295\u001b[0;31m                 \u001b[0mwaiter\u001b[0m\u001b[0;34m.\u001b[0m\u001b[0macquire\u001b[0m\u001b[0;34m(\u001b[0m\u001b[0;34m)\u001b[0m\u001b[0;34m\u001b[0m\u001b[0;34m\u001b[0m\u001b[0m\n\u001b[0m\u001b[1;32m    296\u001b[0m                 \u001b[0mgotit\u001b[0m \u001b[0;34m=\u001b[0m \u001b[0;32mTrue\u001b[0m\u001b[0;34m\u001b[0m\u001b[0;34m\u001b[0m\u001b[0m\n\u001b[1;32m    297\u001b[0m             \u001b[0;32melse\u001b[0m\u001b[0;34m:\u001b[0m\u001b[0;34m\u001b[0m\u001b[0;34m\u001b[0m\u001b[0m\n",
      "\u001b[0;31mKeyboardInterrupt\u001b[0m: "
     ]
    }
   ],
   "source": [
    "for article in articles['LINK']:\n",
    "    x = get5W1H(article)\n",
    "    result.append([article] + get5W1H(article))"
   ]
  },
  {
   "cell_type": "code",
   "execution_count": 63,
   "metadata": {
    "ExecuteTime": {
     "end_time": "2019-04-01T13:21:54.847958Z",
     "start_time": "2019-04-01T13:21:54.834117Z"
    }
   },
   "outputs": [
    {
     "data": {
      "text/plain": [
       "[['https://www.bbc.com/news/uk-england-derbyshire-47563576?intlink_from_url=https://www.bbc.com/news/topics/c77jz3mdmr3t/human-trafficking&link_location=live-reporting-story',\n",
       "  'for human trafficking in Derby .',\n",
       "  'jailed for human trafficking',\n",
       "  'April 2018',\n",
       "  'Derby',\n",
       "  'Brothel men',\n",
       "  'them']]"
      ]
     },
     "execution_count": 63,
     "metadata": {},
     "output_type": "execute_result"
    }
   ],
   "source": [
    "result"
   ]
  },
  {
   "cell_type": "code",
   "execution_count": null,
   "metadata": {},
   "outputs": [],
   "source": []
  }
 ],
 "metadata": {
  "kernelspec": {
   "display_name": "Python 3",
   "language": "python",
   "name": "python3"
  },
  "language_info": {
   "codemirror_mode": {
    "name": "ipython",
    "version": 3
   },
   "file_extension": ".py",
   "mimetype": "text/x-python",
   "name": "python",
   "nbconvert_exporter": "python",
   "pygments_lexer": "ipython3",
   "version": "3.6.8"
  },
  "latex_envs": {
   "LaTeX_envs_menu_present": true,
   "autoclose": false,
   "autocomplete": true,
   "bibliofile": "biblio.bib",
   "cite_by": "apalike",
   "current_citInitial": 1,
   "eqLabelWithNumbers": true,
   "eqNumInitial": 1,
   "hotkeys": {
    "equation": "Ctrl-E",
    "itemize": "Ctrl-I"
   },
   "labels_anchors": false,
   "latex_user_defs": false,
   "report_style_numbering": false,
   "user_envs_cfg": false
  }
 },
 "nbformat": 4,
 "nbformat_minor": 2
}
