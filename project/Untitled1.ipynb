{
 "cells": [
  {
   "cell_type": "code",
   "execution_count": 2,
   "metadata": {
    "ExecuteTime": {
     "end_time": "2019-04-09T18:43:00.467620Z",
     "start_time": "2019-04-09T18:43:00.190792Z"
    }
   },
   "outputs": [],
   "source": [
    "import numpy as np\n",
    "import pandas as pd"
   ]
  },
  {
   "cell_type": "code",
   "execution_count": 3,
   "metadata": {
    "ExecuteTime": {
     "end_time": "2019-04-09T18:43:00.760192Z",
     "start_time": "2019-04-09T18:43:00.680725Z"
    }
   },
   "outputs": [],
   "source": [
    "xl_file = pd.read_csv('output_final.csv')"
   ]
  },
  {
   "cell_type": "code",
   "execution_count": 4,
   "metadata": {
    "ExecuteTime": {
     "end_time": "2019-04-09T18:43:01.308138Z",
     "start_time": "2019-04-09T18:43:01.236367Z"
    }
   },
   "outputs": [
    {
     "data": {
      "text/html": [
       "<div>\n",
       "<style scoped>\n",
       "    .dataframe tbody tr th:only-of-type {\n",
       "        vertical-align: middle;\n",
       "    }\n",
       "\n",
       "    .dataframe tbody tr th {\n",
       "        vertical-align: top;\n",
       "    }\n",
       "\n",
       "    .dataframe thead th {\n",
       "        text-align: right;\n",
       "    }\n",
       "</style>\n",
       "<table border=\"1\" class=\"dataframe\">\n",
       "  <thead>\n",
       "    <tr style=\"text-align: right;\">\n",
       "      <th></th>\n",
       "      <th>Unnamed: 0</th>\n",
       "      <th>0</th>\n",
       "      <th>1</th>\n",
       "      <th>2</th>\n",
       "      <th>3</th>\n",
       "      <th>4</th>\n",
       "      <th>5</th>\n",
       "      <th>6</th>\n",
       "      <th>7</th>\n",
       "      <th>8</th>\n",
       "      <th>9</th>\n",
       "      <th>10</th>\n",
       "      <th>11</th>\n",
       "      <th>12</th>\n",
       "      <th>13</th>\n",
       "      <th>14</th>\n",
       "      <th>15</th>\n",
       "      <th>16</th>\n",
       "      <th>17</th>\n",
       "    </tr>\n",
       "  </thead>\n",
       "  <tbody>\n",
       "    <tr>\n",
       "      <th>0</th>\n",
       "      <td>0</td>\n",
       "      <td>[]</td>\n",
       "      <td>['two-year', 'modern-day', 'two-year', 'the 19...</td>\n",
       "      <td>[]</td>\n",
       "      <td>['Getty Images', 'David Rodriguez', 'Image', '...</td>\n",
       "      <td>[]</td>\n",
       "      <td>[]</td>\n",
       "      <td>['half a million', 'almost 7,000', 'more than ...</td>\n",
       "      <td>[]</td>\n",
       "      <td>[]</td>\n",
       "      <td>[]</td>\n",
       "      <td>[]</td>\n",
       "      <td>[]</td>\n",
       "      <td>[]</td>\n",
       "      <td>[]</td>\n",
       "      <td>['Mr Rodriguez', 'Marriott', 'Marriott', 'the ...</td>\n",
       "      <td>[]</td>\n",
       "      <td>[]</td>\n",
       "      <td>['Hotels', 'London', 'US', 'US', 'US', 'US', '...</td>\n",
       "    </tr>\n",
       "    <tr>\n",
       "      <th>1</th>\n",
       "      <td>1</td>\n",
       "      <td>[]</td>\n",
       "      <td>['more than three days', 'last year', '2014-15']</td>\n",
       "      <td>[]</td>\n",
       "      <td>['Getty Images Image', 'Getty Images Image']</td>\n",
       "      <td>[]</td>\n",
       "      <td>[]</td>\n",
       "      <td>['Three', '24', '27', '27']</td>\n",
       "      <td>[]</td>\n",
       "      <td>[]</td>\n",
       "      <td>['the Freedom of Information Act']</td>\n",
       "      <td>[]</td>\n",
       "      <td>[]</td>\n",
       "      <td>['less than 72 hours', 'a few minutes']</td>\n",
       "      <td>[]</td>\n",
       "      <td>['Essex County Council', 'Essex County Council...</td>\n",
       "      <td>['58%']</td>\n",
       "      <td>[]</td>\n",
       "      <td>['Essex', 'UK', 'Essex']</td>\n",
       "    </tr>\n",
       "    <tr>\n",
       "      <th>2</th>\n",
       "      <td>2</td>\n",
       "      <td>[]</td>\n",
       "      <td>['more than a year', 'November 2018', 'over 18...</td>\n",
       "      <td>['Every Child Protected Against Trafficking']</td>\n",
       "      <td>['Getty Images', 'Sinister', 'Image', 'Getty I...</td>\n",
       "      <td>[]</td>\n",
       "      <td>[]</td>\n",
       "      <td>['4', '2,200', 'more than 1,000', '100', 'two'...</td>\n",
       "      <td>[]</td>\n",
       "      <td>[]</td>\n",
       "      <td>[]</td>\n",
       "      <td>['English']</td>\n",
       "      <td>['second', 'second']</td>\n",
       "      <td>['one evening']</td>\n",
       "      <td>['Europe']</td>\n",
       "      <td>['BBC', \"Radio 4's File\", 'The Home Office', '...</td>\n",
       "      <td>[]</td>\n",
       "      <td>[]</td>\n",
       "      <td>['UK', 'Nigeria', 'Heathrow']</td>\n",
       "    </tr>\n",
       "    <tr>\n",
       "      <th>3</th>\n",
       "      <td>3</td>\n",
       "      <td>[]</td>\n",
       "      <td>['years', 'years', 'the past five years', 'the...</td>\n",
       "      <td>[]</td>\n",
       "      <td>['Chun Kiwon Image', 'Jiyun', 'Chun Kiwon Imag...</td>\n",
       "      <td>[]</td>\n",
       "      <td>['177', '53,200', 'hundreds to thousands of US...</td>\n",
       "      <td>['two', 'two', 'at least one million', 'more t...</td>\n",
       "      <td>[]</td>\n",
       "      <td>['Chinese', 'North Korean', 'North Korean', 'N...</td>\n",
       "      <td>[]</td>\n",
       "      <td>['Yanji', 'English', 'Chinese']</td>\n",
       "      <td>['third', 'first', 'first', 'First', 'third', ...</td>\n",
       "      <td>['the minute', 'only four hours', 'every morni...</td>\n",
       "      <td>['the Tumen River', 'the Tumen River', 'Hanawon']</td>\n",
       "      <td>['Jiyun', 'USB', 'Fences', 'Durihana Image', '...</td>\n",
       "      <td>['30%']</td>\n",
       "      <td>[]</td>\n",
       "      <td>['North Korea', 'Yanji', 'China', 'North Korea...</td>\n",
       "    </tr>\n",
       "    <tr>\n",
       "      <th>4</th>\n",
       "      <td>4</td>\n",
       "      <td>[]</td>\n",
       "      <td>['five years', '54', 'six years to one year', ...</td>\n",
       "      <td>['Rutland Street', 'Patmore Square', 'Patmore ...</td>\n",
       "      <td>['Ainars Pelcis', 'Magdalena Kleina', 'Karens ...</td>\n",
       "      <td>[]</td>\n",
       "      <td>[]</td>\n",
       "      <td>['28', 'nine', 'two', 'five', 'four', 'nine']</td>\n",
       "      <td>[]</td>\n",
       "      <td>['Instagram']</td>\n",
       "      <td>[]</td>\n",
       "      <td>[]</td>\n",
       "      <td>['first', 'first', 'first']</td>\n",
       "      <td>['night', 'Five-and-a-half years']</td>\n",
       "      <td>[]</td>\n",
       "      <td>['Derbyshire Police Image', 'Ilgvars Pelcis', ...</td>\n",
       "      <td>[]</td>\n",
       "      <td>[]</td>\n",
       "      <td>['Latvia', 'UK', 'Derbyshire', 'Derby', 'Latvi...</td>\n",
       "    </tr>\n",
       "  </tbody>\n",
       "</table>\n",
       "</div>"
      ],
      "text/plain": [
       "   Unnamed: 0   0                                                  1  \\\n",
       "0           0  []  ['two-year', 'modern-day', 'two-year', 'the 19...   \n",
       "1           1  []   ['more than three days', 'last year', '2014-15']   \n",
       "2           2  []  ['more than a year', 'November 2018', 'over 18...   \n",
       "3           3  []  ['years', 'years', 'the past five years', 'the...   \n",
       "4           4  []  ['five years', '54', 'six years to one year', ...   \n",
       "\n",
       "                                                   2  \\\n",
       "0                                                 []   \n",
       "1                                                 []   \n",
       "2      ['Every Child Protected Against Trafficking']   \n",
       "3                                                 []   \n",
       "4  ['Rutland Street', 'Patmore Square', 'Patmore ...   \n",
       "\n",
       "                                                   3   4  \\\n",
       "0  ['Getty Images', 'David Rodriguez', 'Image', '...  []   \n",
       "1       ['Getty Images Image', 'Getty Images Image']  []   \n",
       "2  ['Getty Images', 'Sinister', 'Image', 'Getty I...  []   \n",
       "3  ['Chun Kiwon Image', 'Jiyun', 'Chun Kiwon Imag...  []   \n",
       "4  ['Ainars Pelcis', 'Magdalena Kleina', 'Karens ...  []   \n",
       "\n",
       "                                                   5  \\\n",
       "0                                                 []   \n",
       "1                                                 []   \n",
       "2                                                 []   \n",
       "3  ['177', '53,200', 'hundreds to thousands of US...   \n",
       "4                                                 []   \n",
       "\n",
       "                                                   6   7  \\\n",
       "0  ['half a million', 'almost 7,000', 'more than ...  []   \n",
       "1                        ['Three', '24', '27', '27']  []   \n",
       "2  ['4', '2,200', 'more than 1,000', '100', 'two'...  []   \n",
       "3  ['two', 'two', 'at least one million', 'more t...  []   \n",
       "4      ['28', 'nine', 'two', 'five', 'four', 'nine']  []   \n",
       "\n",
       "                                                   8  \\\n",
       "0                                                 []   \n",
       "1                                                 []   \n",
       "2                                                 []   \n",
       "3  ['Chinese', 'North Korean', 'North Korean', 'N...   \n",
       "4                                      ['Instagram']   \n",
       "\n",
       "                                    9                               10  \\\n",
       "0                                  []                               []   \n",
       "1  ['the Freedom of Information Act']                               []   \n",
       "2                                  []                      ['English']   \n",
       "3                                  []  ['Yanji', 'English', 'Chinese']   \n",
       "4                                  []                               []   \n",
       "\n",
       "                                                  11  \\\n",
       "0                                                 []   \n",
       "1                                                 []   \n",
       "2                               ['second', 'second']   \n",
       "3  ['third', 'first', 'first', 'First', 'third', ...   \n",
       "4                        ['first', 'first', 'first']   \n",
       "\n",
       "                                                  12  \\\n",
       "0                                                 []   \n",
       "1            ['less than 72 hours', 'a few minutes']   \n",
       "2                                    ['one evening']   \n",
       "3  ['the minute', 'only four hours', 'every morni...   \n",
       "4                 ['night', 'Five-and-a-half years']   \n",
       "\n",
       "                                                  13  \\\n",
       "0                                                 []   \n",
       "1                                                 []   \n",
       "2                                         ['Europe']   \n",
       "3  ['the Tumen River', 'the Tumen River', 'Hanawon']   \n",
       "4                                                 []   \n",
       "\n",
       "                                                  14       15  16  \\\n",
       "0  ['Mr Rodriguez', 'Marriott', 'Marriott', 'the ...       []  []   \n",
       "1  ['Essex County Council', 'Essex County Council...  ['58%']  []   \n",
       "2  ['BBC', \"Radio 4's File\", 'The Home Office', '...       []  []   \n",
       "3  ['Jiyun', 'USB', 'Fences', 'Durihana Image', '...  ['30%']  []   \n",
       "4  ['Derbyshire Police Image', 'Ilgvars Pelcis', ...       []  []   \n",
       "\n",
       "                                                  17  \n",
       "0  ['Hotels', 'London', 'US', 'US', 'US', 'US', '...  \n",
       "1                           ['Essex', 'UK', 'Essex']  \n",
       "2                      ['UK', 'Nigeria', 'Heathrow']  \n",
       "3  ['North Korea', 'Yanji', 'China', 'North Korea...  \n",
       "4  ['Latvia', 'UK', 'Derbyshire', 'Derby', 'Latvi...  "
      ]
     },
     "execution_count": 4,
     "metadata": {},
     "output_type": "execute_result"
    }
   ],
   "source": [
    "xl_file.head()"
   ]
  },
  {
   "cell_type": "code",
   "execution_count": 5,
   "metadata": {
    "ExecuteTime": {
     "end_time": "2019-04-09T18:43:01.858073Z",
     "start_time": "2019-04-09T18:43:01.839138Z"
    }
   },
   "outputs": [
    {
     "data": {
      "text/plain": [
       "array([\"['A9']\", \"['Calais']\", \"['Madhya Pradesh']\", \"['Rs 1.6']\",\n",
       "       \"['Rs 2']\", \"['SHO', 'SHO']\",\n",
       "       \"['Shailendra Rathore', 'Madhya Pradesh', 'Madhya Pradesh']\",\n",
       "       \"['Shailendra Shivram of Bhind']\", \"['Sushma Swaraj']\",\n",
       "       \"['Swaraj', 'Rs 2', 'Swaraj']\",\n",
       "       \"['Victoria Derbyshire', 'Victoria Derbyshire']\", '[]'],\n",
       "      dtype=object)"
      ]
     },
     "execution_count": 5,
     "metadata": {},
     "output_type": "execute_result"
    }
   ],
   "source": [
    "np.unique(xl_file['0'])"
   ]
  },
  {
   "cell_type": "code",
   "execution_count": 6,
   "metadata": {
    "ExecuteTime": {
     "end_time": "2019-04-09T18:43:02.732562Z",
     "start_time": "2019-04-09T18:43:02.566512Z"
    }
   },
   "outputs": [],
   "source": [
    "import requests\n",
    "search_url = \"https://api.cognitive.microsoft.com/bing/v7.0/search?\""
   ]
  },
  {
   "cell_type": "code",
   "execution_count": 54,
   "metadata": {
    "ExecuteTime": {
     "end_time": "2019-04-09T19:49:42.335745Z",
     "start_time": "2019-04-09T19:49:42.306338Z"
    }
   },
   "outputs": [],
   "source": [
    "used_urls = pd.read_csv('HumanTraffickingDataset - Sheet1.csv')\n",
    "proccesed_urls = used_urls['url']"
   ]
  },
  {
   "cell_type": "code",
   "execution_count": 58,
   "metadata": {
    "ExecuteTime": {
     "end_time": "2019-04-09T19:50:45.228115Z",
     "start_time": "2019-04-09T19:50:43.863506Z"
    }
   },
   "outputs": [
    {
     "name": "stdout",
     "output_type": "stream",
     "text": [
      "<Response [200]>\n",
      "{'_type': 'News', 'readLink': 'https://api.cognitive.microsoft.com/api/v7/news/search?q=Human+traficking+rescued', 'queryContext': {'originalQuery': 'Human traficking rescued', 'adultIntent': True}, 'totalEstimatedMatches': 36, 'sort': [{'name': 'Best match', 'id': 'relevance', 'isSelected': True, 'url': 'https://api.cognitive.microsoft.com/api/v7/news/search?q=Human+traficking+rescued'}, {'name': 'Most recent', 'id': 'date', 'isSelected': False, 'url': 'https://api.cognitive.microsoft.com/api/v7/news/search?q=Human+traficking+rescued&sortby=date'}], 'value': [{'name': '<b>Human</b> <b>trafficking</b>: Inter-state gang busted, minor girl <b>rescued</b>', 'url': 'https://www.freepressjournal.in/bhopal/human-trafficking-inter-state-gang-busted-minor-girl-rescued/1492311', 'description': 'Bhopal: Rewa police busted an inter-state <b>human</b> <b>trafficking</b> gang and <b>rescued</b> a minor girl who was kidnapped from Maihar temple on March 5. Police have arrested two persons including a woman and further investigations are on. IG Rewa Chanchal Shekhar said ...', 'provider': [{'_type': 'Organization', 'name': 'The Free Press Journal'}], 'datePublished': '2019-03-29T04:17:00.0000000Z'}, {'name': 'IPS Officer’s Intelligent Protocol Rescues 450 Minors, 100 <b>Trafficking</b> Victims In A Year!', 'url': 'https://www.thebetterindia.com/178641/maharashtra-ips-hero-officer-missing-children-human-trafficking-india/', 'image': {'thumbnail': {'contentUrl': 'https://www.bing.com/th?id=ON.73C45E1BDED97C361575CAF6F9F94796&pid=News', 'width': 566, 'height': 700}}, 'description': 'Just when our <b>rescue</b> team was shutting Radhika’s case ... The worry was that a child could be forced into <b>human</b> <b>trafficking</b>, including sex <b>trafficking</b>, labour <b>trafficking</b>, organ <b>trafficking</b> and so on. So, it was important that these cases are taken ...', 'provider': [{'_type': 'Organization', 'name': 'TheBetterIndia'}], 'datePublished': '2019-04-09T05:56:00.0000000Z'}, {'name': '31 girls, 3 boys <b>rescued</b>, 2 suspected <b>human</b> traffickers held in J’Khand', 'url': 'https://www.hindustantimes.com/ranchi/31-girls-3-boys-rescued-2-suspected-human-traffickers-held-in-j-khand/story-j7jtM1FaT9jyvFR5f3Ib1O.html', 'image': {'thumbnail': {'contentUrl': 'https://www.bing.com/th?id=ON.D7C0C94B6652F44574A7110899C6E88F&pid=News', 'width': 700, 'height': 395}}, 'description': 'We have handed over all the <b>rescued</b> girls and boys to the anti-<b>human</b> <b>trafficking</b> unit in Chaibasa late last night.” Tiwari added that many of the girls looked underage, but all of them claimed that they were above the age of 18 years. “As for the ...', 'about': [{'readLink': 'https://api.cognitive.microsoft.com/api/v7/entities/9f3b1aac-b48a-884c-a9a7-48065cfbe5fe', 'name': 'Ranchi'}], 'provider': [{'_type': 'Organization', 'name': 'Hindustan Times'}], 'datePublished': '2019-04-03T16:54:00.0000000Z', 'category': 'World'}, {'name': '<b>Human</b> <b>trafficking</b>: DCW rescues 12 Nepali girls', 'url': 'https://www.aninews.in/news/national/general-news/human-trafficking-dcw-rescues-12-nepali-girls20190402040042/', 'image': {'thumbnail': {'contentUrl': 'https://www.bing.com/th?id=ON.1B5E49F9FBF8AFCD77B0E8B4636903E2&pid=News', 'width': 600, 'height': 450}}, 'description': 'New Delhi [India], Apr 2 (ANI): The Delhi Commission for Women (DCW) said it <b>rescued</b> 12 Nepali girls from different locations ... for displaying the &quot;highest <b>human</b> virtues of kindness&quot; by assisting an old woman and by providing her with food.', 'provider': [{'_type': 'Organization', 'name': 'Asian News International'}], 'datePublished': '2019-04-02T22:10:00.0000000Z', 'category': 'India'}, {'name': '<b>Human</b> <b>trafficking</b> survivor comes to aid of 12 Nepali origin girls in national capital', 'url': 'http://www.newindianexpress.com/cities/delhi/2019/apr/02/human-trafficking-survivor-comes-to-aid-of-12-nepali-origin-girls-in-national-capital-1958937.html', 'image': {'thumbnail': {'contentUrl': 'https://www.bing.com/th?id=ON.2C224AE01F4989E7BF746525C6E28C68&pid=News', 'width': 700, 'height': 350}}, 'description': 'NEW DELHI: A woman who was allegedly raped and then trafficked to Iraq, came to the <b>rescue</b> of 12 other women of Nepali origin who were reportedly duped and held in captivity in north Delhi by the same ‘agent’ that had sent her, the Delhi Commission for ...', 'provider': [{'_type': 'Organization', 'name': 'The New Indian Express'}], 'datePublished': '2019-04-02T21:49:00.0000000Z'}, {'name': 'International <b>human</b> <b>trafficking</b> racket busted', 'url': 'https://timesofindia.indiatimes.com/city/hyderabad/international-human-trafficking-racket-busted/articleshow/68695299.cms', 'description': 'Hyderabad: SR Nagar police busted an international <b>human</b> <b>trafficking</b> racket and <b>rescued</b> seven women, which included five from Uzbekistan, on Tuesday. Acting on a specific alert received in the wee ...', 'provider': [{'_type': 'Organization', 'name': 'timesofindia.indiatimes.com'}], 'datePublished': '2019-04-03T00:01:00.0000000Z'}, {'name': 'Thane: Woman auto driver held for sex racket, two <b>rescued</b>', 'url': 'https://timesofindia.indiatimes.com/city/thane/woman-auto-driver-held-for-sex-racket-two-rescued/articleshow/68694364.cms', 'image': {'thumbnail': {'contentUrl': 'https://www.bing.com/th?id=ON.164C874A04828C76F4BEE87E7D3F1754&pid=News', 'width': 700, 'height': 379}}, 'description': 'THANE: The anti-<b>human</b> <b>trafficking</b> cell (AHTC) of the city has arrested a 42-year-old woman auto driver for allegedly pushing two women into flesh trade. The victims were <b>rescued</b> by the cops.', 'provider': [{'_type': 'Organization', 'name': 'timesofindia.indiatimes.com'}], 'datePublished': '2019-04-03T21:23:00.0000000Z'}, {'name': 'Child laborers from MP, Bihar <b>rescued</b> from Danapur-Secunderabad express', 'url': 'https://english.newstracklive.com/news/child-laborers-from-mp-bihar-rescued-from-danapursecunderabad-express-mc16-nu-1004941-1.html', 'image': {'thumbnail': {'contentUrl': 'https://www.bing.com/th?id=ON.AE8A07BD78E84B6F375242D9B2176AEC&pid=News', 'width': 700, 'height': 420}}, 'description': 'The action was probably the biggest <b>rescue</b> operation of minors being forced into child labor by <b>human</b> <b>trafficking</b> racketeers. After conducting a thorough search in the train, a total of 26 child laborers were deboarded from the train and taken to the RPF post.', 'provider': [{'_type': 'Organization', 'name': 'News Track English'}], 'datePublished': '2019-03-27T22:45:00.0000000Z', 'category': 'World'}, {'name': 'Five children <b>rescued</b> from bangle factory', 'url': 'https://www.tribuneindia.com/news/punjab/five-children-rescued-from-bangle-factory/749783.html', 'description': 'Five children were <b>rescued</b> today from a bangle manufacturing factory that was being run from a house on the SSB Road in Sriganganagar. The action was taken jointly by officials of the Bal Kalyan Samiti, Child Line and Anti-<b>Human</b> <b>Trafficking</b> Unit.', 'provider': [{'_type': 'Organization', 'name': 'The Tribune'}], 'datePublished': '2019-03-29T01:33:00.0000000Z'}, {'name': 'Low expectations, no quarrels and Libya accord <b>rescue</b> G7 summit', 'url': 'https://in.reuters.com/article/g7-summit-idINKCN1RI0KC', 'image': {'thumbnail': {'contentUrl': 'https://www.bing.com/th?id=ON.FCE117A854639A76B4F4BCC8E40B3491&pid=News', 'width': 700, 'height': 493}}, 'description': 'However, it outlined concerns over Iran’s regional and ballistic missile activities, and its <b>human</b> rights record. “We intend to continue our work to counter Iran’s regional proliferation of ...', 'provider': [{'_type': 'Organization', 'name': 'Reuters'}], 'datePublished': '2019-04-06T17:57:00.0000000Z', 'category': 'World'}]}\n"
     ]
    }
   ],
   "source": [
    "new_url = []\n",
    "# def fun(offset, query = \"Human trafficking rescued\"):\n",
    "#     print(\"Offset: \", offset)\n",
    "headers = {\"Ocp-Apim-Subscription-Key\": '3854363bdbdf44a2a93284c624ae2fcc'}\n",
    "params = {\n",
    "    \"q\": \"Human traficking rescued\",\n",
    "    \"textDecorations\": True,\n",
    "    \"textFormat\": \"HTML\",\n",
    "    \"answerCount\": 1000,\n",
    "    \"responseFilter\": \"news\"\n",
    "#     \"offset\": offset\n",
    "}\n",
    "response = requests.get(search_url, headers=headers, params=params)\n",
    "print(response)\n",
    "response.raise_for_status()\n",
    "search_results = response.json()\n",
    "print(search_results)\n",
    "urls = [article['url'] for article in search_results['value']]\n",
    "for u in urls:\n",
    "    if u not in proccesed_urls:\n",
    "        new_url.append(u)"
   ]
  },
  {
   "cell_type": "code",
   "execution_count": 59,
   "metadata": {
    "ExecuteTime": {
     "end_time": "2019-04-09T19:50:45.252528Z",
     "start_time": "2019-04-09T19:50:45.237721Z"
    },
    "scrolled": false
   },
   "outputs": [
    {
     "name": "stdout",
     "output_type": "stream",
     "text": [
      "0   :   https://www.freepressjournal.in/bhopal/human-trafficking-inter-state-gang-busted-minor-girl-rescued/1492311\n",
      "1   :   https://www.thebetterindia.com/178641/maharashtra-ips-hero-officer-missing-children-human-trafficking-india/\n",
      "2   :   https://www.hindustantimes.com/ranchi/31-girls-3-boys-rescued-2-suspected-human-traffickers-held-in-j-khand/story-j7jtM1FaT9jyvFR5f3Ib1O.html\n",
      "3   :   https://www.aninews.in/news/national/general-news/human-trafficking-dcw-rescues-12-nepali-girls20190402040042/\n",
      "4   :   http://www.newindianexpress.com/cities/delhi/2019/apr/02/human-trafficking-survivor-comes-to-aid-of-12-nepali-origin-girls-in-national-capital-1958937.html\n",
      "5   :   https://timesofindia.indiatimes.com/city/hyderabad/international-human-trafficking-racket-busted/articleshow/68695299.cms\n",
      "6   :   https://timesofindia.indiatimes.com/city/thane/woman-auto-driver-held-for-sex-racket-two-rescued/articleshow/68694364.cms\n",
      "7   :   https://english.newstracklive.com/news/child-laborers-from-mp-bihar-rescued-from-danapursecunderabad-express-mc16-nu-1004941-1.html\n",
      "8   :   https://www.tribuneindia.com/news/punjab/five-children-rescued-from-bangle-factory/749783.html\n",
      "9   :   https://in.reuters.com/article/g7-summit-idINKCN1RI0KC\n"
     ]
    }
   ],
   "source": [
    "for i in range(len(new_url)):\n",
    "    print(\"{0}   :   {1}\".format(i, new_url[i]))"
   ]
  },
  {
   "cell_type": "code",
   "execution_count": 60,
   "metadata": {
    "ExecuteTime": {
     "end_time": "2019-04-09T19:50:50.671723Z",
     "start_time": "2019-04-09T19:50:50.660361Z"
    }
   },
   "outputs": [],
   "source": [
    "search_results['value']\n",
    "urls = [article['url'] for article in search_results['value']]"
   ]
  },
  {
   "cell_type": "code",
   "execution_count": 148,
   "metadata": {
    "ExecuteTime": {
     "end_time": "2019-04-01T18:54:30.904702Z",
     "start_time": "2019-04-01T18:54:29.829126Z"
    }
   },
   "outputs": [
    {
     "name": "stdout",
     "output_type": "stream",
     "text": [
      "0   :   https://www.nairaland.com/5111055/three-unilag-students-develop-software\n",
      "1   :   https://www.sunstar.com.ph/article/1799619\n",
      "2   :   https://wbco.com/local/human-trafficking-discussed-at-crawford-conversation/\n",
      "3   :   https://www.unimondo.org/Blog/Other-News-Voices-Against-the-Tide/Human-Trafficking-Rohingyas-faced-horrific-crimes\n",
      "4   :   https://www.yourcentralvalley.com/news/fresno-s-fight-against-human-trafficking-intensifies-with-mayor-s-initiative/1881678939\n",
      "5   :   https://www.bendbulletin.com/home/7054341-151/two-massage-parlors-raided-in-springfield\n",
      "6   :   https://news.uark.edu/articles/46635/advocacy-event-shines-light-on-human-trafficking-modern-day-slavery\n",
      "7   :   https://www.politico.eu/article/europe-deadly-migration-strategy-leaked-documents/\n",
      "8   :   https://nairobinews.nation.co.ke/news/eritreans-rescued-human-traffickers\n",
      "9   :   https://www.registerguard.com/news/20190331/two-massage-parlors-raided-in-springfield-three-arrested\n",
      "10   :   https://www.standardmedia.co.ke/article/2001318902/human-trafficking-syndicate-busted-8-rescued\n",
      "11   :   https://citizentv.co.ke/news/8-eritreans-rescued-from-human-trafficking-racket-in-isiolo-238414/\n",
      "12   :   https://www.kxan.com/news/national-news/fire-destroys-milwaukeearea-apartment-building-14-rescued/1888155434\n",
      "13   :   https://www.thedailystar.net/editorial/news/crimes-the-rohingya-camps-1722538?bcmt=1\n",
      "14   :   https://punchng.com/air-peace-naptip-move-against-human-trafficking/\n",
      "15   :   http://www.daily-sun.com/post/381380/22-Rohingyas-7-Bangladeshi-rescued-while-trafficking\n",
      "16   :   https://www.timesofmalta.com/articles/view/20190330/local/migrant-ship-captain-could-face-trafficking-charges.705904\n",
      "17   :   https://www.nola.com/news/2019/03/human-trafficking-cases-in-louisiana-keep-increasing-according-to-report.html\n",
      "18   :   https://www.the-star.co.ke/news/2019-03-30-three-traders-charged-with-human-trafficking/\n",
      "19   :   https://www.bucyrustelegraphforum.com/story/news/2019/03/29/crawford-conversation-panelists-human-traffickers-prey-vulnerable/3309246002/\n",
      "20   :   https://citizen.co.za/news/news-africa/2108268/kenyan-police-rescue-25-female-victims-of-human-trafficking/\n",
      "21   :   https://howng.com/unilag-students-win-un-hackathon4justice-for-developing-software-to-tackle-human-trafficking/\n",
      "22   :   https://www.azfamily.com/news/us_world_news/police--year-old-man-arrested-for-child-trafficking-beat/article_79217e79-97dc-5714-b999-69fc9721b896.html\n",
      "23   :   https://leadership.ng/2019/03/28/naptip-raids-hotel-over-human-trafficking/\n",
      "24   :   https://leadership.ng/2019/03/29/students-develop-software-to-unmask-traffickers/\n",
      "25   :   https://www.dailymail.co.uk/news/article-6864603/Debt-ridden-couple-sells-twins-separate-families-14-000-pay-loan-sharks.html\n",
      "26   :   https://www.freepressjournal.in/bhopal/human-trafficking-inter-state-gang-busted-minor-girl-rescued/1492311\n",
      "27   :   https://www.tribuneindia.com/news/punjab/five-children-rescued-from-bangle-factory/749783.html\n",
      "28   :   https://www.thisdaylive.com/index.php/2019/03/29/unilag-students-develop-software-to-unmask-human-traffickers/\n",
      "29   :   https://english.newstracklive.com/news/child-laborers-from-mp-bihar-rescued-from-danapursecunderabad-express-mc16-nu-1004941-1.html\n",
      "30   :   https://timesofindia.indiatimes.com/city/nagpur/35-children-from-bihar-mp-rescued-from-danapur-secunderabad-express/articleshow/68587240.cms\n",
      "31   :   https://kractivist.org/im-a-sex-worker-and-a-feminist-fighting-for-sex-worker-rights-in-argentina/\n",
      "32   :   https://timesofindia.indiatimes.com/city/kolkata/2-missed-calls-2-years-apart-let-2-trafficked-women-trap-their-seller/articleshow/68542564.cms\n",
      "33   :   https://www.businessinsider.in/i-spent-a-day-with-the-us-coast-guard-in-the-port-of-miami-where-units-search-for-drug-smugglers-and-unauthorized-migrants/articleshow/68530544.cms\n",
      "34   :   https://in.news.yahoo.com/italys-salvini-migrant-boat-stand-off-161126652.html\n"
     ]
    }
   ],
   "source": [
    "for i, x in enumerate(urls):\n",
    "    print(\"{0}   :   {1}\".format(i, x))"
   ]
  },
  {
   "cell_type": "code",
   "execution_count": 134,
   "metadata": {
    "ExecuteTime": {
     "end_time": "2019-04-01T18:48:29.915061Z",
     "start_time": "2019-04-01T18:48:28.286944Z"
    }
   },
   "outputs": [],
   "source": [
    "descriptions = [article[\"description\"] for article in search_results[\"value\"]]"
   ]
  },
  {
   "cell_type": "code",
   "execution_count": 135,
   "metadata": {
    "ExecuteTime": {
     "end_time": "2019-04-01T18:48:31.216957Z",
     "start_time": "2019-04-01T18:48:29.925554Z"
    }
   },
   "outputs": [
    {
     "data": {
      "text/html": [
       "<table><tr><td>Prosecutors charged New England Patriots owner Robert Kraft with two counts of soliciting prostitution at a Florida spa last February—one of 25 people <b>caught</b> in a <b>human</b> <b>trafficking</b> probe. Kraft is a Trustee Associate of Boston College and serves on the ...</td></tr>\n",
       "<tr><td>Indeed, just a day before Mr. Trump made the comments, the United States signed a border security agreement with the three Central American governments intended to increase cooperation against <b>human</b> <b>trafficking</b> ... The decision also <b>caught</b> Mexico off ...</td></tr>\n",
       "<tr><td>She cited local newspaper reports that suggested the problem is here, starting with a September 2017 headline: &quot;Nine men <b>caught</b> in <b>human</b> <b>trafficking</b> bust.&quot; One of the men was from Crawford County. She also cited the number of drug possession indictments ...</td></tr>\n",
       "<tr><td>Here, it was literally true that Kraft was one man <b>caught</b> in a surveillance operation of spas that law enforcement had suspected of <b>human</b> sex <b>trafficking</b>. However, Kraft had nothing to do with <b>trafficking</b> (and, as it has turned out, it doesn’t appear ...</td></tr>\n",
       "<tr><td>In Israel, Benjamin Netanyahu, <b>caught</b> between the vice grip of anti-immigrant demands ... Under intense pressure from the EU, Niger passed the anti-<b>human</b> <b>trafficking</b> law in 2015, allowing its military to arrest and jail migrant smugglers, and the ...</td></tr>\n",
       "<tr><td>I believe it is <b>human</b> <b>trafficking</b>,” Snyder told Contact 5 ... Wait eight months until I <b>caught</b> “some rich, some ordinary” or “respected family men” before I sent a strike team in to kick the fucking doors down and rescue these women, and ...</td></tr>\n",
       "<tr><td>The Minnesota Bureau of Criminal Apprehension <b>Human</b> <b>Trafficking</b> Task Force ... Shank says the truck rolled over and apparently <b>caught</b> fire after the crash. No one was injured. If you’re in the market for a new home in the Twin Cities area, inventory ...</td></tr>\n",
       "<tr><td>Police allege Kraft was <b>caught</b> on video paying for and receiving sex acts ... Additionally, Kraft and his attorney asserted that there is no probable cause finding any <b>human</b> <b>trafficking</b> crimes under Florida law. “Beyond outright misrepresentations ...</td></tr>\n",
       "<tr><td>Police have rescued 25 women suspected to be victims of <b>human</b> <b>trafficking</b> in Gwa Kairu in Kiambu County. In a raid that <b>caught</b> the suspects by surprise, the officers drawn from the Transnational ...</td></tr>\n",
       "<tr><td>Traffickers often prey on lone children <b>caught</b> up in chaotic scenes such ... They can easily fall victim to sexual violence or <b>human</b> <b>trafficking</b>. We are aware and very concerned about it.&quot;</td></tr>\n",
       "<tr><td>TALLAHASSEE, Fla. (CNS) – An amendment to a <b>human</b> <b>trafficking</b> bill approved Tuesday requires that people <b>caught</b> in a prostitution ring face a mandatory 10-day jail sentence. Sponsor Representative Toby Overdorf hopes jail time will be a deterrent.</td></tr>\n",
       "<tr><td>TALLAHASSEE, Fla. (CAPITOL NEWS SERVICE) - An amendment to a <b>human</b> <b>trafficking</b> bill approved Tuesday requires that Johns <b>caught</b> in a prostitution ring like the one uncovered in South Florida that snared billionaire football owner Robert Kraft, face a ...</td></tr>\n",
       "<tr><td>An amendment to a <b>human</b> <b>trafficking</b> bill approved Tuesday requires that Johns <b>caught</b> in a prostitution ring like the one uncovered in South Florida that snared billionaire football owner Robert Kraft, face a mandatory ten-day jail sentence.</td></tr>\n",
       "<tr><td><b>Human</b> <b>trafficking</b> is a vile criminal enterprise that brings in ... all of us need to learn how to spot the signs of sex slavery and show the courage to help those <b>caught</b> in a life of despair. Most North Texans would be surprised to learn that the battle ...</td></tr>\n",
       "<tr><td>Questions loom on whether police have found any evidence of <b>human</b> <b>trafficking</b>. Prostitution charges are pending ... after another sex-oriented encounter <b>caught</b> on video, he paid a woman with a $100 bill and was out the door by 11:13 a.m., according to ...</td></tr>\n",
       "<tr><td>One of the bills would also urge more public awareness signs about <b>human</b> <b>trafficking</b> to be posted at specific locations, like strip clubs. Because local matters, 47 ABC <b>caught</b> up with Senator Ernesto Lopez who says this issue cuts across demographic ...</td></tr>\n",
       "<tr><td>YOUNGSTOWN, Ohio (WKBN) - A Portage County man <b>caught</b> up in a sex sting last month remains in jail on a $25,000 bond. Jonathan Brokaw, of Rootstown, is facing charges after members of the Valley&#39;s <b>Human</b> <b>Trafficking</b> Task Force said he tried to set up a ...</td></tr>\n",
       "<tr><td>The level of manipulation may be so great that victims may not even realize they are <b>caught</b> in <b>human</b> <b>trafficking</b>. Corrections is a vital component of the criminal justice system. The role of corrections has grown over the decades from simply housing ...</td></tr>\n",
       "<tr><td>Police Complaints Authority head David West also talked about <b>human</b> <b>trafficking</b> last week, pointing out that he was concerned about the growing incidence of corrupt police officers <b>trafficking</b> in Venezuelan girls. Retired police officer David Rattan was ...</td></tr>\n",
       "<tr><td><b>Human</b> <b>trafficking</b> does take place in Fairfax County ... Frequently, younger victims don’t know what’s happening or how deeply they have been <b>caught</b> in the trafficker’s web until the trafficker will coerce compliance with threats to the victim ...</td></tr>\n",
       "<tr><td>Kraft’s attorney William Burck was more forceful in his public comment Friday. “There was no <b>human</b> <b>trafficking</b> and law enforcement knows it,” he told ESPN’s Adam Schefter. “The video and the traffic stop were illegal and law enforcement just ...</td></tr>\n",
       "<tr><td>ASHWAUBENON, Wis. (CBS 58) -- An international fugitive from China was <b>caught</b> in Wisconsin after a <b>human</b> <b>trafficking</b> investigation. On March 20, investigators in Ashwaubenon learned that a woman ...</td></tr>\n",
       "<tr><td>He is part of the <b>Human</b> <b>Trafficking</b> and Child Exploitation Task Force ... prosecutors said, in an assault that was <b>caught</b> on camera. “(There is) a significant psychological component of what we are investigating,” he said. “They convince their ...</td></tr>\n",
       "<tr><td>Two dozen other men <b>caught</b> up in the probe were similarly ... things that an investigation premised on probing alleged <b>human</b> <b>trafficking</b> at the Orchids spa has yet to lead to any <b>trafficking</b> ...</td></tr>\n",
       "<tr><td>It’s been a few weeks since the news broke of Robert Kraft and dozens of other men being <b>caught</b> up in a sweep of prostitution and <b>human</b> <b>trafficking</b> massage parlors around the Jupiter, Florida area. The New England Patriots owner had yet to speak out on ...</td></tr>\n",
       "<tr><td>“If there was <b>human</b> <b>trafficking</b>, these men would face more than misdemeanors ... when Mr. Kraft allegedly was twice <b>caught</b> on tape getting massages. Those video cameras may have violated the privacy rights of customers who were not accused of soliciting ...</td></tr>\n",
       "<tr><td>Sheila Roemeling, Executive Director of Fresh Start Healing Heart, works daily to combat <b>human</b> <b>trafficking</b> and provide help to victims ... but that they&#39;ll do where they don&#39;t think they&#39;ll be <b>caught</b>,” she explained. Roemeling added that many victims ...</td></tr>\n",
       "<tr><td>This is part of a series of features from across the globe on <b>human</b> <b>trafficking</b>. IPS coverage is supported by ... and then work in the fields all day. Those who were <b>caught</b> trying to escape usually faced even more abuse. Mai Mai Tsawm, who was trafficked ...</td></tr>\n",
       "<tr><td>Going to the heart of the issue, Lieberman describes her concerns as follow: I started with two questions whose answers were surprisingly hard to find: How many people have been charged with <b>human</b> <b>trafficking</b> in the recent Florida stings that <b>caught</b> Kraft?</td></tr>\n",
       "<tr><td>&quot;Even if traffickers are <b>caught</b> and convicted ... women&#39;s and LGBT+ rights, <b>human</b> <b>trafficking</b>, property rights, and climate change. Visit http://news.trust.org)</td></tr>\n",
       "<tr><td>Childs, a longtime Republican donor, cut two checks worth a total of $50,000 to the RNC on February 19, three days before news broke that he was charged with soliciting prostitution at a Florida day spa tied to alleged <b>human</b> <b>trafficking</b>.” “The RNC did ...</td></tr>\n",
       "<tr><td>And in Covington, Kentucky, former Judge Tim Nolan was convicted and sentenced to 20 years for <b>human</b> <b>trafficking</b> in 2018 after being <b>caught</b> coercing drug-addicted women to stay on his property in exchange for sex. “They may think it is voluntary ...</td></tr>\n",
       "<tr><td>More: Care about <b>human</b> <b>trafficking</b>? This Urbandale man did something about ... You have to make it so risky that people are too afraid to do it or too afraid to get <b>caught</b> … that they don’t do it.” But Markey says to date, most law enforcement ...</td></tr>\n",
       "<tr><td>The gang made the international airport at Shamshabad here as its main base but was <b>trafficking</b> people from other major international airports of the country. The special teams, which <b>caught</b> the gang, stumbled upon evidence suggesting the complicity of a ...</td></tr>\n",
       "<tr><td>Victims of <b>human</b> <b>trafficking</b> in New Hampshire are more likely to have grown ... “Often times these people are <b>caught</b> in a sting and when you really dig into it, you learn that the person charged with prostitution was, in fact, being trafficked for ...</td></tr>\n",
       "<tr><td>Those who attended the informational meeting at John Wallace Middle School <b>caught</b> a glimpse of the chair Schmidt was sitting in when he first learned about <b>human</b> <b>trafficking</b> in his North Carolina home, changing his life forever. “When I heard the term I ...</td></tr>\n",
       "<tr><td>The Miami Herald reports that Li Yang, the founder of a chain of day spas that have been <b>caught</b> up in a <b>human</b> <b>trafficking</b> investigation, attended Trump’s Super Bowl party at his Mar-a-Lago resort in February. During the party, Li Yang even sat down next ...</td></tr>\n",
       "<tr><td>A Washington, D.C., man <b>caught</b> in Frederick forcing a teenage girl to do sex ... Vance, 41, pleaded guilty in December to two counts of <b>human</b> <b>trafficking</b> of a minor and one count of <b>human</b> <b>trafficking</b>. Frederick police arrested him almost a year earlier ...</td></tr>\n",
       "<tr><td>It’s not every day that a billionaire owner of a championship National Football League team comes to Jupiter and gets charged with a sex crime, let alone allegedly gets <b>caught</b> on videotape ... for Florida: <b>human</b> <b>trafficking</b> and its role in our state ...</td></tr>\n",
       "<tr><td>A deacon working at the Diocese of Alexandria-Cornwall has been suspended from ministry after he was arrested in last week’s <b>human</b> <b>trafficking</b> sweep in Vero Beach, Florida. Peter McBride, 78, was released on a US$1,000 bond after being charged with ...</td></tr>\n",
       "<tr><td>He was <b>caught</b> on video visiting the spa Jan. 19 and 20. The NFL has said it is &quot;seeking a full understanding of the facts&quot; before considering any disciplinary action. &gt;&gt;VIDEO <b>Human</b> <b>trafficking</b> &#39;evil in our midst,&#39; Aronberg says in announcing prostitution ...</td></tr>\n",
       "<tr><td>Kraft was allegedly <b>caught</b> on surveillance video paying cash for sexual ... only to be forced to work in the massage parlor.” Saad says <b>human</b> <b>trafficking</b> is not a victimless crime. “I’ve heard that said before, that, ‘We have two consenting adults ...</td></tr>\n",
       "<tr><td>... the agency has received criticism for its propensity to detain and deport victims of <b>human</b> <b>trafficking</b>, along with other undocumented immigrants <b>caught</b> in its operations. The National <b>Human</b> <b>Trafficking</b> Hotline attempts to ask callers for their ...</td></tr>\n",
       "<tr><td>and there’s very little chance of getting <b>caught</b>.” Local communities are not immune. Police in the Merrimack Valley have made several arrests in recent years where <b>human</b> <b>trafficking</b> played a significant role, most notably a massage parlor in Lawrence ...</td></tr>\n",
       "<tr><td>They&#39;re oftentimes in plain public view, strip malls, shopping centers, and there&#39;s very little chance of getting <b>caught</b>.&quot; In recent years, police in the Merrimack Valley have made several prostitution busts in which <b>human</b> <b>trafficking</b> played a role.</td></tr>\n",
       "<tr><td>They’re oftentimes in plain public view, strip malls, shopping centers, and there’s very little chance of getting <b>caught</b>.” In recent years, police in the Merrimack Valley have made several prostitution busts in which <b>human</b> <b>trafficking</b> played a role.</td></tr>\n",
       "<tr><td><b>Human</b> <b>trafficking</b> continues to grow with no demographic immune to being <b>caught</b> up in the sex trade, labour injustice or forced marriage. Therefore <b>Human</b> <b>Trafficking</b> Awareness Day was acknowledged across Ontario on Friday — designed to recognize survivors ...</td></tr>\n",
       "<tr><td>New England Patriots owner Robert Kraft was <b>caught</b> in a Palm Beach County-wide <b>human</b> <b>trafficking</b> and prostitution crackdown on Friday, and new details regarding just what was happening at the location in question are shocking. According to Perry Russom of ...</td></tr>\n",
       "<tr><td>READ MORE: Man and woman arrested in <b>human</b>-<b>trafficking</b> probe across southern Ontario “The victimization goes on for sometimes years” before it is <b>caught</b>, Dandurand noted. “<b>Human</b> <b>trafficking</b> in general does not come to the attention of police ...</td></tr>\n",
       "<tr><td>John McCain‘s widow Cindy McCain has been busted telling some PEAK white woman lies and BOY is it a doozy. According to an AZFamily report, Cindy McCain told local radio station KTAR that she stopped a <b>human</b> <b>trafficking</b> operation that was taking place ...</td></tr>\n",
       "<tr><td>Operation Reclaim and Rebuild is a mission to end <b>human</b> <b>trafficking</b> and help victims <b>caught</b> in the system. &quot;A lot of them do what they do for survival,&quot; said Ray Bercini, Los Angeles County sheriff&#39;s detective. The statewide operation spanned three days ...</td></tr>\n",
       "<tr><td>Operation Reclaim and Rebuild is a mission to end <b>human</b> <b>trafficking</b> and help victims <b>caught</b> in the system. &quot;A lot of them do what they do for survival,&quot; said Ray Bercini, Los Angeles County sheriff&#39;s detective. The statewide operation spanned three days ...</td></tr>\n",
       "<tr><td>Operation Reclaim and Rebuild is a mission to end <b>human</b> <b>trafficking</b> and help victims <b>caught</b> in the system. &quot;A lot of them do what they do for survival,&quot; said Ray Bercini, Los Angeles County sheriff&#39;s detective. RELATED: Owners of daycare and senior centers ...</td></tr>\n",
       "<tr><td>Movement lessens the chances of them getting <b>caught</b>. Pray that the <b>Human</b> <b>Trafficking</b> Hotline number and materials can be placed in Rest Areas and that security is trained and placed at all rest areas. • Motels &amp; Hotels: Victims are often advertised on ...</td></tr>\n",
       "<tr><td>&quot;One of the reasons <b>human</b> <b>trafficking</b> has escalated exponentially is that there is so much reward and there’s very little risk … there is very little chance they’ll get <b>caught</b>, and if they do a lot of times they’re not getting prosecuted,&quot; Reyes said.</td></tr>\n",
       "<tr><td>&quot;One of the reasons <b>human</b> <b>trafficking</b> has escalated exponentially is that there is so much reward and there’s very little risk … there is very little chance they’ll get <b>caught</b>, and if they do a lot of times they’re not getting prosecuted,&quot; Reyes said.</td></tr>\n",
       "<tr><td>The post, which has since been made private, was shared by many and <b>caught</b> the attention of Schauf ... Closs has caused parents to be more scared of stranger abductions and <b>human</b> <b>trafficking</b>, but these incidents are uncommon and they rarely happen in ...</td></tr>\n",
       "<tr><td>Lily Christopherson, the Bonney Lake teen who went missing for nearly a month this spring and got <b>caught</b> up with a <b>human</b> <b>trafficking</b> ring, is speaking out for the first time. She also wants to help other girls who may find themselves in the same situation.</td></tr>\n",
       "<tr><td>A man who was on the run from law enforcement after being <b>caught</b> participating in <b>human</b> sex <b>trafficking</b> operation has turned himself into authorities, according to St. Pete Police. A trailer where young victims were living is in St. Petersburgh ...</td></tr>\n",
       "<tr><td>Almost every country in the world has passed legislation to criminalize <b>human</b> <b>trafficking</b>, though more attention needs to be paid to protecting the victims <b>caught</b> up in the <b>trafficking</b>. Data collection — which will aid catching traffickers and in ...</td></tr>\n",
       "<tr><td>“<b>Human</b> <b>trafficking</b> is probably one of the fastest growing criminal ... before they know it, they’re <b>caught</b>,” says Picou. The sheriff’s office says to call authorities if you see anything suspicious at 1 (888) 373-7888 or go to ...</td></tr>\n",
       "<tr><td>The state’s high court Tuesday upheld a law making it a crime to profit from prostitution, ruling that a man <b>caught</b> in a <b>human</b> <b>trafficking</b> sting by police with $250 in cash in his shoe was a pimp and should be prosecuted as one. In the 7-0 ruling ...</td></tr>\n",
       "<tr><td>Last year a 17-year-old Post Falls girl was <b>caught</b> in a <b>human</b> <b>trafficking</b> ring in the Seattle area before teen Jacob Stuart and his mother, Michelle, helped crack the case when they discovered the clothing the victim was wearing matched that of a girl&#39;s on ...</td></tr>\n",
       "<tr><td>Now more than 40 years later, Niki Rowe Cross is an award-winning public speaker, author, and founder of a non-profit dedicated to speaking out against <b>human</b> <b>trafficking</b> and aiding girls and boys, men and women <b>caught</b> in the horrific grasp of sexual ...</td></tr>\n",
       "<tr><td>During the event, attendees will participate in &quot;<b>Human</b> <b>Trafficking</b> 101,&quot; which is a training for church leaders and faith partners on avenues of ministry and ways to help individuals <b>caught</b> in <b>human</b> <b>trafficking</b>, and will also include a testimony from a ...</td></tr>\n",
       "<tr><td><b>Human</b> <b>trafficking</b> is when an individual is controlled in an aggressive manner, such as violence or coercion, to engage in forced labor, commercial sex, or domestic servitude.[1] The victims, who range in age, background, and gender, are often <b>caught</b> in ...</td></tr>\n",
       "<tr><td><b>Human</b> <b>Trafficking</b> victims can be any age ... Former Navy Seal Craig &quot;Sawman&quot; Sawyer leads operations in CONTRALAND. The rescues are <b>caught</b> on camera along with the arrests. Carlos Herrera presents a young woman&#39;s story of being sold for sex at the age ...</td></tr>\n",
       "<tr><td>With a troubled family life and <b>caught</b> up in drugs and prostitution by the time she was a teenager, Daniels was in and out of courts and jail, trapped in a cycle of <b>human</b> <b>trafficking</b> not so long ago. When she was released from prison on Christmas Day 2015 ...</td></tr>\n",
       "<tr><td>As part of our Selling Girls series, we <b>caught</b> up with the state <b>human</b> <b>trafficking</b> task force as they met Friday to discuss more ways we can help victims and survivors, what progress has been made in the fight, and what still needs to be done. Kathryn ...</td></tr>\n",
       "<tr><td>To combat this epidemic, advocates and legislators have worked tirelessly to pass laws that place more stringent policies on <b>trafficking</b> and stricter penalties when <b>caught</b>. Georgia Legislation to Stop <b>Human</b> <b>Trafficking</b> In 2011, Georgia passed House Bill ...</td></tr>\n",
       "<tr><td>I recently visited the Children&#39;s Assessment Center (CAC) in Houston, Texas, a safe haven for sexually abused children and their families, including those affected by sex <b>trafficking</b>. As I walked past the waiting room of the medical clinic I <b>caught</b> a ...</td></tr>\n",
       "<tr><td>The money is part of Ontario&#39;s Anti-<b>Human</b> <b>Trafficking</b> Community Supports Fund and Indigenous-led Initiatives Fund. &#39;I just want my daughter back&#39;: Sex <b>trafficking</b> victims often <b>caught</b> in vicious cycle trying to escape <b>Human</b> <b>trafficking</b> &#39;huge business here ...</td></tr>\n",
       "<tr><td>“It’s no secret…you need to stay out of Polk County if you’re going to commit crime.” BREAKING: @PolkCoSheriff <b>caught</b> one of his Sgts. In <b>human</b> <b>trafficking</b> sting. He made a deal for $100 for sex. @WFLA pic.twitter.com/E5kyw0EXKQ</td></tr>\n",
       "<tr><td>DETROIT - A fugitive wanted in connection with an alleged <b>human</b> <b>trafficking</b> and drug-dealing operation was arrested in Detroit Wednesday. Members of the Homeland Security Investigations-led Michigan <b>Human</b> <b>Trafficking</b> and Transnational Crimes Task Force ...</td></tr>\n",
       "<tr><td>A child goes missing every 8 minutes in India. The National Crime Bureau data suggests that India is one of the fastest growing regions in terms of <b>human trafficking</b> in the world. Central Minister of State for Women and Child Development Krishna Raj ...</td></tr>\n",
       "<tr><td>Johnston said <b>human</b> <b>trafficking</b> is a very lucrative business. He said some criminals on their first or second convictions who know if they get <b>caught</b> again could face a long sentence, will swap over and begin exploiting children because they know they will ...</td></tr>\n",
       "<tr><td>Ohio, New York, and Georgia followed. &quot;Left unchecked, <b>human trafficking</b> will continue to flourish in environments where traffickers can reap substantial monetary gains with relatively low risk of getting <b>caught</b> or losing profits,&quot;the National <b>Human</b> ...</td></tr>\n",
       "<tr><td>For days, a 14-year-old girl walked around a Fayetteville motel on Skibo Road wearing nothing but a tight shirt and shorts that barely covered her bottom. She didn&#39;t have shoes or any personal belongings. She didn&#39;t talk to anyone. But she hoped a hotel ...</td></tr>\n",
       "<tr><td>A quote that might have worked for me: Are you a teen runaway? Are you <b>caught</b> up in prostitution? The National <b>Human</b> <b>Trafficking</b> Resource Center can help: 1-888-373-7888. Tanya Street agrees that the concept of &quot;getting <b>caught</b> up in prostitution&quot; is a ...</td></tr>\n",
       "<tr><td>This post has been updated. Proving that there is virtually no issue that cannot get mired in partisan combat, an anti-<b>human</b> <b>trafficking</b> bill now under Senate consideration is in limbo after Democrats accused Republicans of sneaking anti-abortion language ...</td></tr>\n",
       "<tr><td>DARPA is creating Memex to scour the Internet in search of information about <b>human</b> <b>trafficking</b>, in particular advertisements used to lure victims into servitude and to promote their sexual exploitation. Much of this information is publically available ...</td></tr>\n",
       "<tr><td>New York State Sen. John DeFrancisco, shown in a 2013 file photo, is critical of the state Assembly for refusing to pass a <b>human</b> <b>trafficking</b> bill that is not tied to a bill about abortion that state Senate Republicans do not support. ALBANY, N.Y. (AP ...</td></tr>\n",
       "<tr><td>ALBANY, N.Y. (AP) -- Unless one side budges, legislative proposals to combat <b>human</b> <b>trafficking</b> and help victims of domestic violence are likely to languish this year because of a standoff between members of the New York state Assembly and Senate.</td></tr>\n",
       "<tr><td>For 25-year-old Israeli Anton Soloviov, the dream of working in Canada turned into a nightmare of <b>human</b> <b>trafficking</b> with threats of deportation ... If we were seen on our phones, we’d be fined. If we were <b>caught</b> talking to each other, we were fined ...</td></tr>\n",
       "<tr><td>Their passports and visas were confiscated. They were given no money for food, so they were forced to eat birds they <b>caught</b> outside their building.&quot; The report reflects increased awareness of <b>human</b> <b>trafficking</b>. &quot;Generally, the issue of <b>human</b> <b>trafficking</b> is ...</td></tr>\n",
       "<tr><td>She was raised in a faith-based home. Yet she became a victim of <b>human</b> <b>trafficking</b>, targeted on her college campus. Even now, she remains <b>caught</b> in the dark, twisted world of those who manipulate others in the lucrative business of sex slavery. Her initial ...</td></tr>\n",
       "<tr><td>Napolitano added that, once victims are identified, her agency can prosecute traffickers and bring justice to thousands <b>caught</b> up in such enterprises. Last year, U.S. Immigration and Custom Enforcement initiated more than 700 <b>human trafficking</b> ...</td></tr>\n",
       "<tr><td>Although there was a time when most shrimp consumed in the United States was <b>caught</b> by shrimpers working the coast ... were paid off—a key criterion used in legal cases to prove <b>human</b> <b>trafficking</b>. The conflict at the Songkhla facility escalated after ...</td></tr>\n",
       "<tr><td>Williams provided an example of how an illegal immigrant could get <b>caught</b> up in <b>human</b> <b>trafficking</b>: Someone may offer them a way to get to America and ensure they have a job. So that person is brought in illegally and forced into servitude through threats ...</td></tr>\n",
       "<tr><td>SAN ANTONIO - After a <b>human</b> <b>trafficking</b> arrest on Thursday, San Antonio police are warning people of the signs to look out for in order to prevent it from happening again. The victim in the case is now safe and sound after police arrested Christopher Jones ...</td></tr>\n",
       "<tr><td>The <b>trafficking</b> of women, men and children is a worldwide crisis. Instances of <b>human</b> <b>trafficking</b>, especially women, increases on Super Bowl Sunday. (Photo, AP) Super Bowl Sunday isn&#39;t just one of the biggest sports days of the year, it&#39;s also one of the ...</td></tr>\n",
       "<tr><td>BOISE — <b>Human</b> <b>trafficking</b>, an often-invisible crime that experts say is more common in Idaho than many people might think, will receive attention in the statehouse again this year as awareness continues to grow across the state. Two pieces of legislation ...</td></tr>\n",
       "<tr><td>The billionaire founder of a Boston-based equity firm joins Patriots owner Robert Kraft as one of the ultra-rich <b>caught</b> up in the months-long police probe of Florida massage parlors, authorities said. John Childs, 77 — of J.W. Childs Associates — is ...</td></tr>\n",
       "<tr><td>Super Bowl Sunday isn&#39;t just one of the biggest sports days of the year, it&#39;s also one of the busiest days for <b>human</b> <b>trafficking</b> in the United States. <b>Human</b> <b>trafficking</b>, which is defined as the act of recruiting, harboring, trans-porting, providing or ...</td></tr>\n",
       "<tr><td>POLK COUNTY, Fla. (WFLA) -- A week-long undercover sting targeting <b>human</b> <b>trafficking</b> and online prostitution in Polk County ended with 277 arrests that included doctors, pharmacists and law enforcement officers. &quot;That&#39;s the most we have ever arrested in ...</td></tr>\n",
       "<tr><td>I was trafficked into Nevada’s legal brothels. Legal prostitution worldwide is known to facilitate <b>human</b> traffickers by giving them legal access to have women be sold for sex while they profit, without the legal risk of getting <b>caught</b>. I am a survivor ...</td></tr>\n",
       "<tr><td>Though many people believe slavery to be a thing from the distant past or award-winning movies, new figures out from the International Labor Organization (ILO) suggest that <b>human</b> <b>trafficking</b>—essentially, coercing people to work under unjust, often ...</td></tr>\n",
       "<tr><td>Robert Kraft is ready to fight it out in court. Over the weekend, Robert Kraft finally spoke out for the first time since news broke of him and dozens of other men being <b>caught</b> up in a sweep of prostitution and <b>human</b> <b>trafficking</b> massage parlors around the ...</td></tr>\n",
       "<tr><td>ST. LOUIS (BP) -- Missouri&#39;s attorney general has drawn support from Southern Baptists for issuing regulations enforcing consumer protection laws to target <b>human</b> traffickers. In April 3 comments made at an undisclosed <b>human</b> <b>trafficking</b> rescue site in the ...</td></tr>\n",
       "<tr><td>LOS ANGELES (WPVI) -- Hidden in plain sight all across California are <b>human</b> traffickers and their victims. Operation Reclaim and Rebuild is a mission to end <b>human</b> <b>trafficking</b> and help victims <b>caught</b> in the system. &quot;A lot of them do what they do for ...</td></tr></table>"
      ],
      "text/plain": [
       "<IPython.core.display.HTML object>"
      ]
     },
     "execution_count": 135,
     "metadata": {},
     "output_type": "execute_result"
    }
   ],
   "source": [
    "from IPython.display import HTML\n",
    "rows = \"\\n\".join(\n",
    "    [\"<tr><td>{0}</td></tr>\".format(desc) for desc in descriptions])\n",
    "HTML(\"<table>\" + rows + \"</table>\")"
   ]
  },
  {
   "cell_type": "code",
   "execution_count": 45,
   "metadata": {
    "ExecuteTime": {
     "end_time": "2019-04-09T19:28:57.347625Z",
     "start_time": "2019-04-09T19:28:55.511841Z"
    }
   },
   "outputs": [
    {
     "ename": "NewsAPIException",
     "evalue": "{'status': 'error', 'code': 'parameterInvalid', 'message': 'You are trying to request results too far in the past. Your plan permits you to request articles as far back as 2019-03-08, but you have requested 2017-12-01. To extend this please upgrade to a paid plan.'}",
     "output_type": "error",
     "traceback": [
      "\u001b[0;31m---------------------------------------------------------------------------\u001b[0m",
      "\u001b[0;31mNewsAPIException\u001b[0m                          Traceback (most recent call last)",
      "\u001b[0;32m<ipython-input-45-36b12b5041a4>\u001b[0m in \u001b[0;36m<module>\u001b[0;34m\u001b[0m\n\u001b[1;32m     17\u001b[0m                                       \u001b[0mto\u001b[0m\u001b[0;34m=\u001b[0m\u001b[0;34m'2017-12-12'\u001b[0m\u001b[0;34m,\u001b[0m\u001b[0;34m\u001b[0m\u001b[0;34m\u001b[0m\u001b[0m\n\u001b[1;32m     18\u001b[0m                                       \u001b[0mlanguage\u001b[0m\u001b[0;34m=\u001b[0m\u001b[0;34m'en'\u001b[0m\u001b[0;34m,\u001b[0m\u001b[0;34m\u001b[0m\u001b[0;34m\u001b[0m\u001b[0m\n\u001b[0;32m---> 19\u001b[0;31m                                       sort_by='relevancy')\n\u001b[0m\u001b[1;32m     20\u001b[0m \u001b[0;34m\u001b[0m\u001b[0m\n\u001b[1;32m     21\u001b[0m \u001b[0;31m# /v2/sources\u001b[0m\u001b[0;34m\u001b[0m\u001b[0;34m\u001b[0m\u001b[0;34m\u001b[0m\u001b[0m\n",
      "\u001b[0;32m~/anaconda3/lib/python3.6/site-packages/newsapi/newsapi_client.py\u001b[0m in \u001b[0;36mget_everything\u001b[0;34m(self, q, sources, domains, from_param, to, language, sort_by, page, page_size)\u001b[0m\n\u001b[1;32m    250\u001b[0m         \u001b[0;31m# Check Status of Request\u001b[0m\u001b[0;34m\u001b[0m\u001b[0;34m\u001b[0m\u001b[0;34m\u001b[0m\u001b[0m\n\u001b[1;32m    251\u001b[0m         \u001b[0;32mif\u001b[0m \u001b[0mr\u001b[0m\u001b[0;34m.\u001b[0m\u001b[0mstatus_code\u001b[0m \u001b[0;34m!=\u001b[0m \u001b[0mrequests\u001b[0m\u001b[0;34m.\u001b[0m\u001b[0mcodes\u001b[0m\u001b[0;34m.\u001b[0m\u001b[0mok\u001b[0m\u001b[0;34m:\u001b[0m\u001b[0;34m\u001b[0m\u001b[0;34m\u001b[0m\u001b[0m\n\u001b[0;32m--> 252\u001b[0;31m             \u001b[0;32mraise\u001b[0m \u001b[0mNewsAPIException\u001b[0m\u001b[0;34m(\u001b[0m\u001b[0mr\u001b[0m\u001b[0;34m.\u001b[0m\u001b[0mjson\u001b[0m\u001b[0;34m(\u001b[0m\u001b[0;34m)\u001b[0m\u001b[0;34m)\u001b[0m\u001b[0;34m\u001b[0m\u001b[0;34m\u001b[0m\u001b[0m\n\u001b[0m\u001b[1;32m    253\u001b[0m \u001b[0;34m\u001b[0m\u001b[0m\n\u001b[1;32m    254\u001b[0m         \u001b[0;32mreturn\u001b[0m \u001b[0mr\u001b[0m\u001b[0;34m.\u001b[0m\u001b[0mjson\u001b[0m\u001b[0;34m(\u001b[0m\u001b[0;34m)\u001b[0m\u001b[0;34m\u001b[0m\u001b[0;34m\u001b[0m\u001b[0m\n",
      "\u001b[0;31mNewsAPIException\u001b[0m: {'status': 'error', 'code': 'parameterInvalid', 'message': 'You are trying to request results too far in the past. Your plan permits you to request articles as far back as 2019-03-08, but you have requested 2017-12-01. To extend this please upgrade to a paid plan.'}"
     ]
    }
   ],
   "source": [
    "from newsapi import NewsApiClient\n",
    "\n",
    "# Init\n",
    "newsapi = NewsApiClient(api_key='a16f4409ce3f4d7f993f60a06f44acf3')\n",
    "\n",
    "# /v2/top-headlines\n",
    "top_headlines = newsapi.get_top_headlines(q='human trafficking rescued',\n",
    "#                                           sources='bbc-news,the-verge',\n",
    "                                          language='en',\n",
    "                                          country='us')\n",
    "\n",
    "# /v2/everything\n",
    "all_articles = newsapi.get_everything(q='human trafficking rescued',\n",
    "#                                       sources='bbc-news,the-verge',\n",
    "#                                       domains='bbc.co.uk,techcrunch.com',\n",
    "                                      from_param='2017-12-01',\n",
    "                                      to='2017-12-12',\n",
    "                                      language='en',\n",
    "                                      sort_by='relevancy')\n",
    "\n",
    "# /v2/sources\n",
    "# sources = newsapi.get_sources()"
   ]
  },
  {
   "cell_type": "code",
   "execution_count": 4,
   "metadata": {
    "ExecuteTime": {
     "end_time": "2019-04-10T05:05:19.455126Z",
     "start_time": "2019-04-10T05:05:19.362213Z"
    }
   },
   "outputs": [],
   "source": [
    "from bs4 import BeautifulSoup\n",
    "import requests\n",
    "import re"
   ]
  },
  {
   "cell_type": "code",
   "execution_count": null,
   "metadata": {},
   "outputs": [],
   "source": [
    "def getLinks(url):\n",
    "    html_page = urllib2.urlopen(url)\n",
    "    soup = BeautifulSoup(html_page)\n",
    "    links = []\n",
    "    for link in soup.findAll('a', attrs={'href': re.compile(\"^http://\")}):\n",
    "        links.append(link.get('href'))\n",
    "    return links"
   ]
  }
 ],
 "metadata": {
  "kernelspec": {
   "display_name": "Python 3",
   "language": "python",
   "name": "python3"
  },
  "language_info": {
   "codemirror_mode": {
    "name": "ipython",
    "version": 3
   },
   "file_extension": ".py",
   "mimetype": "text/x-python",
   "name": "python",
   "nbconvert_exporter": "python",
   "pygments_lexer": "ipython3",
   "version": "3.6.8"
  },
  "latex_envs": {
   "LaTeX_envs_menu_present": true,
   "autoclose": false,
   "autocomplete": true,
   "bibliofile": "biblio.bib",
   "cite_by": "apalike",
   "current_citInitial": 1,
   "eqLabelWithNumbers": true,
   "eqNumInitial": 1,
   "hotkeys": {
    "equation": "Ctrl-E",
    "itemize": "Ctrl-I"
   },
   "labels_anchors": false,
   "latex_user_defs": false,
   "report_style_numbering": false,
   "user_envs_cfg": false
  }
 },
 "nbformat": 4,
 "nbformat_minor": 2
}
